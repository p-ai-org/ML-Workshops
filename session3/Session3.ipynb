{
 "cells": [
  {
   "cell_type": "markdown",
   "metadata": {},
   "source": [
    "## Session 3\n",
    "\n",
    "This is the notebook for the third session of the Spring 2020 [P-ai](http://www.p-ai.org) workshops.\n",
    "It covers regression, classification, and some neural networks.\n",
    "\n",
    "This is adapted from [Aashita Kesharwani's workshop series at Harvey Mudd.](http://www.aashitak.com/ML-Workshops/)\n",
    "\n",
    "## Topics\n",
    "- Linear Regression\n",
    "- Ways to avoid overfitting\n",
    "- Logistic Regression\n",
    "- Decision Trees\n",
    "- k-Nearest Neighbours\n",
    "- Support Vector Machines\n",
    "- Random Forest ensemble\n",
    "- Voting Classifiers\n",
    "- Feedforward Neural Networks\n",
    "\n",
    "## Part 1: Linear Regression\n",
    "- Determining the impact of response variables on the target variable. \n",
    "- Fitting a curve using training data to estimate target variable for unseen data\n",
    "\n",
    "<img src=\"https://upload.wikimedia.org/wikipedia/commons/8/8a/Gaussian_kernel_regression.png\" width=\"300\" height=\"350\" />\n",
    "<p style=\"text-align: center;\"> Regression curve </p> "
   ]
  },
  {
   "cell_type": "markdown",
   "metadata": {},
   "source": [
    "Let's look at an example of linear regression using the [diabetes dataset](https://scikit-learn.org/stable/datasets/index.html#diabetes-dataset) from [sklearn.datasets](https://scikit-learn.org/stable/datasets/index.html). First we import python modules and the dataset:"
   ]
  },
  {
   "cell_type": "code",
   "execution_count": null,
   "metadata": {},
   "outputs": [],
   "source": [
    "import pandas as pd\n",
    "import numpy as np\n",
    "import random\n",
    "\n",
    "import matplotlib.pyplot as plt\n",
    "import seaborn as sns\n",
    "%matplotlib inline\n",
    "\n",
    "import warnings\n",
    "warnings.simplefilter('ignore')\n",
    "\n",
    "from sklearn import datasets\n",
    "diabetes = datasets.load_diabetes()\n",
    "df = pd.DataFrame(data=diabetes.data, columns=diabetes.feature_names)\n",
    "df.head()"
   ]
  },
  {
   "cell_type": "markdown",
   "metadata": {},
   "source": [
    "The dataset has many features (or variables), but we will pick only the BMI so as to be able to plot and visualize the relationship between input and target variables."
   ]
  },
  {
   "cell_type": "code",
   "execution_count": null,
   "metadata": {
    "scrolled": false
   },
   "outputs": [],
   "source": [
    "X = df['bmi'].values\n",
    "Y = diabetes.target\n",
    "\n",
    "plt.scatter(X, Y);\n",
    "plt.xlabel('Body mass index (BMI)');\n",
    "plt.ylabel('Disease progression');"
   ]
  },
  {
   "cell_type": "markdown",
   "metadata": {},
   "source": [
    "We're trying to find the optimal value for the slope and intercept for the line and we are learning from the training examples. Our objective is to minimize the difference between the actual $y$ value and the value predicted using the line. \n",
    "\n",
    "<img src=\"http://www.ken-szulczyk.com/misc/statistics/linear_regression.png\" width=\"300\" height=\"300\" />"
   ]
  },
  {
   "cell_type": "code",
   "execution_count": null,
   "metadata": {},
   "outputs": [],
   "source": [
    "w = 1000\n",
    "b = 10\n",
    "import random\n",
    "random.seed(0)\n",
    "idx = random.sample(range(len(df)), 10)\n",
    "x, y = X[idx], Y[idx]\n",
    "y_pred = w*x + b\n",
    "error = y - y_pred\n",
    "pd.DataFrame({'x': x, 'y': y, 'y_pred': y_pred, \n",
    "              'error': error})"
   ]
  },
  {
   "cell_type": "markdown",
   "metadata": {},
   "source": [
    "The simple linear regression (linear regression with one variable) is formulated as $ y_{pred} = w * x + b $.\n",
    "\n",
    "To find the optimal values for $w$ and $b$, we need to quantify the cost function (also known as the error function or the loss function) that we can minimize. \n",
    "\n",
    "* How do we formulate it?\n",
    "* Should we sum up the errors? If not, why?\n",
    "\n",
    "The simple linear regression model uses the mean-squared error (MSE) as the cost function. We square the errors and then take their average.\n",
    "\n",
    "$$ J = \\frac{1}{2 n} \\sum_{i=1}^n (y^{(i)} - y_{pred}^{(i)})^2 $$\n",
    "\n",
    "The [gradient descent algorithm](https://machinelearningmastery.com/gradient-descent-for-machine-learning/) is used to update the weights iteratively in the direction of the steepest descent of the cost function. \n",
    "\n",
    "$$ w := w - \\alpha \\nabla J $$\n",
    "\n",
    "where $\\nabla J$ is the gradient of the cost function $J$ and $\\alpha$ is the learning rate that determines the size of steps that we take descending on the path of gradient.\n",
    "\n",
    "<img src=\"https://rasbt.github.io/mlxtend/user_guide/general_concepts/gradient-optimization_files/ball.png\" width=\"350\" height=\"450\" />\n",
    "<p style=\"text-align: center;\"> Minimizing the cost function using gradient descent </p> \n",
    "\n",
    "\n",
    "To derive the formula for updating weights using gradient descent, we first substitute $ y_{pred}^{(i)} = w * x^{(i)}+b $ in $J$ to get\n",
    "\n",
    "$$ J = \\frac{1}{2 n} \\sum_{i=1}^n (y^{(i)} - (w * x^{(i)}+b))^2 $$\n",
    "\n",
    "Then we take the partial derivative, \n",
    "$$ \\frac{\\partial J}{\\partial w} = \\frac{1}{n} \\sum_{i=1}^n (y^{(i)} - y_{pred}^{(i)})   \\ x^{(i)} $$\n",
    "Thus, we get\n",
    "$$ w := w - \\alpha \\frac{1}{n} \\sum_{i=1}^n (y^{(i)} - y_{pred}^{(i)})   \\ x^{(i)} $$\n",
    "Similarly,\n",
    "$$ b := b - \\alpha \\frac{1}{n} \\sum_{i=1}^n (y^{(i)} - y_{pred}^{(i)})   $$\n",
    "\n",
    "To summarize, we defined a cost function to quantify the error in predicting outputs and then we update the weights so as to minimize the cost in the fastest way with the help of gradient descent algorithm.\n",
    "\n",
    "The same formulation and understanding can be extended to linear regression with more than one variable, say $x_1, x_2, \\dots, x_n$ with the equation $ y_{pred} = b + w_1 * x_1 + w_2 * x_2 + \\cdots + w_n * x_n$. And we estimate the weights $w_1, w_2, \\dots, w_n$ corresponding to each variable as well as the intercept."
   ]
  },
  {
   "cell_type": "markdown",
   "metadata": {},
   "source": [
    "Scikit-learn has an implementation of the linear regression as demonstrated below. First we import the function [LinearRegression](https://scikit-learn.org/stable/modules/generated/sklearn.linear_model.LinearRegression.html) and then initialize the regressor."
   ]
  },
  {
   "cell_type": "code",
   "execution_count": null,
   "metadata": {},
   "outputs": [],
   "source": [
    "from sklearn.linear_model import LinearRegression\n",
    "lin_reg = LinearRegression()"
   ]
  },
  {
   "cell_type": "markdown",
   "metadata": {},
   "source": [
    "Then we train the regressor using the `fit()` method on the smaller set of 10 data points."
   ]
  },
  {
   "cell_type": "code",
   "execution_count": null,
   "metadata": {},
   "outputs": [],
   "source": [
    "x = x.reshape(-1, 1)\n",
    "lin_reg.fit(x, y)"
   ]
  },
  {
   "cell_type": "code",
   "execution_count": null,
   "metadata": {},
   "outputs": [],
   "source": [
    "w = lin_reg.coef_[0]\n",
    "b = lin_reg.intercept_\n",
    "w, b"
   ]
  },
  {
   "cell_type": "code",
   "execution_count": null,
   "metadata": {},
   "outputs": [],
   "source": [
    "def plot_line(w, b):\n",
    "    x_values = np.linspace(X.min(), X.max(), 100)\n",
    "    y_values = w*x_values + b\n",
    "    plt.plot(x_values, y_values, 'r-')\n",
    "\n",
    "plt.scatter(x, y);\n",
    "plot_line(w, b);"
   ]
  },
  {
   "cell_type": "markdown",
   "metadata": {},
   "source": [
    "Next, we train the regressor on the entire dataset and fit a line."
   ]
  },
  {
   "cell_type": "code",
   "execution_count": null,
   "metadata": {},
   "outputs": [],
   "source": [
    "X = X.reshape(-1, 1)\n",
    "lin_reg.fit(X, Y)\n",
    "w = lin_reg.coef_[0]\n",
    "b = lin_reg.intercept_\n",
    "plt.scatter(X, Y);\n",
    "plot_line(w, b);"
   ]
  },
  {
   "cell_type": "markdown",
   "metadata": {},
   "source": [
    "The feature BMI does not seem to possess a linear relationship with the disease progression. The coefficient of determination (denoted by $R^2$) is a statistical measure of how close the data are to the fitted regression line and it can be calculated using `score()` method."
   ]
  },
  {
   "cell_type": "code",
   "execution_count": null,
   "metadata": {},
   "outputs": [],
   "source": [
    "lin_reg.score(X, Y)"
   ]
  },
  {
   "cell_type": "markdown",
   "metadata": {},
   "source": [
    "So, the R-sqaured is around 34%, which is somewhat low.\n",
    "\n",
    "$R^2$ is one of the metric for evaluating regression models. Following are some data points plots for demonstration, the first two have $R^2$ equal to 1 and the last two with $R^2$ equal to 0.\n",
    "\n",
    "\n",
    "<div style=\"display:flex\">\n",
    "     <div style=\"flex:1;padding-right:5px;\">\n",
    "          <img src=\"http://www.ken-szulczyk.com/misc/statistics/correlation_01.gif\" width=\"200\" height=\"200\">\n",
    "     </div>\n",
    "     <div style=\"flex:1;padding-left:5px;\">\n",
    "          <img src=\"http://www.ken-szulczyk.com/misc/statistics/correlation_02.gif\" width=\"200\" height=\"200\">\n",
    "     </div>\n",
    "     <div style=\"flex:1;padding-left:5px;\">\n",
    "          <img src=\"http://www.ken-szulczyk.com/misc/statistics/correlation_03.gif\" width=\"400\" height=\"400\">\n",
    "     </div>\n",
    "</div>\n"
   ]
  },
  {
   "cell_type": "markdown",
   "metadata": {},
   "source": [
    "## Classification: \n",
    "- Predicting a label to classify the data points.\n",
    "- Finding a decision boundary using a labeled training dataset to determine labels for unseen data.\n",
    "\n",
    "An example of binary classification algorithm: Logistic regression - separates the classes using a linear boundary \n",
    "\n",
    "<img src=\"https://camo.githubusercontent.com/f663cd4f29335972950dded4d422c07aeee8af55/68747470733a2f2f63646e2d696d616765732d312e6d656469756d2e636f6d2f6d61782f313630302f312a34473067737539327250684e2d636f397076315035414032782e706e67\" width=\"300\" height=\"350\" />\n",
    "<p style=\"text-align: center;\"> Logistic Regression classifier </p>"
   ]
  },
  {
   "cell_type": "markdown",
   "metadata": {},
   "source": [
    "Three classifiers A, B and C are trained on a given labeled dataset. The accuracy of the trained classifiers in predicting the labels correctly on the same dataset is as follows.\n",
    "\n",
    "|Models | Accuracy| \n",
    "|---|---|\n",
    "| Model A | 90%|\n",
    "| Model B | 80%|\n",
    "| Model C | 70%|\n",
    "\n",
    "Clearly, model A is better at predicting labels for the training data than model B and C. Do you think model A will do a better job in predicting labels for yet unseen data as well?\n",
    "\n",
    "To answer this question, let us first briefly overwiew the learning process for logistic classifiers.\n",
    "\n",
    "It will be helpful to build our understanding of the learning process based on either the logistic classifier or the linear regression. When the neural networks are pared-down to a single layer with the commonly used logistic sigmoid function as the activation function, then what we get is a logistic classifier. These algorithms, that is logistic/linear regression and simple neural networks, are called parametric machine learning algorithms. In the context of parameteric algorithms, let us think about the following questions related to the learning process. "
   ]
  },
  {
   "cell_type": "markdown",
   "metadata": {},
   "source": [
    "#### What does the machine learn?\n",
    "\n",
    "Answer: Model parameters (or weights) specific for each classification/regression algorithm.\n",
    "\n",
    "#### How does the machine learn the parameters (or weights)?\n",
    "\n",
    "Model parameters (or weights) are updated to keep on ***minimizing the cost function*** iteratively using the training data. The cost has distinctive mathematical formulations for various algorithms but the gist of the learning process is the same.\n"
   ]
  },
  {
   "cell_type": "markdown",
   "metadata": {},
   "source": [
    "#### Cost function  \n",
    "* For regression: Measures the difference between the predicted output and the true output in the ***training datset***. \n",
    "* For classification: Measures the error in classifying examples in the ***training dataset***. "
   ]
  },
  {
   "cell_type": "markdown",
   "metadata": {},
   "source": [
    "***When to stop the iterative learning process? Until the cost function has reached its minimum value?*** "
   ]
  },
  {
   "cell_type": "markdown",
   "metadata": {},
   "source": [
    "To answer the question, let us consider this binary classification problem with two variables (features). \n",
    "<img src=\"https://upload.wikimedia.org/wikipedia/commons/1/19/Overfitting.svg\" width=\"250\" height=\"250\" />\n",
    "\n",
    "* Which of the two decision boundaries (black or green) will have a lower value for the cost function?\n",
    "* Which decision boundary would you prefer for classifying the unseen examples?\n",
    "\n",
    "Since the cost function is calculated solely based on the training dataset, minimizing it too much might mean that the model do not generalize well to unseen examples. This is called overfitting. "
   ]
  },
  {
   "cell_type": "markdown",
   "metadata": {},
   "source": [
    "***Over-fitting and under-fitting to the training set***  \n",
    "The models can over-train on a dataset, that is they learn the dataset so well that they do not generalize well to the examples outside of that dataset. \n",
    "\n",
    "If we try to fit too complex of a curve as the decision boundary separating the classes and we don't have enough training examples to estimate the parameters for the curve, then we suffer from over-fitting.\n",
    "\n",
    "On the other hand, if we try separating the classes with an over-simplified curve as the decision boundary and we have enough training examples to estimate a curve that would be a better fit, then we suffer from under-fitting. \n",
    "\n",
    "<img src=\"https://vitalflux.com/wp-content/uploads/2015/02/fittings.jpg\" width=\"600\" height=\"800\" />\n",
    "\n",
    "How do we know whether our model is overfitting or underfitting to the training set?\n",
    "\n",
    "Answer: At the beginning, we save some examples as the validation set and use it to test the performance of the model. \n",
    "\n",
    "|Models | Accuracy on the training set | Accuracy on the validation set | \n",
    "|---|---|---|\n",
    "| Model A | 90%| 70% |\n",
    "| Model B | 80%| 75% |\n",
    "| Model C | 70%| 65% |\n",
    "\n",
    "* With this additional information, can you guess which model will likely perform better for the unseen data?\n",
    "* Which of these three models would you suspect for overfitting to the training data?\n",
    "* Which of these three models would you suspect for underfitting to the training data?\n",
    "\n",
    "The problem for over-fitting and under-fitting and the underlying reasons of model complexity is the same for regression as well.\n",
    "\n",
    "<img src=\"https://docs.aws.amazon.com/machine-learning/latest/dg/images/mlconcepts_image5.png\" width=\"600\" height=\"800\" />\n",
    "\n",
    "#### Key take-aways so far:\n",
    "- Always save some examples from the datasets for testing model performance.\n",
    "- Pay attention to the model performance on the validation set rather than solely on the training set.\n",
    "- Watch out for both under-fitting and over-fitting."
   ]
  },
  {
   "cell_type": "markdown",
   "metadata": {},
   "source": [
    "\n",
    "\n",
    "#### How to address overfitting?\n",
    "- Reduce the number of features \n",
    "    - Discard some features\n",
    "    - Dimensionality reduction techniques such PCA, LDA, etc.\n",
    "- Simplify the model (by tuning hyperparameters)\n",
    "- Early termination (reducing the number of iterations for training)\n",
    "- Regularization, if applicable\n",
    "- Add more training examples, if possible  \n",
    "<img src=\"https://i.stack.imgur.com/rpqa6.jpg\" width=\"450\" height=\"600\" />\n",
    "\n",
    "In a nutshell, to reduce overfitting, reduce complexity.\n",
    "To reduce underfitting, enhance complexity.\n",
    "\n"
   ]
  },
  {
   "cell_type": "markdown",
   "metadata": {},
   "source": [
    "Import the [Bike Sharing Demand](https://www.kaggle.com/c/bike-sharing-demand/overview) dataset."
   ]
  },
  {
   "cell_type": "code",
   "execution_count": null,
   "metadata": {},
   "outputs": [],
   "source": [
    "import pandas as pd\n",
    "import numpy as np\n",
    "\n",
    "import matplotlib.pyplot as plt\n",
    "import seaborn as sns\n",
    "%matplotlib inline\n",
    "\n",
    "from sklearn.model_selection import train_test_split\n",
    "from sklearn.linear_model import LinearRegression, Lasso, Ridge, ElasticNet\n",
    "from sklearn.preprocessing import PolynomialFeatures\n",
    "\n",
    "import warnings\n",
    "warnings.simplefilter('ignore')\n",
    "path = 'bike-sharing-demand/'\n",
    "\n",
    "rides = pd.read_csv(path + 'train.csv')\n",
    "rides.head()"
   ]
  },
  {
   "cell_type": "markdown",
   "metadata": {},
   "source": [
    "**Data Fields**\n",
    "\n",
    "* datetime - hourly date + timestamp    \n",
    "* season -  1 = spring, 2 = summer, 3 = fall, 4 = winter   \n",
    "* holiday - whether the day is considered a holiday  \n",
    "* workingday - whether the day is neither a weekend nor holiday  \n",
    "* weather -   \n",
    "    1: Clear, Few clouds, Partly cloudy, Partly cloudy   \n",
    "    2: Mist + Cloudy, Mist + Broken clouds, Mist + Few clouds, Mist   \n",
    "    3: Light Snow, Light Rain + Thunderstorm + Scattered clouds, Light Rain + Scattered clouds   \n",
    "    4: Heavy Rain + Ice Pallets + Thunderstorm + Mist, Snow + Fog   \n",
    "* temp - temperature in Celsius  \n",
    "* atemp - \"feels like\" temperature in Celsius  \n",
    "* humidity - relative humidity  \n",
    "* windspeed - wind speed  \n",
    "* casual - number of non-registered user rentals initiated  \n",
    "* registered - number of registered user rentals initiated  \n",
    "* count - number of total rentals  "
   ]
  },
  {
   "cell_type": "markdown",
   "metadata": {},
   "source": [
    "Let us look at the *datetime* values."
   ]
  },
  {
   "cell_type": "code",
   "execution_count": null,
   "metadata": {},
   "outputs": [],
   "source": [
    "rides['datetime'].values[:5]"
   ]
  },
  {
   "cell_type": "markdown",
   "metadata": {},
   "source": [
    "Now we perform some feature engineering and data pre-processing similar to what we practised in the previous two sessions. "
   ]
  },
  {
   "cell_type": "code",
   "execution_count": null,
   "metadata": {},
   "outputs": [],
   "source": [
    "from datetime import datetime\n",
    "\n",
    "# We extract 'month', 'hour', 'weekday' from the 'datetime' column\n",
    "def extract_from_datetime(rides):\n",
    "    rides[\"date\"] = rides[\"datetime\"].apply(lambda x : x.split()[0])\n",
    "    rides[\"hour\"] = rides[\"datetime\"].apply(lambda x : x.split()[1].split(\":\")[0])\n",
    "    rides[\"weekday\"] = rides[\"date\"].apply(lambda dateString : \n",
    "                            datetime.strptime(dateString,\"%Y-%m-%d\").weekday())\n",
    "    rides[\"month\"] = rides[\"date\"].apply(lambda dateString : \n",
    "                            datetime.strptime(dateString,\"%Y-%m-%d\").month)\n",
    "    return rides\n",
    "\n",
    "# We one-hot encode the categorical features\n",
    "def one_hot_encoding(rides):\n",
    "    dummy_fields = ['season', 'weather', 'month', 'hour', 'weekday']\n",
    "    for each in dummy_fields:\n",
    "        dummies = pd.get_dummies(rides[each], prefix=each, drop_first=False)\n",
    "        rides = pd.concat([rides, dummies], axis=1)\n",
    "    return rides\n",
    "\n",
    "# We drop the columns that are redundant now\n",
    "def drop_features(rides):\n",
    "    features_to_drop = ['datetime', 'date', \n",
    "                        'month', 'hour', 'weekday', \n",
    "                        'season', 'weather']\n",
    "\n",
    "    rides = rides.drop(features_to_drop, axis=1)\n",
    "    return rides\n",
    "\n",
    "# Now we aggregate all the above defined functions inside a function\n",
    "def feature_engineering(rides):\n",
    "    rides = extract_from_datetime(rides)\n",
    "    rides = one_hot_encoding(rides)\n",
    "    rides = drop_features(rides)\n",
    "    return rides\n",
    "\n",
    "# Now we apply all the above defined functions to the rides dataframe\n",
    "rides = feature_engineering(rides)\n",
    "rides = rides[::5]"
   ]
  },
  {
   "cell_type": "markdown",
   "metadata": {},
   "source": [
    "The reason we defined all the steps as functions and bundled them into another function `feature_engineering` is so as to reuse the code for processing the data from `test.csv` file for which we will make predictions at the end."
   ]
  },
  {
   "cell_type": "code",
   "execution_count": null,
   "metadata": {},
   "outputs": [],
   "source": [
    "rides.head()"
   ]
  },
  {
   "cell_type": "code",
   "execution_count": null,
   "metadata": {},
   "outputs": [],
   "source": [
    "rides.columns"
   ]
  },
  {
   "cell_type": "code",
   "execution_count": null,
   "metadata": {},
   "outputs": [],
   "source": [
    "rides.shape"
   ]
  },
  {
   "cell_type": "markdown",
   "metadata": {},
   "source": [
    "For all algorithms using gradient descent for minimizing the cost function, normalizing features helps speed up the learning process. This is to make each feature equally important. We substract the quantitative features by their mean and divide by their standard deviation to redistribute them to have mean 0 and standard deviation 1. \n",
    "$$ x' = \\frac{x - \\mu}{\\sigma} $$\n",
    "![](https://www.jeremyjordan.me/content/images/2018/01/Screen-Shot-2018-01-23-at-2.27.20-PM.png)"
   ]
  },
  {
   "cell_type": "code",
   "execution_count": null,
   "metadata": {},
   "outputs": [],
   "source": [
    "quantitative_features = ['temp', 'atemp', 'humidity', 'windspeed']\n",
    "\n",
    "# Store scalings in a dictionary so we can convert back later\n",
    "scaled_features = {}\n",
    "for each in quantitative_features:\n",
    "    mean, std = rides[each].mean(), rides[each].std()\n",
    "    scaled_features[each] = [mean, std]\n",
    "    rides.loc[:, each] = (rides[each] - mean)/std"
   ]
  },
  {
   "cell_type": "code",
   "execution_count": null,
   "metadata": {},
   "outputs": [],
   "source": [
    "# Next we extract the target variables from the dataframe (what we're predicting!)\n",
    "target = rides[['casual', 'registered', 'count']]\n",
    "target = np.log1p(target)\n",
    "rides = rides.drop(['casual', 'registered', 'count'], axis=1)"
   ]
  },
  {
   "cell_type": "markdown",
   "metadata": {},
   "source": [
    "First we split the data into training and validation set."
   ]
  },
  {
   "cell_type": "code",
   "execution_count": null,
   "metadata": {},
   "outputs": [],
   "source": [
    "X_train, X_valid, y_train, y_valid = train_test_split(rides, target,\n",
    "                                        random_state = 0)"
   ]
  },
  {
   "cell_type": "markdown",
   "metadata": {},
   "source": [
    "Train a linear regression model using the training set and calculate the $R^2$ score for both training and validation set."
   ]
  },
  {
   "cell_type": "code",
   "execution_count": null,
   "metadata": {},
   "outputs": [],
   "source": [
    "lin_reg = LinearRegression()\n",
    "lin_reg.fit(X_train, y_train)\n",
    "print(lin_reg.score(X_train, y_train))\n",
    "print(lin_reg.score(X_valid, y_valid))"
   ]
  },
  {
   "cell_type": "markdown",
   "metadata": {},
   "source": [
    "You should get the following $R^2$ values for the training and validation set.  \n",
    "`R-squared score (training): 0.809\n",
    "R-squared score (validation): 0.803"
   ]
  },
  {
   "cell_type": "markdown",
   "metadata": {},
   "source": [
    "Let us try polynomial regression with degree 2. First we get polynomial features."
   ]
  },
  {
   "cell_type": "code",
   "execution_count": null,
   "metadata": {},
   "outputs": [],
   "source": [
    "poly2 = PolynomialFeatures(degree=2)\n",
    "X_poly2 = poly2.fit_transform(rides)\n",
    "X_train_poly2, X_valid_poly2, y_train_poly2, y_valid_poly2 = train_test_split(X_poly2, \n",
    "                                                    target['count'], random_state = 0)"
   ]
  },
  {
   "cell_type": "markdown",
   "metadata": {},
   "source": [
    "Train a polynomial regression model using [`LinearRegression()`](https://scikit-learn.org/stable/modules/generated/sklearn.linear_model.LinearRegression.html) on polynomial features and call it `polyreg2`. "
   ]
  },
  {
   "cell_type": "code",
   "execution_count": null,
   "metadata": {},
   "outputs": [],
   "source": [
    "polyreg2 = LinearRegression().fit(X_train_poly2, y_train_poly2)\n",
    "print(polyreg2.score(X_train_poly2, y_train_poly2))\n",
    "print(polyreg2.score(X_valid_poly2, y_valid_poly2))"
   ]
  },
  {
   "cell_type": "markdown",
   "metadata": {},
   "source": [
    "Train a polynomial regression coupled with Ridge and call it `polyreg2_ridge`. Tune the regularization parameter alpha."
   ]
  },
  {
   "cell_type": "code",
   "execution_count": null,
   "metadata": {},
   "outputs": [],
   "source": [
    "polyreg2_ridge = Ridge(alpha=1).fit(X_train_poly2, y_train_poly2)\n",
    "print(polyreg2_ridge.score(X_train_poly2, y_train_poly2))\n",
    "print(polyreg2_ridge.score(X_valid_poly2, y_valid_poly2))"
   ]
  },
  {
   "cell_type": "markdown",
   "metadata": {},
   "source": [
    "Now let us try polynomial regression with degree 3."
   ]
  },
  {
   "cell_type": "code",
   "execution_count": null,
   "metadata": {},
   "outputs": [],
   "source": [
    "poly3 = PolynomialFeatures(degree=3)\n",
    "X_poly3 = poly3.fit_transform(rides)\n",
    "X_train_poly3, X_valid_poly3, y_train_poly3, y_valid_poly3 = train_test_split(X_poly3, \n",
    "                                                    target['count'], random_state = 0)"
   ]
  },
  {
   "cell_type": "code",
   "execution_count": null,
   "metadata": {},
   "outputs": [],
   "source": [
    "polyreg3 = LinearRegression().fit(X_train_poly3, y_train_poly3)\n",
    "\n",
    "polyreg3_train_score = polyreg3.score(X_train_poly3, y_train_poly3)\n",
    "polyreg3_valid_score = polyreg3.score(X_valid_poly3, y_valid_poly3)\n",
    "\n",
    "print('R-squared score (training): {:.3f}'\n",
    "     .format(polyreg3_train_score))\n",
    "print('R-squared score (validation): {:.3f}'\n",
    "     .format(polyreg3_valid_score))"
   ]
  },
  {
   "cell_type": "markdown",
   "metadata": {},
   "source": [
    "This suggests the model has overfitted to the training set excessively. Nonetheless, the very high $R^2$ looks promising, so we use regularization on the the polynomial regression with degree 3 features. "
   ]
  },
  {
   "cell_type": "markdown",
   "metadata": {},
   "source": [
    "Train the polynomial regression for degree 3 coupled with Ridge and call it `polyreg3_ridge`. Tune the regularization parameter alpha starting with a not so high value, say 10."
   ]
  },
  {
   "cell_type": "code",
   "execution_count": null,
   "metadata": {},
   "outputs": [],
   "source": [
    "polyreg3_ridge = Ridge(alpha=25).fit(X_train_poly3, y_train_poly3)\n",
    "polyreg3_train_score = polyreg3_ridge.score(X_train_poly3, y_train_poly3)\n",
    "polyreg3_valid_score = polyreg3_ridge.score(X_valid_poly3, y_valid_poly3)\n",
    "print('R-squared score (training): {:.3f}'\n",
    "     .format(polyreg3_train_score))\n",
    "print('R-squared score (validation): {:.3f}'\n",
    "     .format(polyreg3_valid_score))"
   ]
  },
  {
   "cell_type": "markdown",
   "metadata": {},
   "source": [
    "Using the following function for the root mean-squared error (RMSE), compare the different regression models, preferably by plotting a graph. Similarly, plot a graph to compare the $R^2$ scores as well."
   ]
  },
  {
   "cell_type": "code",
   "execution_count": null,
   "metadata": {},
   "outputs": [],
   "source": [
    "def get_rmse(reg):\n",
    "    y_pred_train = reg.predict(X_train_poly)\n",
    "    train_rmse = np.sqrt(mean_squared_error(y_train_poly, y_pred_train))\n",
    "    y_pred_valid = reg.predict(X_valid_poly)\n",
    "    valid_rmse = np.sqrt(mean_squared_error(y_valid_poly, y_pred_valid))\n",
    "    return train_rmse, valid_rmse"
   ]
  },
  {
   "cell_type": "markdown",
   "metadata": {},
   "source": [
    "steps:\n",
    "* Read the test.csv file into a dataframe\n",
    "* Feature engineer the dataframe in exactly the same way as above by using function `feature_engineering`.\n",
    "* Scale the quantitative variables the same way as above\n",
    "* Train a model\n",
    "* Predict\n",
    "* Convert the predictions using exponential (since our model is built using log for the target variable)\n",
    "* Create a dataframe for the results with the right format\n",
    "* Save it into csv file and submit"
   ]
  },
  {
   "cell_type": "markdown",
   "metadata": {},
   "source": [
    "## Part 2: Types of Classifiers\n",
    "\n",
    "\n",
    "As we learned in the previous session, the equation for simple linear regression is \n",
    "\n",
    "$$y_{pred} = w*x+b $$\n",
    "\n",
    "Similarly, the linear regression for more than one features, say $x_1, x_2, \\dots, x_n$ is given by\n",
    "\n",
    "$$y_{pred} = w_1*x_1 + w_2*x_2 + \\cdots + w_n*x_n + b$$\n",
    "\n",
    "The learning process for this model involves learning the weights (or parameters) $w_1, w_2, \\dots, w_n$ and $b$ by minimizing the cost function defined by mean-squared error. The weights are iteratively updated using the gradient descent algorithm to minimize the cost function in the fastest way.\n",
    "\n",
    "#### Logistic Regression:\n",
    "Fits a linear decision boundary to separate the classes. \n",
    "\n",
    "<img src=\"https://camo.githubusercontent.com/f663cd4f29335972950dded4d422c07aeee8af55/68747470733a2f2f63646e2d696d616765732d312e6d656469756d2e636f6d2f6d61782f313630302f312a34473067737539327250684e2d636f397076315035414032782e706e67\" width=\"300\" height=\"250\" />\n",
    "<p style=\"text-align: center;\"> Logistic Regression classifier </p>\n",
    "\n",
    "For binary classification, we assign the two classes the labels 0 and 1. The class labeled 1 is also called the positive class. The classifier predicts the probability ($p$) that an observation belongs to the positive class. The probability for the class labeled $0$ (or the negative class) would be $1-p$.\n",
    "\n",
    "To build a linear classifier is same as finding a function for probability that gives a value close to 1 for points in the upper region (or the points in the positive class) and a value close to 0 for points in the lower region (or the points in the negative class). \n",
    "\n",
    "In the context of neural networks, such a function is called an activation function. They are said to be fired or not depending on whether $f \\to 1$ or $f \\to 0$ given some input for each node or neuron. This activation function is the sigmoid, among the more popular one like RELU.\n",
    "\n",
    "$$sig(t) = \\frac{1}{1+e^{-t}}$$\n",
    "\n",
    "<img src=\"https://upload.wikimedia.org/wikipedia/commons/5/53/Sigmoid-function-2.svg\" width=400 />\n",
    "\n",
    "Our main objective for a classification task is to find the optimal decision boundary to separate the classes. For the logistic regression, the boundary is linear. For the case of two features, this linear boundary is simply a line in 2-dimensional plane, whereas for three features, the linear boundary would be a linear plane separating the two classes in 3-dimensional plane and in general, a $n-1$ dimensional linear hyperplane in a $n$-dimensional space.\n",
    "\n",
    "<img src=\"https://camo.githubusercontent.com/f663cd4f29335972950dded4d422c07aeee8af55/68747470733a2f2f63646e2d696d616765732d312e6d656469756d2e636f6d2f6d61782f313630302f312a34473067737539327250684e2d636f397076315035414032782e706e67\" width=\"300\" height=\"250\" />\n",
    "<p style=\"text-align: center;\"> Logistic Regression classifier </p>\n",
    "\n",
    "To be able to visualize and understand intuitively, we will first crack the formulation of logistic classifier, also known by its misnomer logistic regression, in the case of two features, say $x_1$ and $x_2$, as seen in the figure above.\n",
    "\n",
    "Math question: We represent the following line using the equation $x_1-x_2-1=0$. How do we mathematically represent the two regions that are separated by this line?\n",
    "\n",
    "![](https://github.com/AashitaK/ML-Workshops/blob/master/Session%204/figures/fig1.png?raw=true)\n",
    "\n",
    "The region containing the origin is given by $x_1-x_2-1<0$ whereas the other one by $x_1-x_2-1>0$.\n",
    "\n",
    "![](https://github.com/AashitaK/ML-Workshops/blob/master/Session%204/figures/fig2.png?raw=true)\n",
    "\n",
    "As seen above, the points in one region is characterized by $w_1*x_1 + w_2*x_2+b<0$ and the other region by $w_1*x_1 + w_2*x_2+b>0$. We combine this with the logistic (sigmoid) function above to get the equation for logistic regression:\n",
    "\n",
    "$$Prob(y=1) = sig(w_1*x_1 + w_2*x_2 + \\cdots + w_n*x_n + b) $$ \n",
    "\n",
    "where $sig$ is the sigmoid logistic function defined above. \n",
    "\n",
    "Observations:\n",
    "* The output of the sigmoid lies between 0 and 1, which corresponds to the probability in our case. \n",
    "* The logistic function (and hence the probability) approximates to 1 for the large positive values, whereas it converges to 0 for large negative values. \n",
    "* The value for $w_1*x_1 + w_2*x_2 + \\cdots + w_n*x_n + b$ is positive for points in the region on one side of the line and negative for the other. The magnitude of the values (positive or negative) is higher for points far away from the line.\n",
    "* In view of the above equation for logistic regression and the properties of sigmoid logistic function, the points farther away from the line will be classified with a high probability to one class or the other, whereas the probability will be closer to 0 for points close to the line.\n",
    " \n",
    "In general, we set the threshold for probability to be 0.5. This means that whenever $w_1*x_1 + w_2*x_2 + \\cdots + w_n*x_n + b \\geq 0$, it is classified to the positive class, whereas whenever $w_1*x_1 + \\cdots + w_n*x_n + b < 0$, it is classified to the negative class. The points for which the value for $w_1*x_1 + \\cdots + w_n*x_n + b$ is not large in magnitude have probabilities that are closer to 0.5. Such points needs to be classified with extra care, as we will see later on in evaluation metrics. \n",
    "\n",
    "The weights $w_1, w_2, \\dots, w_n$ and $b$ are learned by minimizing the cost function, as seen in the previous session. The cost function used is called the cross-entropy log loss and is defined below.\n",
    "\n",
    "For points with label $y=1$, the cost is\n",
    "\n",
    "$$ c(y, p) = - \\log(p) \\ \\ \\ \\ \\ \\ \\ \\ \\ \\text{ if }\\ \\  y = 1$$\n",
    "\n",
    "whereas for points with label $y=0$, the cost is\n",
    "\n",
    "$$ c(y, p) = - \\log(1-p) \\ \\  \\text{ if }\\ \\  y = 0$$\n",
    "\n",
    "The cost function takes the average over the costs for all points. The costs for the two classes $y=0$ and $y=1$ can be summed up in the following formula.\n",
    "\n",
    "$$ J = \\frac{1}{N} \\sum_{i=1}^N c(y, p) = - \\frac{1}{N} \\sum_{i=1}^N y \\log(p) + (1-y) \\log(1-p)$$\n",
    "\n",
    "where $p=Prob(y=1)$.\n",
    "\n",
    "The updates to the weights are made in a similar fashion as seen earlier for linear regression by minimizing the cost function using gradient descent algorithm.\n",
    "\n",
    "<img src=\"https://uniformlyuninformative.files.wordpress.com/2014/05/lecture6-logistic-regression_slide19.png\" />"
   ]
  },
  {
   "cell_type": "markdown",
   "metadata": {},
   "source": [
    "First we import python modules:"
   ]
  },
  {
   "cell_type": "code",
   "execution_count": null,
   "metadata": {},
   "outputs": [],
   "source": [
    "import numpy as np\n",
    "\n",
    "import matplotlib.pyplot as plt\n",
    "%matplotlib inline\n",
    "\n",
    "import warnings\n",
    "warnings.simplefilter('ignore')"
   ]
  },
  {
   "cell_type": "markdown",
   "metadata": {},
   "source": [
    "We will first generate a dataset suitable for demonstration and applying classification algorithms using built-in function [`make_classification`](https://scikit-learn.org/stable/modules/generated/sklearn.datasets.make_classification.html) in scikit-learn."
   ]
  },
  {
   "cell_type": "code",
   "execution_count": null,
   "metadata": {},
   "outputs": [],
   "source": [
    "from sklearn.datasets import make_classification\n",
    "\n",
    "X, y = make_classification(n_samples=100, n_features=2, \n",
    "                           n_redundant=0, n_informative=2, \n",
    "                           n_clusters_per_class=2, \n",
    "                           random_state=1)"
   ]
  },
  {
   "cell_type": "markdown",
   "metadata": {},
   "source": [
    "The binary classification dataset containing two features (or variables) is plotted below. "
   ]
  },
  {
   "cell_type": "code",
   "execution_count": null,
   "metadata": {},
   "outputs": [],
   "source": [
    "plt.scatter(X[:, 0], X[:, 1], marker='o', c=y,\n",
    "            s=25, edgecolor='k');"
   ]
  },
  {
   "cell_type": "markdown",
   "metadata": {},
   "source": [
    "Let us split the dataset into training and testing sets:"
   ]
  },
  {
   "cell_type": "code",
   "execution_count": null,
   "metadata": {},
   "outputs": [],
   "source": [
    "from sklearn.model_selection import train_test_split\n",
    "# default is 75% / 25% train-test split\n",
    "X_train, X_valid, y_train, y_valid = train_test_split(X, y, random_state=0)"
   ]
  },
  {
   "cell_type": "markdown",
   "metadata": {},
   "source": [
    "We create a logistic classifier using [`sklearn.linear_model.LogisticRegression`](https://scikit-learn.org/stable/modules/generated/sklearn.linear_model.LogisticRegression.html)"
   ]
  },
  {
   "cell_type": "code",
   "execution_count": null,
   "metadata": {},
   "outputs": [],
   "source": [
    "from sklearn.linear_model import LogisticRegression\n",
    "\n",
    "LR_clf = LogisticRegression()"
   ]
  },
  {
   "cell_type": "markdown",
   "metadata": {},
   "source": [
    "Next we train the classifier using the training data:"
   ]
  },
  {
   "cell_type": "code",
   "execution_count": null,
   "metadata": {},
   "outputs": [],
   "source": [
    "LR_clf.fit(X_train, y_train)"
   ]
  },
  {
   "cell_type": "markdown",
   "metadata": {},
   "source": [
    "Now, we test the accuracy of the classifier on both training and testing dataset."
   ]
  },
  {
   "cell_type": "code",
   "execution_count": null,
   "metadata": {
    "scrolled": true
   },
   "outputs": [],
   "source": [
    "print('Accuracy of Logistic regression classifier on training set: {:.2f}'\n",
    "     .format(LR_clf.score(X_train, y_train)))\n",
    "print('Accuracy of Logistic regression classifier on test set: {:.2f}'\n",
    "     .format(LR_clf.score(X_valid, y_valid)))"
   ]
  },
  {
   "cell_type": "markdown",
   "metadata": {},
   "source": [
    "We define the function to plot the decision boundaries of the classifier:"
   ]
  },
  {
   "cell_type": "code",
   "execution_count": null,
   "metadata": {},
   "outputs": [],
   "source": [
    "def plot_decision_boundary(model, X, y):\n",
    "    x1, x2 = X[:, 0], X[:, 1]\n",
    "    x1_min, x1_max = x1.min() - 1, x1.max() + 1\n",
    "    x2_min, x2_max = x2.min() - 1, x2.max() + 1\n",
    "    xx1, xx2 = np.meshgrid(np.arange(x1_min, x1_max, 0.1),\n",
    "                         np.arange(x2_min, x2_max, 0.1))\n",
    "\n",
    "    Z = model.predict(np.c_[xx1.ravel(), xx2.ravel()]).reshape(xx1.shape)\n",
    "\n",
    "    plt.contourf(xx1, xx2, Z, alpha=0.4)\n",
    "    plt.scatter(x1, x2, c=y, marker='o',\n",
    "                s=25, edgecolor='k');"
   ]
  },
  {
   "cell_type": "code",
   "execution_count": null,
   "metadata": {},
   "outputs": [],
   "source": [
    "plot_decision_boundary(LR_clf, X, y)"
   ]
  },
  {
   "cell_type": "markdown",
   "metadata": {},
   "source": [
    "The above binary classification dataset was clearly separable by linear boundary, but that is not the case often. Next, we generate another dataset that is not linearly separable."
   ]
  },
  {
   "cell_type": "code",
   "execution_count": null,
   "metadata": {},
   "outputs": [],
   "source": [
    "from sklearn.datasets import make_gaussian_quantiles\n",
    "X1, y1 = make_gaussian_quantiles(n_features=2, \n",
    "                                 n_classes=2, \n",
    "                                 random_state=12)\n",
    "\n",
    "plt.scatter(X1[:, 0], X1[:, 1], marker='o', c=y1,\n",
    "            s=25, edgecolor='k');\n",
    "\n",
    "X1_train, X1_valid, y1_train, y1_valid = train_test_split(X1, y1, random_state=0)"
   ]
  },
  {
   "cell_type": "markdown",
   "metadata": {},
   "source": [
    "We build a logistic regression model on this dataset."
   ]
  },
  {
   "cell_type": "code",
   "execution_count": null,
   "metadata": {},
   "outputs": [],
   "source": [
    "LR_clf2 = LogisticRegression().fit(X1_train, y1_train)\n",
    "\n",
    "print('Accuracy of Logistic regression classifier on training set: {:.2f}'\n",
    "     .format(LR_clf2.score(X1_train, y1_train)))\n",
    "print('Accuracy of Logistic regression classifier on test set: {:.2f}'\n",
    "     .format(LR_clf2.score(X1_valid, y1_valid)))\n",
    "\n",
    "plot_decision_boundary(LR_clf2, X1_train, y1_train)"
   ]
  },
  {
   "cell_type": "markdown",
   "metadata": {},
   "source": [
    "Logistic regression is perhaps not a good choice for this kind dataset. We first test this dataset with other classification algorithms, namely:\n",
    "- Decision Trees\n",
    "- k-Nearest Neighbors\n",
    "- Support Vector Machines (SVM)\n",
    "- Random Forests\n",
    "\n",
    "These algorithms are briefly introduced here first and we will revisit to learn more about them in the exercise session."
   ]
  },
  {
   "cell_type": "markdown",
   "metadata": {},
   "source": [
    "[Decision Tree classifier](https://towardsdatascience.com/decision-trees-in-machine-learning-641b9c4e8052):\n",
    "\n",
    "- Tree-like model of decisions\n",
    "- Also known as CART algorithm\n",
    "- Decision making is explicit and can be visualized\n",
    "- Sensitive to the training data used. Slight changes in the training can lead to vastly different trees. This is one of the reasons we prefer Random Forest ensemble given below.\n",
    "- Can create over-complex trees that over-fit to the training data\n",
    "\n",
    "<img src=\"https://upload.wikimedia.org/wikipedia/commons/f/f3/CART_tree_titanic_survivors.png\" width=\"300\" height=\"350\" />\n",
    "<p style=\"text-align: center;\"> Decision Tree classifier for Titanic dataset </p>\n"
   ]
  },
  {
   "cell_type": "code",
   "execution_count": null,
   "metadata": {},
   "outputs": [],
   "source": [
    "from sklearn.tree import DecisionTreeClassifier\n",
    "DT_clf = DecisionTreeClassifier().fit(X1_train, y1_train)\n",
    "\n",
    "print('Accuracy of Decision Tree classifier on training set: {:.2f}'\n",
    "     .format(DT_clf.score(X1_train, y1_train)))\n",
    "print('Accuracy of Decision Tree classifier on test set: {:.2f}'\n",
    "     .format(DT_clf.score(X1_valid, y1_valid)))\n",
    "\n",
    "plot_decision_boundary(DT_clf, X1, y1)"
   ]
  },
  {
   "cell_type": "markdown",
   "metadata": {},
   "source": [
    "k-Nearest Neighbors classifier:\n",
    "- Uses k-nearest neighbors from the training data to predict the label \n",
    "- Unsupervised learning\n",
    "\n",
    "![](https://www.mathworks.com/matlabcentral/mlc-downloads/downloads/03faee64-e85e-4ea0-a2b4-e5964949e2d1/d99b9a4d-618c-45f0-86d1-388bdf852c1d/images/screenshot.gif)\n",
    "\n",
    "The default value for k is 5 in scikit-learn implementation.\n",
    "4 Steps:\n",
    "1. Randomly initialize k clusters centroids\n",
    "2. For each training example, assign prediction to its closest cluster centroid.\n",
    "3. For each cluster, set position of cluster centroid to average(mean) of points assigned to that cluster.\n",
    "4. Iterate 2, 3"
   ]
  },
  {
   "cell_type": "code",
   "execution_count": null,
   "metadata": {},
   "outputs": [],
   "source": [
    "from sklearn.neighbors import KNeighborsClassifier\n",
    "knn_clf = KNeighborsClassifier().fit(X1_train, y1_train)\n",
    "\n",
    "print('Accuracy of K-NN classifier on training set: {:.2f}'\n",
    "     .format(knn_clf.score(X1_train, y1_train)))\n",
    "print('Accuracy of K-NN classifier on test set: {:.2f}'\n",
    "     .format(knn_clf.score(X1_valid, y1_valid)))\n",
    "\n",
    "plot_decision_boundary(knn_clf, X1, y1)"
   ]
  },
  {
   "cell_type": "markdown",
   "metadata": {},
   "source": [
    "Support Vector Machines (SVM):\n",
    "- An extension of linear classification\n",
    "- Separates the classes by choosing a hyperplane that maximizes the distance to the nearest data point on either side and hence known as maximum margin classifier.\n",
    "- The data points that are closest to the decision boundary on either side are called support vectors.\n",
    "- It minimize the classification error and at the same time maximizes the geometric margin "
   ]
  },
  {
   "cell_type": "markdown",
   "metadata": {},
   "source": [
    "<img src=\"https://upload.wikimedia.org/wikipedia/commons/7/72/SVM_margin.png\" width=\"350\" height=\"350\" />\n",
    "<p style=\"text-align: center;\"> Support Vector Machines (SVM) classifier </p>\n"
   ]
  },
  {
   "cell_type": "markdown",
   "metadata": {},
   "source": [
    "Using the kernel trick to transform the feature space, SVM can learn non-linear decision boundaries. \n",
    "\n",
    "<img src=\"https://upload.wikimedia.org/wikipedia/commons/1/1b/Kernel_Machine.png\" width=\"350\" height=\"350\" />\n",
    "<p style=\"text-align: center;\"> Using Kernel trick for Support Vector Machines (SVM) classifier </p>"
   ]
  },
  {
   "cell_type": "code",
   "execution_count": null,
   "metadata": {},
   "outputs": [],
   "source": [
    "from sklearn.svm import SVC\n",
    "svc_clf = SVC().fit(X1_train, y1_train)\n",
    "\n",
    "print('Accuracy of Support Vector classifier on training set: {:.2f}'\n",
    "     .format(svc_clf.score(X1_train, y1_train)))\n",
    "print('Accuracy of Support Vector classifier on test set: {:.2f}'\n",
    "     .format(svc_clf.score(X1_valid, y1_valid)))\n",
    "\n",
    "plot_decision_boundary(svc_clf, X1, y1)"
   ]
  },
  {
   "cell_type": "markdown",
   "metadata": {},
   "source": [
    "[Random Forest ensemble](https://machinelearningmastery.com/bagging-and-random-forest-ensemble-algorithms-for-machine-learning/): \n",
    "- Ensemble of decision tree classifiers which means it combines predictions from multiple decision tree classifiers to give a more accurate prediction than any individual tree.\n",
    "- As noted earlier, decision trees are unstable, that is they are sensitive to the changes in training data. For the ensemble, we take bootstrap samples from the training data and built trees on it.\n",
    "- Prone to over-fitting, though less prone than individual decision trees."
   ]
  },
  {
   "cell_type": "code",
   "execution_count": null,
   "metadata": {},
   "outputs": [],
   "source": [
    "from sklearn.ensemble import RandomForestClassifier\n",
    "RF_clf = RandomForestClassifier(random_state=0).fit(X1_train, y1_train)\n",
    "\n",
    "print('Accuracy of Random Forest classifier on training set: {:.2f}'\n",
    "     .format(RF_clf.score(X1_train, y1_train)))\n",
    "print('Accuracy of Random Forest classifier on test set: {:.2f}'\n",
    "     .format(RF_clf.score(X1_valid, y1_valid)))\n",
    "\n",
    "plot_decision_boundary(RF_clf, X1, y1)"
   ]
  },
  {
   "cell_type": "markdown",
   "metadata": {},
   "source": [
    "Smoother boundary usually suggests that it is less likely to be subjected to the noise and fluctations in training set and hence, less likely to over-fit. \n",
    "\n",
    "For this dataset:\n",
    "* The support vector classifier with minimal difference between training and testing set accuracy and smoother decision boundary seems to have performed the best\n",
    "* The decision tree algorithm seems to have suffered the most from over-fitting. \n",
    "* The logistic regression classifier seems to be under-fitting on account of being a poor fit for the problem."
   ]
  },
  {
   "cell_type": "markdown",
   "metadata": {},
   "source": [
    "The promise of neural networks is that they can learn almost any kind of decision boundary if we build our network deep enough with suitable architecture and train it long enough with sufficiently big dataset. All other methods have limitations in how complex of a boundary they can learn. However, unless we have an abundance of training examples and the computational power, simpler methods are a good answer to many problems in industry even today. "
   ]
  },
  {
   "cell_type": "markdown",
   "metadata": {},
   "source": [
    "## Part 3: Using Classifiers"
   ]
  },
  {
   "cell_type": "markdown",
   "metadata": {},
   "source": [
    "First we import python modules:"
   ]
  },
  {
   "cell_type": "code",
   "execution_count": null,
   "metadata": {},
   "outputs": [],
   "source": [
    "import pandas as pd\n",
    "import numpy as np\n",
    "import re\n",
    "\n",
    "import matplotlib.pyplot as plt\n",
    "import seaborn as sns\n",
    "%matplotlib inline\n",
    "\n",
    "from sklearn.model_selection import train_test_split\n",
    "from sklearn.linear_model import LogisticRegression\n",
    "from sklearn.tree import DecisionTreeClassifier\n",
    "from sklearn.neighbors import KNeighborsClassifier\n",
    "from sklearn.svm import SVC\n",
    "from sklearn.ensemble import RandomForestClassifier\n",
    "\n",
    "\n",
    "\n",
    "import warnings\n",
    "warnings.simplefilter('ignore')"
   ]
  },
  {
   "cell_type": "markdown",
   "metadata": {},
   "source": [
    "In today's exercise, we will work with the [Titanic dataset from Kaggle](https://www.kaggle.com/c/titanic). The objective of this Kaggle competition is to predict whether a passenger survives or not given a number of features related to passengers' information such as gender, age, ticket class, etc. We are going to build a few classification models to predict whether a passenger survives. The `train.csv` file contains features along with the information about the survival of the passenger, so we will use it to train and validate our models. The `test.csv` file contains only features and we will use one of our trained models to predict the survival for these passengers and [submit our predictions to the competitions leaderboard](https://www.kaggle.com/c/titanic/submit)."
   ]
  },
  {
   "cell_type": "markdown",
   "metadata": {},
   "source": [
    "For your convenience, the data preprocessing and feature engineering that we did in the previous sessions is summarized below."
   ]
  },
  {
   "cell_type": "code",
   "execution_count": null,
   "metadata": {},
   "outputs": [],
   "source": [
    "path = 'titanic/'\n",
    "df = pd.read_csv(path + 'train.csv')\n",
    "train = pd.read_csv(path + 'train.csv')\n",
    "target = train.Survived.astype('category', ordered=False)\n",
    "train.drop('Survived', axis=1)\n",
    "\n",
    "test = pd.read_csv(path + 'test.csv')\n",
    "PassengerId = test.PassengerId\n",
    "\n",
    "def get_Titles(df):\n",
    "    df.Name = df.Name.apply(lambda name: re.findall(\"\\s\\S+[.]\\s\", name)[0].strip())\n",
    "    df = df.rename(columns = {'Name': 'Title'})\n",
    "    df.Title.replace({'Ms.': 'Miss.', 'Mlle.': 'Miss.', 'Dr.': 'Rare', 'Mme.': 'Mr.', 'Major.': 'Rare', 'Lady.': 'Rare', 'Sir.': 'Rare', 'Col.': 'Rare', 'Capt.': 'Rare', 'Countess.': 'Rare', 'Jonkheer.': 'Rare', 'Dona.': 'Rare', 'Don.': 'Rare', 'Rev.': 'Rare'}, inplace=True)\n",
    "    return df\n",
    "\n",
    "def fill_Age(df):\n",
    "    df.Age = df.Age.fillna(df.groupby(\"Title\").Age.transform(\"median\"))\n",
    "    return df\n",
    "\n",
    "def get_Group_size(df):\n",
    "    Ticket_counts = df.Ticket.value_counts()\n",
    "    df['Ticket_counts'] = df.Ticket.apply(lambda x: Ticket_counts[x])\n",
    "    df['Family_size'] = df['SibSp'] + df['Parch'] + 1\n",
    "    df['Group_size'] = df[['Family_size', 'Ticket_counts']].max(axis=1)\n",
    "    return df\n",
    "\n",
    "def process_features(df):\n",
    "    df.Sex = df.Sex.astype('category', ordered=False).cat.codes\n",
    "    features_to_keep = ['Age', 'Fare', 'Group_size', 'Pclass', 'Sex']\n",
    "    df = df[features_to_keep]\n",
    "    return df\n",
    "\n",
    "def process_data(df):\n",
    "    df = df.copy()\n",
    "    df = get_Titles(df)\n",
    "    df = fill_Age(df)\n",
    "    df = get_Group_size(df)\n",
    "    df = process_features(df)\n",
    "    medianFare = df['Fare'].median()\n",
    "    df['Fare'] = df['Fare'].fillna(medianFare)\n",
    "    return df\n",
    "\n",
    "X_train, X_test = process_data(train), process_data(test)"
   ]
  },
  {
   "cell_type": "markdown",
   "metadata": {},
   "source": [
    "Please feel free to refer to the classification algorithms notebook for the code below."
   ]
  },
  {
   "cell_type": "markdown",
   "metadata": {},
   "source": [
    "First, split the data into training and validation set using `train_test_split` and name the variables as `X_train, X_valid, y_train, y_valid `."
   ]
  },
  {
   "cell_type": "code",
   "execution_count": null,
   "metadata": {},
   "outputs": [],
   "source": [
    "X_train, X_valid, y_train, y_valid = train_test_split(X_train, target, random_state=0)"
   ]
  },
  {
   "cell_type": "code",
   "execution_count": null,
   "metadata": {},
   "outputs": [],
   "source": [
    "X_train.head()"
   ]
  },
  {
   "cell_type": "code",
   "execution_count": null,
   "metadata": {
    "scrolled": true
   },
   "outputs": [],
   "source": [
    "y_train.head()"
   ]
  },
  {
   "cell_type": "markdown",
   "metadata": {},
   "source": [
    "Train a logistic regression classifier on `X_train, y_train` and test its accuracy on both `X_train, y_train` and `X_valid, y_valid`."
   ]
  },
  {
   "cell_type": "code",
   "execution_count": null,
   "metadata": {},
   "outputs": [],
   "source": [
    "LR_clf = LogisticRegression()\n",
    "LR_clf.fit(X_train, y_train)\n",
    "print('Accuracy of Logistic regression classifier on training set: {:.2f}'\n",
    "     .format(LR_clf.score(X_train, y_train)))\n",
    "print('Accuracy of Logistic regression classifier on validation set: {:.2f}'\n",
    "     .format(LR_clf.score(X_valid, y_valid)))"
   ]
  },
  {
   "cell_type": "markdown",
   "metadata": {},
   "source": [
    "[The evaluation metric for this competition is accuracy](https://www.kaggle.com/c/titanic/overview/evaluation)."
   ]
  },
  {
   "cell_type": "markdown",
   "metadata": {},
   "source": [
    "Try training  a few more classifiers and compare the accuracy. Try tuning the hyperparameters too. You can also try more feature engineering by editing the code above."
   ]
  },
  {
   "cell_type": "code",
   "execution_count": null,
   "metadata": {},
   "outputs": [],
   "source": [
    "svc_clf = SVC().fit(X_train, y_train)\n",
    "print('Accuracy of Support Vector classifier on training set: {:.2f}'\n",
    "     .format(svc_clf.score(X_train, y_train)))\n",
    "print('Accuracy of Support Vector classifier on validation set: {:.2f}'\n",
    "     .format(svc_clf.score(X_valid, y_valid)))"
   ]
  },
  {
   "cell_type": "markdown",
   "metadata": {},
   "source": [
    "## Part 4: Multilayer Perceptron\n",
    "\n",
    "We introduce tensorflow and neural networks briefly! This is an example of one that runs on the titanic data. "
   ]
  },
  {
   "cell_type": "code",
   "execution_count": null,
   "metadata": {},
   "outputs": [],
   "source": [
    "\n",
    "import tensorflow as tf\n",
    "from tensorflow.keras.models import Sequential\n",
    "from tensorflow.keras.layers import Dense, Dropout, Activation"
   ]
  },
  {
   "cell_type": "code",
   "execution_count": null,
   "metadata": {},
   "outputs": [],
   "source": [
    "def run_MLP(X_train, y_train, input_dim, dropout, epochs, batch_size):\n",
    "    print('-----------Running Multilayer Perceptron-----------')\n",
    "    # Build model \n",
    "    model = Sequential()\n",
    "    model.add(Dense(128, input_dim=input_dim, activation='relu'))\n",
    "    model.add(Dropout(dropout))\n",
    "    model.add(Dense(256, activation='relu'))\n",
    "    model.add(Dropout(dropout))\n",
    "    model.add(Dense(128, activation='relu'))\n",
    "    model.add(Dropout(dropout))\n",
    "    model.add(Dense(1, activation='sigmoid'))\n",
    "    # Choose optimizer and loss function\n",
    "    opt = tf.keras.optimizers.Adam(lr=0.001, decay=1e-6)\n",
    "    loss = 'binary_crossentropy'\n",
    "    # Compile \n",
    "    model.compile(optimizer=opt, \n",
    "        loss=loss,\n",
    "        metrics=['accuracy'])\n",
    "    # Fit on training data and cross-validate\n",
    "    model.fit(X_train, y_train,\n",
    "        epochs=epochs,\n",
    "        batch_size=batch_size)\n",
    "    return model"
   ]
  },
  {
   "cell_type": "code",
   "execution_count": null,
   "metadata": {
    "scrolled": false
   },
   "outputs": [],
   "source": [
    "model = run_MLP(X_train, y_train, 5, 0.1, 70, 128)\n",
    "score = model.evaluate(X_valid, y_valid, batch_size=128)"
   ]
  },
  {
   "cell_type": "code",
   "execution_count": null,
   "metadata": {},
   "outputs": [],
   "source": [
    "# tune hyperparameters using gridsearch (this is why we have the validation set)"
   ]
  },
  {
   "cell_type": "code",
   "execution_count": null,
   "metadata": {},
   "outputs": [],
   "source": [
    "# https://machinelearningmastery.com/grid-search-hyperparameters-deep-learning-models-python-keras/"
   ]
  },
  {
   "cell_type": "code",
   "execution_count": null,
   "metadata": {},
   "outputs": [],
   "source": []
  },
  {
   "cell_type": "code",
   "execution_count": null,
   "metadata": {},
   "outputs": [],
   "source": []
  },
  {
   "cell_type": "markdown",
   "metadata": {},
   "source": [
    "Once you have explored a different classifiers and decided on one trained model (or a voting classifer ensemble as seen before), let us use it to make predictions using the features from `X_test` and save the results into `y_test`."
   ]
  },
  {
   "cell_type": "code",
   "execution_count": null,
   "metadata": {},
   "outputs": [],
   "source": [
    "y_test = model.predict(X_test)\n",
    "y_test = [1 if i >= 0.5 else 0 for i in y_test]\n",
    "y_test = pd.Series((i for i in y_test))"
   ]
  },
  {
   "cell_type": "markdown",
   "metadata": {},
   "source": [
    "We create a dataframe for submission using the predictions from `y_test` and save it to a csv file. It is important that our submission file is in correct format to be graded without errors."
   ]
  },
  {
   "cell_type": "code",
   "execution_count": null,
   "metadata": {},
   "outputs": [],
   "source": [
    "submission = pd.DataFrame({'PassengerId': PassengerId, 'Survived': y_test})\n",
    "submission.to_csv('submission.csv', index=False)"
   ]
  },
  {
   "cell_type": "code",
   "execution_count": null,
   "metadata": {},
   "outputs": [],
   "source": []
  }
 ],
 "metadata": {
  "kernelspec": {
   "display_name": "Python 3",
   "language": "python",
   "name": "python3"
  },
  "language_info": {
   "codemirror_mode": {
    "name": "ipython",
    "version": 3
   },
   "file_extension": ".py",
   "mimetype": "text/x-python",
   "name": "python",
   "nbconvert_exporter": "python",
   "pygments_lexer": "ipython3",
   "version": "3.7.1"
  }
 },
 "nbformat": 4,
 "nbformat_minor": 2
}
