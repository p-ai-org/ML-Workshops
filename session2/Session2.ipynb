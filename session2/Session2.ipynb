{
 "cells": [
  {
   "cell_type": "markdown",
   "metadata": {},
   "source": [
    "# P-ai Workshop 2\n",
    "\n",
    "Hello!\n",
    "This is the notebook for the second session of the Fall 2019 [P-ai](http://www.p-ai.org) workshops.\n",
    "It covers data processing with pandas.\n",
    "\n",
    "This is adapted from [Aashita Kesharwani's workshop series at Harvey Mudd.](http://www.aashitak.com/ML-Workshops/)"
   ]
  },
  {
   "cell_type": "markdown",
   "metadata": {},
   "source": [
    "In this workshop, we will be focusing on the two supervised learning tasks: \n",
    "- Classification \n",
    "- Regression\n",
    "\n",
    "### Overview\n",
    "Topics to be covered today:  \n",
    "- Slicing dataframes with conditionals, iloc, loc\n",
    "- Concatentating and merging dataframes\n",
    "- Detecting and filling missing values in the dataframes \n",
    "- Regular expressions for data extraction\n",
    "\n",
    "- Feature engineering\n",
    "- Finding correlations\n",
    "- Encoding categorical variables\n",
    "- Basic plots\n",
    "- Basic operations such as dropping rows/columns, setting index, replacing values of a column using a dictionary, etc.\n",
    "\n"
   ]
  },
  {
   "cell_type": "markdown",
   "metadata": {},
   "source": [
    "#### Before we get started, dictionaries: \n",
    "\n",
    "We never actually went over dictionaries last time! They're pretty simple python structures.\n",
    "\n",
    "An example of a dictionary: `myDict = {1: \"hello\", \"may\": 5, \"me\": \"cool\"}`\n",
    "They're lists of key/value pairs. Calling `myDict[1]` would return `hello`. Calling `myDict[\"may\"]` would return `5`.\n",
    "\n",
    "\n",
    "#### another note:\n",
    "\n",
    "This is a really long notebook, and it also uses the name \"df\" for multiple dataframes. If you're running into issues, first make sure that you ran all the cells before that you needed to run. Also make sure that you're looking at the right df. "
   ]
  },
  {
   "cell_type": "markdown",
   "metadata": {},
   "source": [
    "# Groundhog Day (Part 1)\n",
    "\n",
    "Let's first import the python module `pandas`."
   ]
  },
  {
   "cell_type": "code",
   "execution_count": 326,
   "metadata": {
    "_uuid": "c43d8259ee0ef9187d24be07a98a0cddbedc7208"
   },
   "outputs": [],
   "source": [
    "import pandas as pd"
   ]
  },
  {
   "cell_type": "markdown",
   "metadata": {
    "_uuid": "c54fffcee8c9b8f16a4af54165a7027efda033dd"
   },
   "source": [
    "Pandas uses Dataframes! \n",
    "- Evolved out of tables\n",
    "- Most suitable for data manipulation tasks \n",
    "- Basically fancy lists\n",
    "\n",
    "Pandas is built on top of numpy. The crucial difference between numpy matrices and pandas Dataframes is that the columns in a Dataframe can be of different datatypes such as numerical, categorical, textual, etc."
   ]
  },
  {
   "cell_type": "markdown",
   "metadata": {
    "_uuid": "95d24e2ea7b142959ac43a90527121be10d0a2a3"
   },
   "source": [
    "First, we load the Groundhog Day dataset [available here](https://www.kaggle.com/groundhogclub/groundhog-day/home)"
   ]
  },
  {
   "cell_type": "code",
   "execution_count": 327,
   "metadata": {
    "_uuid": "78d9dad96764bf649d5560c1ea1ddc6b605d7a2f"
   },
   "outputs": [],
   "source": [
    "df = pd.read_csv('archive.csv')     #this read_csv command converts a text file of comma separated values to a dataframe"
   ]
  },
  {
   "cell_type": "markdown",
   "metadata": {
    "_uuid": "fc88b448e4c66cb07f80efddee0dca46d74669c5"
   },
   "source": [
    "The legend behind Groundhog Day tradition goes likes this:\n",
    "\n",
    "> Thousands gather at Gobbler’s Knob in Punxsutawney, Pennsylvania, on the second day of February to await the spring forecast from a groundhog known as Punxsutawney Phil. According to legend, if Phil sees his shadow the United States is in store for six more weeks of winter weather. But, if Phil doesn’t see his shadow, the country should expect warmer temperatures and the arrival of an early spring.\n",
    "\n",
    "[The dataset](https://www.kaggle.com/groundhogclub/groundhog-day/home) consists of the temperature records as well as the sightings of groundhog Phil."
   ]
  },
  {
   "cell_type": "code",
   "execution_count": 328,
   "metadata": {
    "_uuid": "6c9abe81c3b8f82e34be27700cf97ed3bad6dc35"
   },
   "outputs": [],
   "source": [
    "# df"
   ]
  },
  {
   "cell_type": "markdown",
   "metadata": {
    "_uuid": "883d0cfb0aaf4a058023835f3bdbb2dc93374998"
   },
   "source": [
    "As it turns out to be rather big dataset to display, we can comment the above cell by adding `#` in front of `df` and run it again to get rid of the output. \n",
    "\n",
    "Next, let's check the numbers of rows and columns in the dataset."
   ]
  },
  {
   "cell_type": "code",
   "execution_count": 329,
   "metadata": {
    "_uuid": "f0f6bbbc6657d80f970be67910e6e78dd4d12244"
   },
   "outputs": [
    {
     "data": {
      "text/plain": [
       "(132, 10)"
      ]
     },
     "execution_count": 329,
     "metadata": {},
     "output_type": "execute_result"
    }
   ],
   "source": [
    "df.shape"
   ]
  },
  {
   "cell_type": "markdown",
   "metadata": {
    "_uuid": "a524c2398967e6bd5da4a2ae61c1cf09216bac8f"
   },
   "source": [
    "So, the dataset consists of 132 rows and 10 columns. "
   ]
  },
  {
   "cell_type": "markdown",
   "metadata": {
    "_uuid": "e871ffe5bcba9ca72f4ef1b680218ffa6384b115"
   },
   "source": [
    "We use `head()` function to peek into the first 5 rows (or any number of rows by using `head(n)`). "
   ]
  },
  {
   "cell_type": "code",
   "execution_count": 330,
   "metadata": {
    "_uuid": "4da8cad5fd7d57c46e375ff2333743a61f7a1503"
   },
   "outputs": [
    {
     "data": {
      "text/html": [
       "<div>\n",
       "<style scoped>\n",
       "    .dataframe tbody tr th:only-of-type {\n",
       "        vertical-align: middle;\n",
       "    }\n",
       "\n",
       "    .dataframe tbody tr th {\n",
       "        vertical-align: top;\n",
       "    }\n",
       "\n",
       "    .dataframe thead th {\n",
       "        text-align: right;\n",
       "    }\n",
       "</style>\n",
       "<table border=\"1\" class=\"dataframe\">\n",
       "  <thead>\n",
       "    <tr style=\"text-align: right;\">\n",
       "      <th></th>\n",
       "      <th>Year</th>\n",
       "      <th>Punxsutawney Phil</th>\n",
       "      <th>February Average Temperature</th>\n",
       "      <th>February Average Temperature (Northeast)</th>\n",
       "      <th>February Average Temperature (Midwest)</th>\n",
       "      <th>February Average Temperature (Pennsylvania)</th>\n",
       "      <th>March Average Temperature</th>\n",
       "      <th>March Average Temperature (Northeast)</th>\n",
       "      <th>March Average Temperature (Midwest)</th>\n",
       "      <th>March Average Temperature (Pennsylvania)</th>\n",
       "    </tr>\n",
       "  </thead>\n",
       "  <tbody>\n",
       "    <tr>\n",
       "      <th>0</th>\n",
       "      <td>1886</td>\n",
       "      <td>No Record</td>\n",
       "      <td>NaN</td>\n",
       "      <td>NaN</td>\n",
       "      <td>NaN</td>\n",
       "      <td>NaN</td>\n",
       "      <td>NaN</td>\n",
       "      <td>NaN</td>\n",
       "      <td>NaN</td>\n",
       "      <td>NaN</td>\n",
       "    </tr>\n",
       "    <tr>\n",
       "      <th>1</th>\n",
       "      <td>1887</td>\n",
       "      <td>Full Shadow</td>\n",
       "      <td>NaN</td>\n",
       "      <td>NaN</td>\n",
       "      <td>NaN</td>\n",
       "      <td>NaN</td>\n",
       "      <td>NaN</td>\n",
       "      <td>NaN</td>\n",
       "      <td>NaN</td>\n",
       "      <td>NaN</td>\n",
       "    </tr>\n",
       "    <tr>\n",
       "      <th>2</th>\n",
       "      <td>1888</td>\n",
       "      <td>Full Shadow</td>\n",
       "      <td>NaN</td>\n",
       "      <td>NaN</td>\n",
       "      <td>NaN</td>\n",
       "      <td>NaN</td>\n",
       "      <td>NaN</td>\n",
       "      <td>NaN</td>\n",
       "      <td>NaN</td>\n",
       "      <td>NaN</td>\n",
       "    </tr>\n",
       "    <tr>\n",
       "      <th>3</th>\n",
       "      <td>1889</td>\n",
       "      <td>No Record</td>\n",
       "      <td>NaN</td>\n",
       "      <td>NaN</td>\n",
       "      <td>NaN</td>\n",
       "      <td>NaN</td>\n",
       "      <td>NaN</td>\n",
       "      <td>NaN</td>\n",
       "      <td>NaN</td>\n",
       "      <td>NaN</td>\n",
       "    </tr>\n",
       "    <tr>\n",
       "      <th>4</th>\n",
       "      <td>1890</td>\n",
       "      <td>No Shadow</td>\n",
       "      <td>NaN</td>\n",
       "      <td>NaN</td>\n",
       "      <td>NaN</td>\n",
       "      <td>NaN</td>\n",
       "      <td>NaN</td>\n",
       "      <td>NaN</td>\n",
       "      <td>NaN</td>\n",
       "      <td>NaN</td>\n",
       "    </tr>\n",
       "  </tbody>\n",
       "</table>\n",
       "</div>"
      ],
      "text/plain": [
       "   Year Punxsutawney Phil  February Average Temperature  \\\n",
       "0  1886         No Record                           NaN   \n",
       "1  1887       Full Shadow                           NaN   \n",
       "2  1888       Full Shadow                           NaN   \n",
       "3  1889         No Record                           NaN   \n",
       "4  1890         No Shadow                           NaN   \n",
       "\n",
       "   February Average Temperature (Northeast)  \\\n",
       "0                                       NaN   \n",
       "1                                       NaN   \n",
       "2                                       NaN   \n",
       "3                                       NaN   \n",
       "4                                       NaN   \n",
       "\n",
       "   February Average Temperature (Midwest)  \\\n",
       "0                                     NaN   \n",
       "1                                     NaN   \n",
       "2                                     NaN   \n",
       "3                                     NaN   \n",
       "4                                     NaN   \n",
       "\n",
       "   February Average Temperature (Pennsylvania)  March Average Temperature  \\\n",
       "0                                          NaN                        NaN   \n",
       "1                                          NaN                        NaN   \n",
       "2                                          NaN                        NaN   \n",
       "3                                          NaN                        NaN   \n",
       "4                                          NaN                        NaN   \n",
       "\n",
       "   March Average Temperature (Northeast)  March Average Temperature (Midwest)  \\\n",
       "0                                    NaN                                  NaN   \n",
       "1                                    NaN                                  NaN   \n",
       "2                                    NaN                                  NaN   \n",
       "3                                    NaN                                  NaN   \n",
       "4                                    NaN                                  NaN   \n",
       "\n",
       "   March Average Temperature (Pennsylvania)  \n",
       "0                                       NaN  \n",
       "1                                       NaN  \n",
       "2                                       NaN  \n",
       "3                                       NaN  \n",
       "4                                       NaN  "
      ]
     },
     "execution_count": 330,
     "metadata": {},
     "output_type": "execute_result"
    }
   ],
   "source": [
    "df.head()"
   ]
  },
  {
   "cell_type": "markdown",
   "metadata": {
    "_uuid": "d483734135974038f60f6abffd0099dc2e4f5b2b"
   },
   "source": [
    "This has not been particularly useful since the records for the first few years are missing. Find the built-in function to display **the last 10 rows** from the DataFrame and use it below:"
   ]
  },
  {
   "cell_type": "code",
   "execution_count": null,
   "metadata": {
    "_uuid": "88809d1d50ac6eec7c85df5f465138a0f818af08"
   },
   "outputs": [],
   "source": []
  },
  {
   "cell_type": "markdown",
   "metadata": {
    "_uuid": "2be76402b2ad607f12f4cfedf8c6b33f92310d62"
   },
   "source": [
    "Let's see the column titles in the DataFrame. "
   ]
  },
  {
   "cell_type": "code",
   "execution_count": 331,
   "metadata": {
    "_uuid": "ef71fa018209cb776c5cb03c646358c6d6be36b0"
   },
   "outputs": [
    {
     "data": {
      "text/plain": [
       "Index(['Year', 'Punxsutawney Phil', 'February Average Temperature',\n",
       "       'February Average Temperature (Northeast)',\n",
       "       'February Average Temperature (Midwest)',\n",
       "       'February Average Temperature (Pennsylvania)',\n",
       "       'March Average Temperature', 'March Average Temperature (Northeast)',\n",
       "       'March Average Temperature (Midwest)',\n",
       "       'March Average Temperature (Pennsylvania)'],\n",
       "      dtype='object')"
      ]
     },
     "execution_count": 331,
     "metadata": {},
     "output_type": "execute_result"
    }
   ],
   "source": [
    "df.columns"
   ]
  },
  {
   "cell_type": "markdown",
   "metadata": {
    "_uuid": "224e8ecd8297f5786e952a0463ec827220c2f33f"
   },
   "source": [
    "### Selecting rows and columns from the dataframe\n",
    "\n",
    "Let's say we want to see only the columns related to the groundhog Phil sighting as well as the average temperatures in February in Pennsylvania and get rid of the rest of the columns. Since we do not want all the rows in the output, we use the `head()` function at the end. This can be accomplished using double brackets:"
   ]
  },
  {
   "cell_type": "code",
   "execution_count": 332,
   "metadata": {
    "_uuid": "09bac16c42c3f21951a68a669268f71a22ea6257"
   },
   "outputs": [
    {
     "data": {
      "text/html": [
       "<div>\n",
       "<style scoped>\n",
       "    .dataframe tbody tr th:only-of-type {\n",
       "        vertical-align: middle;\n",
       "    }\n",
       "\n",
       "    .dataframe tbody tr th {\n",
       "        vertical-align: top;\n",
       "    }\n",
       "\n",
       "    .dataframe thead th {\n",
       "        text-align: right;\n",
       "    }\n",
       "</style>\n",
       "<table border=\"1\" class=\"dataframe\">\n",
       "  <thead>\n",
       "    <tr style=\"text-align: right;\">\n",
       "      <th></th>\n",
       "      <th>Punxsutawney Phil</th>\n",
       "      <th>February Average Temperature (Pennsylvania)</th>\n",
       "    </tr>\n",
       "  </thead>\n",
       "  <tbody>\n",
       "    <tr>\n",
       "      <th>0</th>\n",
       "      <td>No Record</td>\n",
       "      <td>NaN</td>\n",
       "    </tr>\n",
       "    <tr>\n",
       "      <th>1</th>\n",
       "      <td>Full Shadow</td>\n",
       "      <td>NaN</td>\n",
       "    </tr>\n",
       "    <tr>\n",
       "      <th>2</th>\n",
       "      <td>Full Shadow</td>\n",
       "      <td>NaN</td>\n",
       "    </tr>\n",
       "    <tr>\n",
       "      <th>3</th>\n",
       "      <td>No Record</td>\n",
       "      <td>NaN</td>\n",
       "    </tr>\n",
       "    <tr>\n",
       "      <th>4</th>\n",
       "      <td>No Shadow</td>\n",
       "      <td>NaN</td>\n",
       "    </tr>\n",
       "  </tbody>\n",
       "</table>\n",
       "</div>"
      ],
      "text/plain": [
       "  Punxsutawney Phil  February Average Temperature (Pennsylvania)\n",
       "0         No Record                                          NaN\n",
       "1       Full Shadow                                          NaN\n",
       "2       Full Shadow                                          NaN\n",
       "3         No Record                                          NaN\n",
       "4         No Shadow                                          NaN"
      ]
     },
     "execution_count": 332,
     "metadata": {},
     "output_type": "execute_result"
    }
   ],
   "source": [
    "df[['Punxsutawney Phil', 'February Average Temperature (Pennsylvania)']].head()\n",
    "\n",
    "# the reason we use double brackets is because \n",
    "# pandas dataframes use brackets to index, \n",
    "# but we also want the input to be multiple items, so we do this by using a python list \n",
    "# which also happens to use brackets. "
   ]
  },
  {
   "cell_type": "markdown",
   "metadata": {
    "_uuid": "527fbba08df74d7b5fb7d7cb363d224018841c85"
   },
   "source": [
    "We can also select rows based on conditions. Let's say, we want to observe only those years when there is no record for groundhog. We use `df['Punxsutawney Phil'] == \"No Record\"` in the conditional."
   ]
  },
  {
   "cell_type": "code",
   "execution_count": 333,
   "metadata": {
    "_uuid": "d78c7598730416a23b100e9c111e62b1ee081f6c"
   },
   "outputs": [
    {
     "data": {
      "text/html": [
       "<div>\n",
       "<style scoped>\n",
       "    .dataframe tbody tr th:only-of-type {\n",
       "        vertical-align: middle;\n",
       "    }\n",
       "\n",
       "    .dataframe tbody tr th {\n",
       "        vertical-align: top;\n",
       "    }\n",
       "\n",
       "    .dataframe thead th {\n",
       "        text-align: right;\n",
       "    }\n",
       "</style>\n",
       "<table border=\"1\" class=\"dataframe\">\n",
       "  <thead>\n",
       "    <tr style=\"text-align: right;\">\n",
       "      <th></th>\n",
       "      <th>Year</th>\n",
       "      <th>Punxsutawney Phil</th>\n",
       "      <th>February Average Temperature</th>\n",
       "      <th>February Average Temperature (Northeast)</th>\n",
       "      <th>February Average Temperature (Midwest)</th>\n",
       "      <th>February Average Temperature (Pennsylvania)</th>\n",
       "      <th>March Average Temperature</th>\n",
       "      <th>March Average Temperature (Northeast)</th>\n",
       "      <th>March Average Temperature (Midwest)</th>\n",
       "      <th>March Average Temperature (Pennsylvania)</th>\n",
       "    </tr>\n",
       "  </thead>\n",
       "  <tbody>\n",
       "    <tr>\n",
       "      <th>0</th>\n",
       "      <td>1886</td>\n",
       "      <td>No Record</td>\n",
       "      <td>NaN</td>\n",
       "      <td>NaN</td>\n",
       "      <td>NaN</td>\n",
       "      <td>NaN</td>\n",
       "      <td>NaN</td>\n",
       "      <td>NaN</td>\n",
       "      <td>NaN</td>\n",
       "      <td>NaN</td>\n",
       "    </tr>\n",
       "    <tr>\n",
       "      <th>3</th>\n",
       "      <td>1889</td>\n",
       "      <td>No Record</td>\n",
       "      <td>NaN</td>\n",
       "      <td>NaN</td>\n",
       "      <td>NaN</td>\n",
       "      <td>NaN</td>\n",
       "      <td>NaN</td>\n",
       "      <td>NaN</td>\n",
       "      <td>NaN</td>\n",
       "      <td>NaN</td>\n",
       "    </tr>\n",
       "    <tr>\n",
       "      <th>5</th>\n",
       "      <td>1891</td>\n",
       "      <td>No Record</td>\n",
       "      <td>NaN</td>\n",
       "      <td>NaN</td>\n",
       "      <td>NaN</td>\n",
       "      <td>NaN</td>\n",
       "      <td>NaN</td>\n",
       "      <td>NaN</td>\n",
       "      <td>NaN</td>\n",
       "      <td>NaN</td>\n",
       "    </tr>\n",
       "    <tr>\n",
       "      <th>6</th>\n",
       "      <td>1892</td>\n",
       "      <td>No Record</td>\n",
       "      <td>NaN</td>\n",
       "      <td>NaN</td>\n",
       "      <td>NaN</td>\n",
       "      <td>NaN</td>\n",
       "      <td>NaN</td>\n",
       "      <td>NaN</td>\n",
       "      <td>NaN</td>\n",
       "      <td>NaN</td>\n",
       "    </tr>\n",
       "    <tr>\n",
       "      <th>7</th>\n",
       "      <td>1893</td>\n",
       "      <td>No Record</td>\n",
       "      <td>NaN</td>\n",
       "      <td>NaN</td>\n",
       "      <td>NaN</td>\n",
       "      <td>NaN</td>\n",
       "      <td>NaN</td>\n",
       "      <td>NaN</td>\n",
       "      <td>NaN</td>\n",
       "      <td>NaN</td>\n",
       "    </tr>\n",
       "    <tr>\n",
       "      <th>8</th>\n",
       "      <td>1894</td>\n",
       "      <td>No Record</td>\n",
       "      <td>NaN</td>\n",
       "      <td>NaN</td>\n",
       "      <td>NaN</td>\n",
       "      <td>NaN</td>\n",
       "      <td>NaN</td>\n",
       "      <td>NaN</td>\n",
       "      <td>NaN</td>\n",
       "      <td>NaN</td>\n",
       "    </tr>\n",
       "    <tr>\n",
       "      <th>9</th>\n",
       "      <td>1895</td>\n",
       "      <td>No Record</td>\n",
       "      <td>26.60</td>\n",
       "      <td>15.6</td>\n",
       "      <td>21.9</td>\n",
       "      <td>17.0</td>\n",
       "      <td>39.97</td>\n",
       "      <td>27.6</td>\n",
       "      <td>40.2</td>\n",
       "      <td>31.3</td>\n",
       "    </tr>\n",
       "    <tr>\n",
       "      <th>10</th>\n",
       "      <td>1896</td>\n",
       "      <td>No Record</td>\n",
       "      <td>35.04</td>\n",
       "      <td>22.2</td>\n",
       "      <td>33.5</td>\n",
       "      <td>26.6</td>\n",
       "      <td>38.03</td>\n",
       "      <td>25.3</td>\n",
       "      <td>36.9</td>\n",
       "      <td>27.8</td>\n",
       "    </tr>\n",
       "    <tr>\n",
       "      <th>11</th>\n",
       "      <td>1897</td>\n",
       "      <td>No Record</td>\n",
       "      <td>33.39</td>\n",
       "      <td>23.6</td>\n",
       "      <td>34.7</td>\n",
       "      <td>27.9</td>\n",
       "      <td>38.79</td>\n",
       "      <td>32.0</td>\n",
       "      <td>44.0</td>\n",
       "      <td>36.9</td>\n",
       "    </tr>\n",
       "    <tr>\n",
       "      <th>13</th>\n",
       "      <td>1899</td>\n",
       "      <td>No Record</td>\n",
       "      <td>25.50</td>\n",
       "      <td>18.1</td>\n",
       "      <td>22.2</td>\n",
       "      <td>20.0</td>\n",
       "      <td>37.63</td>\n",
       "      <td>29.3</td>\n",
       "      <td>38.4</td>\n",
       "      <td>34.0</td>\n",
       "    </tr>\n",
       "    <tr>\n",
       "      <th>16</th>\n",
       "      <td>1902</td>\n",
       "      <td>No Record</td>\n",
       "      <td>31.46</td>\n",
       "      <td>20.1</td>\n",
       "      <td>23.6</td>\n",
       "      <td>21.0</td>\n",
       "      <td>41.58</td>\n",
       "      <td>37.1</td>\n",
       "      <td>43.9</td>\n",
       "      <td>38.8</td>\n",
       "    </tr>\n",
       "    <tr>\n",
       "      <th>57</th>\n",
       "      <td>1943</td>\n",
       "      <td>No Record</td>\n",
       "      <td>36.28</td>\n",
       "      <td>23.9</td>\n",
       "      <td>35.4</td>\n",
       "      <td>27.6</td>\n",
       "      <td>38.50</td>\n",
       "      <td>30.5</td>\n",
       "      <td>38.5</td>\n",
       "      <td>34.7</td>\n",
       "    </tr>\n",
       "  </tbody>\n",
       "</table>\n",
       "</div>"
      ],
      "text/plain": [
       "    Year Punxsutawney Phil  February Average Temperature  \\\n",
       "0   1886         No Record                           NaN   \n",
       "3   1889         No Record                           NaN   \n",
       "5   1891         No Record                           NaN   \n",
       "6   1892         No Record                           NaN   \n",
       "7   1893         No Record                           NaN   \n",
       "8   1894         No Record                           NaN   \n",
       "9   1895         No Record                         26.60   \n",
       "10  1896         No Record                         35.04   \n",
       "11  1897         No Record                         33.39   \n",
       "13  1899         No Record                         25.50   \n",
       "16  1902         No Record                         31.46   \n",
       "57  1943         No Record                         36.28   \n",
       "\n",
       "    February Average Temperature (Northeast)  \\\n",
       "0                                        NaN   \n",
       "3                                        NaN   \n",
       "5                                        NaN   \n",
       "6                                        NaN   \n",
       "7                                        NaN   \n",
       "8                                        NaN   \n",
       "9                                       15.6   \n",
       "10                                      22.2   \n",
       "11                                      23.6   \n",
       "13                                      18.1   \n",
       "16                                      20.1   \n",
       "57                                      23.9   \n",
       "\n",
       "    February Average Temperature (Midwest)  \\\n",
       "0                                      NaN   \n",
       "3                                      NaN   \n",
       "5                                      NaN   \n",
       "6                                      NaN   \n",
       "7                                      NaN   \n",
       "8                                      NaN   \n",
       "9                                     21.9   \n",
       "10                                    33.5   \n",
       "11                                    34.7   \n",
       "13                                    22.2   \n",
       "16                                    23.6   \n",
       "57                                    35.4   \n",
       "\n",
       "    February Average Temperature (Pennsylvania)  March Average Temperature  \\\n",
       "0                                           NaN                        NaN   \n",
       "3                                           NaN                        NaN   \n",
       "5                                           NaN                        NaN   \n",
       "6                                           NaN                        NaN   \n",
       "7                                           NaN                        NaN   \n",
       "8                                           NaN                        NaN   \n",
       "9                                          17.0                      39.97   \n",
       "10                                         26.6                      38.03   \n",
       "11                                         27.9                      38.79   \n",
       "13                                         20.0                      37.63   \n",
       "16                                         21.0                      41.58   \n",
       "57                                         27.6                      38.50   \n",
       "\n",
       "    March Average Temperature (Northeast)  \\\n",
       "0                                     NaN   \n",
       "3                                     NaN   \n",
       "5                                     NaN   \n",
       "6                                     NaN   \n",
       "7                                     NaN   \n",
       "8                                     NaN   \n",
       "9                                    27.6   \n",
       "10                                   25.3   \n",
       "11                                   32.0   \n",
       "13                                   29.3   \n",
       "16                                   37.1   \n",
       "57                                   30.5   \n",
       "\n",
       "    March Average Temperature (Midwest)  \\\n",
       "0                                   NaN   \n",
       "3                                   NaN   \n",
       "5                                   NaN   \n",
       "6                                   NaN   \n",
       "7                                   NaN   \n",
       "8                                   NaN   \n",
       "9                                  40.2   \n",
       "10                                 36.9   \n",
       "11                                 44.0   \n",
       "13                                 38.4   \n",
       "16                                 43.9   \n",
       "57                                 38.5   \n",
       "\n",
       "    March Average Temperature (Pennsylvania)  \n",
       "0                                        NaN  \n",
       "3                                        NaN  \n",
       "5                                        NaN  \n",
       "6                                        NaN  \n",
       "7                                        NaN  \n",
       "8                                        NaN  \n",
       "9                                       31.3  \n",
       "10                                      27.8  \n",
       "11                                      36.9  \n",
       "13                                      34.0  \n",
       "16                                      38.8  \n",
       "57                                      34.7  "
      ]
     },
     "execution_count": 333,
     "metadata": {},
     "output_type": "execute_result"
    }
   ],
   "source": [
    "df[df[\"Punxsutawney Phil\"]==\"No Record\"]"
   ]
  },
  {
   "cell_type": "markdown",
   "metadata": {},
   "source": [
    "What's going on here? \n",
    "\n",
    "The conditional is returning a \"series\", basically a single column of a dataframe. In this case, it holds the information of which columns satisfy the conditional. When we index the df with this series, we get the desired columns. We won't get too much into these, but it's good to know they exist. "
   ]
  },
  {
   "cell_type": "code",
   "execution_count": 334,
   "metadata": {},
   "outputs": [
    {
     "name": "stdout",
     "output_type": "stream",
     "text": [
      "<class 'pandas.core.series.Series'>\n"
     ]
    },
    {
     "data": {
      "text/plain": [
       "0     True\n",
       "1    False\n",
       "2    False\n",
       "3     True\n",
       "4    False\n",
       "5     True\n",
       "6     True\n",
       "7     True\n",
       "8     True\n",
       "9     True\n",
       "Name: Punxsutawney Phil, dtype: bool"
      ]
     },
     "execution_count": 334,
     "metadata": {},
     "output_type": "execute_result"
    }
   ],
   "source": [
    "print(type(df[\"Punxsutawney Phil\"]==\"No Record\")) #this shows the type that the conditional returns, a Series\n",
    "\n",
    "(df[\"Punxsutawney Phil\"] == \"No Record\")[0:10]   #this shows the first few entries of the series"
   ]
  },
  {
   "cell_type": "markdown",
   "metadata": {
    "_uuid": "34a853317aacc52002447f974d25712be8793190"
   },
   "source": [
    "Now, we want to restrict the above output further *to exclude the entries before the year 1895*.   \n",
    "We add another conditional to the above code using `&` and make sure to wrap the two conditionals with parentheses.\n",
    "\n",
    "Note that the year column is a string, and you should use string comparisons, which in Python work by comparing each character in order with ascii ordering. (so \"92\" > \"46\", and \"string\" > \"bool\")"
   ]
  },
  {
   "cell_type": "code",
   "execution_count": 335,
   "metadata": {
    "_uuid": "ffdd7fb36cbb9be98bf465d8053ecc0694462143"
   },
   "outputs": [
    {
     "data": {
      "text/html": [
       "<div>\n",
       "<style scoped>\n",
       "    .dataframe tbody tr th:only-of-type {\n",
       "        vertical-align: middle;\n",
       "    }\n",
       "\n",
       "    .dataframe tbody tr th {\n",
       "        vertical-align: top;\n",
       "    }\n",
       "\n",
       "    .dataframe thead th {\n",
       "        text-align: right;\n",
       "    }\n",
       "</style>\n",
       "<table border=\"1\" class=\"dataframe\">\n",
       "  <thead>\n",
       "    <tr style=\"text-align: right;\">\n",
       "      <th></th>\n",
       "      <th>Year</th>\n",
       "      <th>Punxsutawney Phil</th>\n",
       "      <th>February Average Temperature</th>\n",
       "      <th>February Average Temperature (Northeast)</th>\n",
       "      <th>February Average Temperature (Midwest)</th>\n",
       "      <th>February Average Temperature (Pennsylvania)</th>\n",
       "      <th>March Average Temperature</th>\n",
       "      <th>March Average Temperature (Northeast)</th>\n",
       "      <th>March Average Temperature (Midwest)</th>\n",
       "      <th>March Average Temperature (Pennsylvania)</th>\n",
       "    </tr>\n",
       "  </thead>\n",
       "  <tbody>\n",
       "    <tr>\n",
       "      <th>10</th>\n",
       "      <td>1896</td>\n",
       "      <td>No Record</td>\n",
       "      <td>35.04</td>\n",
       "      <td>22.2</td>\n",
       "      <td>33.5</td>\n",
       "      <td>26.6</td>\n",
       "      <td>38.03</td>\n",
       "      <td>25.3</td>\n",
       "      <td>36.9</td>\n",
       "      <td>27.8</td>\n",
       "    </tr>\n",
       "    <tr>\n",
       "      <th>11</th>\n",
       "      <td>1897</td>\n",
       "      <td>No Record</td>\n",
       "      <td>33.39</td>\n",
       "      <td>23.6</td>\n",
       "      <td>34.7</td>\n",
       "      <td>27.9</td>\n",
       "      <td>38.79</td>\n",
       "      <td>32.0</td>\n",
       "      <td>44.0</td>\n",
       "      <td>36.9</td>\n",
       "    </tr>\n",
       "    <tr>\n",
       "      <th>13</th>\n",
       "      <td>1899</td>\n",
       "      <td>No Record</td>\n",
       "      <td>25.50</td>\n",
       "      <td>18.1</td>\n",
       "      <td>22.2</td>\n",
       "      <td>20.0</td>\n",
       "      <td>37.63</td>\n",
       "      <td>29.3</td>\n",
       "      <td>38.4</td>\n",
       "      <td>34.0</td>\n",
       "    </tr>\n",
       "    <tr>\n",
       "      <th>16</th>\n",
       "      <td>1902</td>\n",
       "      <td>No Record</td>\n",
       "      <td>31.46</td>\n",
       "      <td>20.1</td>\n",
       "      <td>23.6</td>\n",
       "      <td>21.0</td>\n",
       "      <td>41.58</td>\n",
       "      <td>37.1</td>\n",
       "      <td>43.9</td>\n",
       "      <td>38.8</td>\n",
       "    </tr>\n",
       "    <tr>\n",
       "      <th>57</th>\n",
       "      <td>1943</td>\n",
       "      <td>No Record</td>\n",
       "      <td>36.28</td>\n",
       "      <td>23.9</td>\n",
       "      <td>35.4</td>\n",
       "      <td>27.6</td>\n",
       "      <td>38.50</td>\n",
       "      <td>30.5</td>\n",
       "      <td>38.5</td>\n",
       "      <td>34.7</td>\n",
       "    </tr>\n",
       "  </tbody>\n",
       "</table>\n",
       "</div>"
      ],
      "text/plain": [
       "    Year Punxsutawney Phil  February Average Temperature  \\\n",
       "10  1896         No Record                         35.04   \n",
       "11  1897         No Record                         33.39   \n",
       "13  1899         No Record                         25.50   \n",
       "16  1902         No Record                         31.46   \n",
       "57  1943         No Record                         36.28   \n",
       "\n",
       "    February Average Temperature (Northeast)  \\\n",
       "10                                      22.2   \n",
       "11                                      23.6   \n",
       "13                                      18.1   \n",
       "16                                      20.1   \n",
       "57                                      23.9   \n",
       "\n",
       "    February Average Temperature (Midwest)  \\\n",
       "10                                    33.5   \n",
       "11                                    34.7   \n",
       "13                                    22.2   \n",
       "16                                    23.6   \n",
       "57                                    35.4   \n",
       "\n",
       "    February Average Temperature (Pennsylvania)  March Average Temperature  \\\n",
       "10                                         26.6                      38.03   \n",
       "11                                         27.9                      38.79   \n",
       "13                                         20.0                      37.63   \n",
       "16                                         21.0                      41.58   \n",
       "57                                         27.6                      38.50   \n",
       "\n",
       "    March Average Temperature (Northeast)  \\\n",
       "10                                   25.3   \n",
       "11                                   32.0   \n",
       "13                                   29.3   \n",
       "16                                   37.1   \n",
       "57                                   30.5   \n",
       "\n",
       "    March Average Temperature (Midwest)  \\\n",
       "10                                 36.9   \n",
       "11                                 44.0   \n",
       "13                                 38.4   \n",
       "16                                 43.9   \n",
       "57                                 38.5   \n",
       "\n",
       "    March Average Temperature (Pennsylvania)  \n",
       "10                                      27.8  \n",
       "11                                      36.9  \n",
       "13                                      34.0  \n",
       "16                                      38.8  \n",
       "57                                      34.7  "
      ]
     },
     "execution_count": 335,
     "metadata": {},
     "output_type": "execute_result"
    }
   ],
   "source": [
    "df[(df[\"Punxsutawney Phil\"]==\"No Record\") & (df[\"Year\"]>\"1895\")]"
   ]
  },
  {
   "cell_type": "markdown",
   "metadata": {
    "_uuid": "e4c60e366526d0070057a6d0d2f8c12ee90ace35"
   },
   "source": [
    "We can also get the number of years with no records using the `shape` attribute which gives us both the number of columns and the number of rows. This is called with `df.shape`. This is the code to count the number of years that the groundhog saw his full shadow."
   ]
  },
  {
   "cell_type": "code",
   "execution_count": 336,
   "metadata": {
    "_uuid": "b9a2af5c7ca585efad6024d6f7ddf76b296218af"
   },
   "outputs": [
    {
     "data": {
      "text/plain": [
       "102"
      ]
     },
     "execution_count": 336,
     "metadata": {},
     "output_type": "execute_result"
    }
   ],
   "source": [
    "df[df[\"Punxsutawney Phil\"] == \"Full Shadow\"].shape[0]     #the [0] gets the length. [1] is the width"
   ]
  },
  {
   "cell_type": "markdown",
   "metadata": {
    "_uuid": "7d7a99e1fdbaf56c7d5a0985f5fc12b7bf08a129"
   },
   "source": [
    "Here's the code to count the number of years in which the groundhog Phil saw its full shadow and the February Average Temperature in Pennsylvania was less than 26.5."
   ]
  },
  {
   "cell_type": "code",
   "execution_count": 337,
   "metadata": {
    "_uuid": "e5f1f324b6b6e563df27f94b2f7d5fd8d379172f"
   },
   "outputs": [
    {
     "data": {
      "text/plain": [
       "45"
      ]
     },
     "execution_count": 337,
     "metadata": {},
     "output_type": "execute_result"
    }
   ],
   "source": [
    "df[(df[\"Punxsutawney Phil\"]==\"Full Shadow\") & \n",
    "   (df[\"February Average Temperature (Pennsylvania)\"] < 26.5)].shape[0]"
   ]
  },
  {
   "cell_type": "markdown",
   "metadata": {
    "_uuid": "3f630b87d3807bd057c29096fa5e250c97b08c38"
   },
   "source": [
    "Write the code to count the number of years in which the groundhog Phil saw its full shadow and the February Average Temperature in Pennsylvania was less than February Average Temperature in that year."
   ]
  },
  {
   "cell_type": "code",
   "execution_count": null,
   "metadata": {
    "_uuid": "0e31cf4ce9e6aa7c4fb4cc45259c2417f8ad8e16"
   },
   "outputs": [],
   "source": []
  },
  {
   "cell_type": "markdown",
   "metadata": {
    "_uuid": "0639a0a8e5c52dd71c0343073e4ae3117837fbcb"
   },
   "source": [
    "Is it common for Pennsylvania to have temperatures colder than average? Write down the code for counting the years when February Average Temperature in Pennsylvania is less than February Average Temperature in general.  "
   ]
  },
  {
   "cell_type": "code",
   "execution_count": null,
   "metadata": {
    "_uuid": "28099d8a3052c3307efeec73ec332e07c8af6c23"
   },
   "outputs": [],
   "source": []
  },
  {
   "cell_type": "markdown",
   "metadata": {
    "_uuid": "34208aa33037e19f456f3a5501c8328a2af08d3f"
   },
   "source": [
    "Please feel free to explore the data on your own later. You can also design a hypothesis and test it using `scipy.stats`. "
   ]
  },
  {
   "cell_type": "markdown",
   "metadata": {
    "_uuid": "1225b11d7fecc990757fea9cecaa171140b87374"
   },
   "source": [
    "### The `loc` and `iloc` methods"
   ]
  },
  {
   "cell_type": "markdown",
   "metadata": {
    "_uuid": "14494dd0252de06735640bf20d1120c1c50d9f87"
   },
   "source": [
    "This is how to get dataframe entries by index, rather than by conditionals.\n",
    "* `.iloc[]` takes integers\n",
    "* `loc[]` takes labels (for example, the string 'Punxsutawney Phil')\n",
    "\n",
    "They generally take two parameters, the first being the row indices and the second being the column indices. If just one is provided, it'll understand that as row indices. "
   ]
  },
  {
   "cell_type": "code",
   "execution_count": 338,
   "metadata": {
    "_uuid": "b8886c91486a8c747f15689fcb0ddc5775c6882b"
   },
   "outputs": [
    {
     "data": {
      "text/html": [
       "<div>\n",
       "<style scoped>\n",
       "    .dataframe tbody tr th:only-of-type {\n",
       "        vertical-align: middle;\n",
       "    }\n",
       "\n",
       "    .dataframe tbody tr th {\n",
       "        vertical-align: top;\n",
       "    }\n",
       "\n",
       "    .dataframe thead th {\n",
       "        text-align: right;\n",
       "    }\n",
       "</style>\n",
       "<table border=\"1\" class=\"dataframe\">\n",
       "  <thead>\n",
       "    <tr style=\"text-align: right;\">\n",
       "      <th></th>\n",
       "      <th>Year</th>\n",
       "      <th>Punxsutawney Phil</th>\n",
       "    </tr>\n",
       "  </thead>\n",
       "  <tbody>\n",
       "    <tr>\n",
       "      <th>0</th>\n",
       "      <td>1886</td>\n",
       "      <td>No Record</td>\n",
       "    </tr>\n",
       "    <tr>\n",
       "      <th>1</th>\n",
       "      <td>1887</td>\n",
       "      <td>Full Shadow</td>\n",
       "    </tr>\n",
       "    <tr>\n",
       "      <th>2</th>\n",
       "      <td>1888</td>\n",
       "      <td>Full Shadow</td>\n",
       "    </tr>\n",
       "    <tr>\n",
       "      <th>3</th>\n",
       "      <td>1889</td>\n",
       "      <td>No Record</td>\n",
       "    </tr>\n",
       "  </tbody>\n",
       "</table>\n",
       "</div>"
      ],
      "text/plain": [
       "   Year Punxsutawney Phil\n",
       "0  1886         No Record\n",
       "1  1887       Full Shadow\n",
       "2  1888       Full Shadow\n",
       "3  1889         No Record"
      ]
     },
     "execution_count": 338,
     "metadata": {},
     "output_type": "execute_result"
    }
   ],
   "source": [
    "df.loc[:3, ['Year', 'Punxsutawney Phil']]    # like list slicing, the :3 means get the subdataframe from row 0 to 3. "
   ]
  },
  {
   "cell_type": "code",
   "execution_count": 339,
   "metadata": {
    "_uuid": "b8886c91486a8c747f15689fcb0ddc5775c6882b"
   },
   "outputs": [
    {
     "data": {
      "text/html": [
       "<div>\n",
       "<style scoped>\n",
       "    .dataframe tbody tr th:only-of-type {\n",
       "        vertical-align: middle;\n",
       "    }\n",
       "\n",
       "    .dataframe tbody tr th {\n",
       "        vertical-align: top;\n",
       "    }\n",
       "\n",
       "    .dataframe thead th {\n",
       "        text-align: right;\n",
       "    }\n",
       "</style>\n",
       "<table border=\"1\" class=\"dataframe\">\n",
       "  <thead>\n",
       "    <tr style=\"text-align: right;\">\n",
       "      <th></th>\n",
       "      <th>Year</th>\n",
       "      <th>Punxsutawney Phil</th>\n",
       "    </tr>\n",
       "  </thead>\n",
       "  <tbody>\n",
       "    <tr>\n",
       "      <th>0</th>\n",
       "      <td>1886</td>\n",
       "      <td>No Record</td>\n",
       "    </tr>\n",
       "    <tr>\n",
       "      <th>1</th>\n",
       "      <td>1887</td>\n",
       "      <td>Full Shadow</td>\n",
       "    </tr>\n",
       "    <tr>\n",
       "      <th>2</th>\n",
       "      <td>1888</td>\n",
       "      <td>Full Shadow</td>\n",
       "    </tr>\n",
       "  </tbody>\n",
       "</table>\n",
       "</div>"
      ],
      "text/plain": [
       "   Year Punxsutawney Phil\n",
       "0  1886         No Record\n",
       "1  1887       Full Shadow\n",
       "2  1888       Full Shadow"
      ]
     },
     "execution_count": 339,
     "metadata": {},
     "output_type": "execute_result"
    }
   ],
   "source": [
    "# df.iloc[:3, ['Year', 'Punxsutawney Phil']] # This will give an error\n",
    "df.iloc[:3, [0, 1]]      "
   ]
  },
  {
   "cell_type": "markdown",
   "metadata": {
    "_uuid": "d7e0e15d8999f0d4693e8a642c92b8ff15723943"
   },
   "source": [
    " Just like Python lists, the indexing in pandas start from 0. To get the **11th row**, we use `df.iloc[10]` as below."
   ]
  },
  {
   "cell_type": "code",
   "execution_count": 340,
   "metadata": {
    "_uuid": "465db7be4d7f0dea320862cf945673871f106407"
   },
   "outputs": [
    {
     "data": {
      "text/plain": [
       "Year                                                1896\n",
       "Punxsutawney Phil                              No Record\n",
       "February Average Temperature                       35.04\n",
       "February Average Temperature (Northeast)            22.2\n",
       "February Average Temperature (Midwest)              33.5\n",
       "February Average Temperature (Pennsylvania)         26.6\n",
       "March Average Temperature                          38.03\n",
       "March Average Temperature (Northeast)               25.3\n",
       "March Average Temperature (Midwest)                 36.9\n",
       "March Average Temperature (Pennsylvania)            27.8\n",
       "Name: 10, dtype: object"
      ]
     },
     "execution_count": 340,
     "metadata": {},
     "output_type": "execute_result"
    }
   ],
   "source": [
    "df.iloc[10]"
   ]
  },
  {
   "cell_type": "markdown",
   "metadata": {
    "_uuid": "4c4cda1cec7ba7257b54edf979789b75257e6d62"
   },
   "source": [
    "The `.iloc[]` method can slice any collection of rows, not necessarily consecutive. For example, we can slice data corresponding to every tenth year."
   ]
  },
  {
   "cell_type": "code",
   "execution_count": 341,
   "metadata": {
    "_uuid": "62abba628df3f92fffbd83b932f7f811c3df8f67"
   },
   "outputs": [
    {
     "data": {
      "text/html": [
       "<div>\n",
       "<style scoped>\n",
       "    .dataframe tbody tr th:only-of-type {\n",
       "        vertical-align: middle;\n",
       "    }\n",
       "\n",
       "    .dataframe tbody tr th {\n",
       "        vertical-align: top;\n",
       "    }\n",
       "\n",
       "    .dataframe thead th {\n",
       "        text-align: right;\n",
       "    }\n",
       "</style>\n",
       "<table border=\"1\" class=\"dataframe\">\n",
       "  <thead>\n",
       "    <tr style=\"text-align: right;\">\n",
       "      <th></th>\n",
       "      <th>Year</th>\n",
       "      <th>Punxsutawney Phil</th>\n",
       "      <th>February Average Temperature</th>\n",
       "      <th>February Average Temperature (Northeast)</th>\n",
       "      <th>February Average Temperature (Midwest)</th>\n",
       "      <th>February Average Temperature (Pennsylvania)</th>\n",
       "      <th>March Average Temperature</th>\n",
       "      <th>March Average Temperature (Northeast)</th>\n",
       "      <th>March Average Temperature (Midwest)</th>\n",
       "      <th>March Average Temperature (Pennsylvania)</th>\n",
       "    </tr>\n",
       "  </thead>\n",
       "  <tbody>\n",
       "    <tr>\n",
       "      <th>0</th>\n",
       "      <td>1886</td>\n",
       "      <td>No Record</td>\n",
       "      <td>NaN</td>\n",
       "      <td>NaN</td>\n",
       "      <td>NaN</td>\n",
       "      <td>NaN</td>\n",
       "      <td>NaN</td>\n",
       "      <td>NaN</td>\n",
       "      <td>NaN</td>\n",
       "      <td>NaN</td>\n",
       "    </tr>\n",
       "    <tr>\n",
       "      <th>10</th>\n",
       "      <td>1896</td>\n",
       "      <td>No Record</td>\n",
       "      <td>35.04</td>\n",
       "      <td>22.2</td>\n",
       "      <td>33.5</td>\n",
       "      <td>26.6</td>\n",
       "      <td>38.03</td>\n",
       "      <td>25.3</td>\n",
       "      <td>36.9</td>\n",
       "      <td>27.8</td>\n",
       "    </tr>\n",
       "    <tr>\n",
       "      <th>20</th>\n",
       "      <td>1906</td>\n",
       "      <td>Full Shadow</td>\n",
       "      <td>33.69</td>\n",
       "      <td>22.0</td>\n",
       "      <td>30.7</td>\n",
       "      <td>25.3</td>\n",
       "      <td>36.10</td>\n",
       "      <td>25.7</td>\n",
       "      <td>33.9</td>\n",
       "      <td>29.1</td>\n",
       "    </tr>\n",
       "    <tr>\n",
       "      <th>30</th>\n",
       "      <td>1916</td>\n",
       "      <td>Full Shadow</td>\n",
       "      <td>33.03</td>\n",
       "      <td>18.9</td>\n",
       "      <td>30.1</td>\n",
       "      <td>22.8</td>\n",
       "      <td>42.15</td>\n",
       "      <td>24.2</td>\n",
       "      <td>40.2</td>\n",
       "      <td>28.2</td>\n",
       "    </tr>\n",
       "    <tr>\n",
       "      <th>40</th>\n",
       "      <td>1926</td>\n",
       "      <td>Full Shadow</td>\n",
       "      <td>37.67</td>\n",
       "      <td>20.5</td>\n",
       "      <td>36.3</td>\n",
       "      <td>25.8</td>\n",
       "      <td>39.65</td>\n",
       "      <td>25.9</td>\n",
       "      <td>36.3</td>\n",
       "      <td>30.2</td>\n",
       "    </tr>\n",
       "    <tr>\n",
       "      <th>50</th>\n",
       "      <td>1936</td>\n",
       "      <td>Full Shadow</td>\n",
       "      <td>25.23</td>\n",
       "      <td>15.6</td>\n",
       "      <td>24.0</td>\n",
       "      <td>18.3</td>\n",
       "      <td>43.43</td>\n",
       "      <td>37.4</td>\n",
       "      <td>46.1</td>\n",
       "      <td>39.4</td>\n",
       "    </tr>\n",
       "    <tr>\n",
       "      <th>60</th>\n",
       "      <td>1946</td>\n",
       "      <td>Full Shadow</td>\n",
       "      <td>34.88</td>\n",
       "      <td>21.4</td>\n",
       "      <td>36.5</td>\n",
       "      <td>27.4</td>\n",
       "      <td>46.78</td>\n",
       "      <td>41.6</td>\n",
       "      <td>52.4</td>\n",
       "      <td>45.3</td>\n",
       "    </tr>\n",
       "    <tr>\n",
       "      <th>70</th>\n",
       "      <td>1956</td>\n",
       "      <td>Full Shadow</td>\n",
       "      <td>32.27</td>\n",
       "      <td>25.6</td>\n",
       "      <td>36.1</td>\n",
       "      <td>29.8</td>\n",
       "      <td>40.75</td>\n",
       "      <td>27.9</td>\n",
       "      <td>42.1</td>\n",
       "      <td>32.9</td>\n",
       "    </tr>\n",
       "    <tr>\n",
       "      <th>80</th>\n",
       "      <td>1966</td>\n",
       "      <td>Full Shadow</td>\n",
       "      <td>31.24</td>\n",
       "      <td>23.2</td>\n",
       "      <td>31.9</td>\n",
       "      <td>26.5</td>\n",
       "      <td>43.00</td>\n",
       "      <td>34.1</td>\n",
       "      <td>44.1</td>\n",
       "      <td>37.5</td>\n",
       "    </tr>\n",
       "    <tr>\n",
       "      <th>90</th>\n",
       "      <td>1976</td>\n",
       "      <td>Full Shadow</td>\n",
       "      <td>39.56</td>\n",
       "      <td>28.8</td>\n",
       "      <td>41.1</td>\n",
       "      <td>33.5</td>\n",
       "      <td>42.31</td>\n",
       "      <td>35.2</td>\n",
       "      <td>47.9</td>\n",
       "      <td>40.8</td>\n",
       "    </tr>\n",
       "    <tr>\n",
       "      <th>100</th>\n",
       "      <td>1986</td>\n",
       "      <td>No Shadow</td>\n",
       "      <td>35.85</td>\n",
       "      <td>22.3</td>\n",
       "      <td>34.3</td>\n",
       "      <td>26.7</td>\n",
       "      <td>46.18</td>\n",
       "      <td>34.7</td>\n",
       "      <td>45.0</td>\n",
       "      <td>38.0</td>\n",
       "    </tr>\n",
       "    <tr>\n",
       "      <th>110</th>\n",
       "      <td>1996</td>\n",
       "      <td>Full Shadow</td>\n",
       "      <td>35.69</td>\n",
       "      <td>23.6</td>\n",
       "      <td>33.4</td>\n",
       "      <td>27.0</td>\n",
       "      <td>39.02</td>\n",
       "      <td>29.7</td>\n",
       "      <td>37.2</td>\n",
       "      <td>31.8</td>\n",
       "    </tr>\n",
       "    <tr>\n",
       "      <th>120</th>\n",
       "      <td>2006</td>\n",
       "      <td>Full Shadow</td>\n",
       "      <td>34.83</td>\n",
       "      <td>26.2</td>\n",
       "      <td>33.7</td>\n",
       "      <td>29.8</td>\n",
       "      <td>42.62</td>\n",
       "      <td>34.0</td>\n",
       "      <td>43.8</td>\n",
       "      <td>37.0</td>\n",
       "    </tr>\n",
       "    <tr>\n",
       "      <th>130</th>\n",
       "      <td>2016</td>\n",
       "      <td>No Shadow</td>\n",
       "      <td>39.47</td>\n",
       "      <td>28.1</td>\n",
       "      <td>36.9</td>\n",
       "      <td>30.8</td>\n",
       "      <td>47.50</td>\n",
       "      <td>38.8</td>\n",
       "      <td>49.5</td>\n",
       "      <td>43.4</td>\n",
       "    </tr>\n",
       "  </tbody>\n",
       "</table>\n",
       "</div>"
      ],
      "text/plain": [
       "     Year Punxsutawney Phil  February Average Temperature  \\\n",
       "0    1886         No Record                           NaN   \n",
       "10   1896         No Record                         35.04   \n",
       "20   1906       Full Shadow                         33.69   \n",
       "30   1916       Full Shadow                         33.03   \n",
       "40   1926       Full Shadow                         37.67   \n",
       "50   1936       Full Shadow                         25.23   \n",
       "60   1946       Full Shadow                         34.88   \n",
       "70   1956       Full Shadow                         32.27   \n",
       "80   1966       Full Shadow                         31.24   \n",
       "90   1976       Full Shadow                         39.56   \n",
       "100  1986         No Shadow                         35.85   \n",
       "110  1996       Full Shadow                         35.69   \n",
       "120  2006       Full Shadow                         34.83   \n",
       "130  2016         No Shadow                         39.47   \n",
       "\n",
       "     February Average Temperature (Northeast)  \\\n",
       "0                                         NaN   \n",
       "10                                       22.2   \n",
       "20                                       22.0   \n",
       "30                                       18.9   \n",
       "40                                       20.5   \n",
       "50                                       15.6   \n",
       "60                                       21.4   \n",
       "70                                       25.6   \n",
       "80                                       23.2   \n",
       "90                                       28.8   \n",
       "100                                      22.3   \n",
       "110                                      23.6   \n",
       "120                                      26.2   \n",
       "130                                      28.1   \n",
       "\n",
       "     February Average Temperature (Midwest)  \\\n",
       "0                                       NaN   \n",
       "10                                     33.5   \n",
       "20                                     30.7   \n",
       "30                                     30.1   \n",
       "40                                     36.3   \n",
       "50                                     24.0   \n",
       "60                                     36.5   \n",
       "70                                     36.1   \n",
       "80                                     31.9   \n",
       "90                                     41.1   \n",
       "100                                    34.3   \n",
       "110                                    33.4   \n",
       "120                                    33.7   \n",
       "130                                    36.9   \n",
       "\n",
       "     February Average Temperature (Pennsylvania)  March Average Temperature  \\\n",
       "0                                            NaN                        NaN   \n",
       "10                                          26.6                      38.03   \n",
       "20                                          25.3                      36.10   \n",
       "30                                          22.8                      42.15   \n",
       "40                                          25.8                      39.65   \n",
       "50                                          18.3                      43.43   \n",
       "60                                          27.4                      46.78   \n",
       "70                                          29.8                      40.75   \n",
       "80                                          26.5                      43.00   \n",
       "90                                          33.5                      42.31   \n",
       "100                                         26.7                      46.18   \n",
       "110                                         27.0                      39.02   \n",
       "120                                         29.8                      42.62   \n",
       "130                                         30.8                      47.50   \n",
       "\n",
       "     March Average Temperature (Northeast)  \\\n",
       "0                                      NaN   \n",
       "10                                    25.3   \n",
       "20                                    25.7   \n",
       "30                                    24.2   \n",
       "40                                    25.9   \n",
       "50                                    37.4   \n",
       "60                                    41.6   \n",
       "70                                    27.9   \n",
       "80                                    34.1   \n",
       "90                                    35.2   \n",
       "100                                   34.7   \n",
       "110                                   29.7   \n",
       "120                                   34.0   \n",
       "130                                   38.8   \n",
       "\n",
       "     March Average Temperature (Midwest)  \\\n",
       "0                                    NaN   \n",
       "10                                  36.9   \n",
       "20                                  33.9   \n",
       "30                                  40.2   \n",
       "40                                  36.3   \n",
       "50                                  46.1   \n",
       "60                                  52.4   \n",
       "70                                  42.1   \n",
       "80                                  44.1   \n",
       "90                                  47.9   \n",
       "100                                 45.0   \n",
       "110                                 37.2   \n",
       "120                                 43.8   \n",
       "130                                 49.5   \n",
       "\n",
       "     March Average Temperature (Pennsylvania)  \n",
       "0                                         NaN  \n",
       "10                                       27.8  \n",
       "20                                       29.1  \n",
       "30                                       28.2  \n",
       "40                                       30.2  \n",
       "50                                       39.4  \n",
       "60                                       45.3  \n",
       "70                                       32.9  \n",
       "80                                       37.5  \n",
       "90                                       40.8  \n",
       "100                                      38.0  \n",
       "110                                      31.8  \n",
       "120                                      37.0  \n",
       "130                                      43.4  "
      ]
     },
     "execution_count": 341,
     "metadata": {},
     "output_type": "execute_result"
    }
   ],
   "source": [
    "df.iloc[0:len(df):10]     #this follows the pattern of List[a:b:c] meaning to get the sublist from a to b, skipping by c's. "
   ]
  },
  {
   "cell_type": "markdown",
   "metadata": {
    "_uuid": "7a32bf17ce9fa1e531f60ac1aa8104ceab3580be"
   },
   "source": [
    "For convenience, we want to work with a subset of dataset, say the most recent 20 years of data. Complete the code below using `.iloc[]` method to give the last 20 entries of the dataset. "
   ]
  },
  {
   "cell_type": "code",
   "execution_count": 342,
   "metadata": {
    "_uuid": "cbd4ee4c5d885bece376e39be38ccfb047d5084b"
   },
   "outputs": [],
   "source": [
    "#use len(df)\n"
   ]
  },
  {
   "cell_type": "markdown",
   "metadata": {
    "_uuid": "d8e179790f56905460e037fb82297afe184a8ee4"
   },
   "source": [
    "Now, we use the `.loc[]` method to find out whether Phil casted a full shadow or not in the year 2000. We use a conditional for the row index."
   ]
  },
  {
   "cell_type": "code",
   "execution_count": 343,
   "metadata": {
    "_uuid": "47d9e94294bdc1f45a21c15966b2ca5639580911"
   },
   "outputs": [
    {
     "data": {
      "text/plain": [
       "114    Full Shadow\n",
       "Name: Punxsutawney Phil, dtype: object"
      ]
     },
     "execution_count": 343,
     "metadata": {},
     "output_type": "execute_result"
    }
   ],
   "source": [
    "df.loc[df['Year']=='2000', 'Punxsutawney Phil']"
   ]
  },
  {
   "cell_type": "markdown",
   "metadata": {},
   "source": [
    "We can't use `iloc` to do the same thing, unless we already know the integer index of the year 2000."
   ]
  },
  {
   "cell_type": "code",
   "execution_count": 344,
   "metadata": {},
   "outputs": [
    {
     "data": {
      "text/plain": [
       "'Full Shadow'"
      ]
     },
     "execution_count": 344,
     "metadata": {},
     "output_type": "execute_result"
    }
   ],
   "source": [
    "df.iloc[114, 1]"
   ]
  },
  {
   "cell_type": "markdown",
   "metadata": {},
   "source": [
    "# Titanic Data Exploration (part 2)"
   ]
  },
  {
   "cell_type": "markdown",
   "metadata": {},
   "source": [
    "First we import the relevant python modules:"
   ]
  },
  {
   "cell_type": "code",
   "execution_count": 345,
   "metadata": {},
   "outputs": [],
   "source": [
    "import numpy as np\n",
    "import pandas as pd\n",
    "\n",
    "# The following two modules matplotlib and seaborn are for plots\n",
    "import matplotlib.pyplot as plt\n",
    "import seaborn as sns # Comment this if seaborn is not installed (or install seaborn)\n",
    "%matplotlib inline\n",
    "\n",
    "# The module re is for regular expressions\n",
    "import re"
   ]
  },
  {
   "cell_type": "markdown",
   "metadata": {},
   "source": [
    "In this exercise session, we will explore the [Titanic dataset from Kaggle](https://www.kaggle.com/c/titanic)."
   ]
  },
  {
   "cell_type": "code",
   "execution_count": 346,
   "metadata": {},
   "outputs": [
    {
     "data": {
      "text/html": [
       "<div>\n",
       "<style scoped>\n",
       "    .dataframe tbody tr th:only-of-type {\n",
       "        vertical-align: middle;\n",
       "    }\n",
       "\n",
       "    .dataframe tbody tr th {\n",
       "        vertical-align: top;\n",
       "    }\n",
       "\n",
       "    .dataframe thead th {\n",
       "        text-align: right;\n",
       "    }\n",
       "</style>\n",
       "<table border=\"1\" class=\"dataframe\">\n",
       "  <thead>\n",
       "    <tr style=\"text-align: right;\">\n",
       "      <th></th>\n",
       "      <th>PassengerId</th>\n",
       "      <th>Survived</th>\n",
       "      <th>Pclass</th>\n",
       "      <th>Name</th>\n",
       "      <th>Sex</th>\n",
       "      <th>Age</th>\n",
       "      <th>SibSp</th>\n",
       "      <th>Parch</th>\n",
       "      <th>Ticket</th>\n",
       "      <th>Fare</th>\n",
       "      <th>Cabin</th>\n",
       "      <th>Embarked</th>\n",
       "    </tr>\n",
       "  </thead>\n",
       "  <tbody>\n",
       "    <tr>\n",
       "      <th>0</th>\n",
       "      <td>1</td>\n",
       "      <td>0</td>\n",
       "      <td>3</td>\n",
       "      <td>Braund, Mr. Owen Harris</td>\n",
       "      <td>male</td>\n",
       "      <td>22.0</td>\n",
       "      <td>1</td>\n",
       "      <td>0</td>\n",
       "      <td>A/5 21171</td>\n",
       "      <td>7.2500</td>\n",
       "      <td>NaN</td>\n",
       "      <td>S</td>\n",
       "    </tr>\n",
       "    <tr>\n",
       "      <th>1</th>\n",
       "      <td>2</td>\n",
       "      <td>1</td>\n",
       "      <td>1</td>\n",
       "      <td>Cumings, Mrs. John Bradley (Florence Briggs Th...</td>\n",
       "      <td>female</td>\n",
       "      <td>38.0</td>\n",
       "      <td>1</td>\n",
       "      <td>0</td>\n",
       "      <td>PC 17599</td>\n",
       "      <td>71.2833</td>\n",
       "      <td>C85</td>\n",
       "      <td>C</td>\n",
       "    </tr>\n",
       "    <tr>\n",
       "      <th>2</th>\n",
       "      <td>3</td>\n",
       "      <td>1</td>\n",
       "      <td>3</td>\n",
       "      <td>Heikkinen, Miss. Laina</td>\n",
       "      <td>female</td>\n",
       "      <td>26.0</td>\n",
       "      <td>0</td>\n",
       "      <td>0</td>\n",
       "      <td>STON/O2. 3101282</td>\n",
       "      <td>7.9250</td>\n",
       "      <td>NaN</td>\n",
       "      <td>S</td>\n",
       "    </tr>\n",
       "    <tr>\n",
       "      <th>3</th>\n",
       "      <td>4</td>\n",
       "      <td>1</td>\n",
       "      <td>1</td>\n",
       "      <td>Futrelle, Mrs. Jacques Heath (Lily May Peel)</td>\n",
       "      <td>female</td>\n",
       "      <td>35.0</td>\n",
       "      <td>1</td>\n",
       "      <td>0</td>\n",
       "      <td>113803</td>\n",
       "      <td>53.1000</td>\n",
       "      <td>C123</td>\n",
       "      <td>S</td>\n",
       "    </tr>\n",
       "    <tr>\n",
       "      <th>4</th>\n",
       "      <td>5</td>\n",
       "      <td>0</td>\n",
       "      <td>3</td>\n",
       "      <td>Allen, Mr. William Henry</td>\n",
       "      <td>male</td>\n",
       "      <td>35.0</td>\n",
       "      <td>0</td>\n",
       "      <td>0</td>\n",
       "      <td>373450</td>\n",
       "      <td>8.0500</td>\n",
       "      <td>NaN</td>\n",
       "      <td>S</td>\n",
       "    </tr>\n",
       "  </tbody>\n",
       "</table>\n",
       "</div>"
      ],
      "text/plain": [
       "   PassengerId  Survived  Pclass  \\\n",
       "0            1         0       3   \n",
       "1            2         1       1   \n",
       "2            3         1       3   \n",
       "3            4         1       1   \n",
       "4            5         0       3   \n",
       "\n",
       "                                                Name     Sex   Age  SibSp  \\\n",
       "0                            Braund, Mr. Owen Harris    male  22.0      1   \n",
       "1  Cumings, Mrs. John Bradley (Florence Briggs Th...  female  38.0      1   \n",
       "2                             Heikkinen, Miss. Laina  female  26.0      0   \n",
       "3       Futrelle, Mrs. Jacques Heath (Lily May Peel)  female  35.0      1   \n",
       "4                           Allen, Mr. William Henry    male  35.0      0   \n",
       "\n",
       "   Parch            Ticket     Fare Cabin Embarked  \n",
       "0      0         A/5 21171   7.2500   NaN        S  \n",
       "1      0          PC 17599  71.2833   C85        C  \n",
       "2      0  STON/O2. 3101282   7.9250   NaN        S  \n",
       "3      0            113803  53.1000  C123        S  \n",
       "4      0            373450   8.0500   NaN        S  "
      ]
     },
     "execution_count": 346,
     "metadata": {},
     "output_type": "execute_result"
    }
   ],
   "source": [
    "df = pd.read_csv('train.csv')  \n",
    "df.head()"
   ]
  },
  {
   "cell_type": "markdown",
   "metadata": {},
   "source": [
    "[Description for the columns](https://www.kaggle.com/c/titanic/data) is as follows.  \n",
    "\n",
    "|Variable|\tDefinition|\tKey|   \n",
    "|:---  |:--- |:---|\n",
    "|PassengerId| Passenger ID |\n",
    "|Survived| \tSurvival|\t0 = No, 1 = Yes |\n",
    "|Pclass\t|Ticket class|\t1 = 1st, 2 = 2nd, 3 = 3rd|\n",
    "|Sex\t|Sex|\t\n",
    "|Age\t|Age in years\t|\n",
    "|SibSp\t|# of siblings / spouses aboard the Titanic\t|\n",
    "|Parch\t|# of parents / children aboard the Titanic\t|\n",
    "|Ticket\t|Ticket number\t|\n",
    "|Fare\t|Passenger fare\t|\n",
    "|Cabin\t|Cabin number\t|\n",
    "|Embarked\t|Port of Embarkation\t|C = Cherbourg, Q = Queenstown, S = Southampton|"
   ]
  },
  {
   "cell_type": "markdown",
   "metadata": {},
   "source": [
    "### 1. Exploring the dataset\n",
    "\n",
    "Use [`describe`](https://pandas.pydata.org/pandas-docs/stable/reference/api/pandas.DataFrame.describe.html) function for numerical features (columns) to get a brief overview of the statistics of the data."
   ]
  },
  {
   "cell_type": "code",
   "execution_count": 347,
   "metadata": {},
   "outputs": [
    {
     "data": {
      "text/html": [
       "<div>\n",
       "<style scoped>\n",
       "    .dataframe tbody tr th:only-of-type {\n",
       "        vertical-align: middle;\n",
       "    }\n",
       "\n",
       "    .dataframe tbody tr th {\n",
       "        vertical-align: top;\n",
       "    }\n",
       "\n",
       "    .dataframe thead th {\n",
       "        text-align: right;\n",
       "    }\n",
       "</style>\n",
       "<table border=\"1\" class=\"dataframe\">\n",
       "  <thead>\n",
       "    <tr style=\"text-align: right;\">\n",
       "      <th></th>\n",
       "      <th>PassengerId</th>\n",
       "      <th>Survived</th>\n",
       "      <th>Pclass</th>\n",
       "      <th>Age</th>\n",
       "      <th>SibSp</th>\n",
       "      <th>Parch</th>\n",
       "      <th>Fare</th>\n",
       "    </tr>\n",
       "  </thead>\n",
       "  <tbody>\n",
       "    <tr>\n",
       "      <th>count</th>\n",
       "      <td>891.000000</td>\n",
       "      <td>891.000000</td>\n",
       "      <td>891.000000</td>\n",
       "      <td>714.000000</td>\n",
       "      <td>891.000000</td>\n",
       "      <td>891.000000</td>\n",
       "      <td>891.000000</td>\n",
       "    </tr>\n",
       "    <tr>\n",
       "      <th>mean</th>\n",
       "      <td>446.000000</td>\n",
       "      <td>0.383838</td>\n",
       "      <td>2.308642</td>\n",
       "      <td>29.699118</td>\n",
       "      <td>0.523008</td>\n",
       "      <td>0.381594</td>\n",
       "      <td>32.204208</td>\n",
       "    </tr>\n",
       "    <tr>\n",
       "      <th>std</th>\n",
       "      <td>257.353842</td>\n",
       "      <td>0.486592</td>\n",
       "      <td>0.836071</td>\n",
       "      <td>14.526497</td>\n",
       "      <td>1.102743</td>\n",
       "      <td>0.806057</td>\n",
       "      <td>49.693429</td>\n",
       "    </tr>\n",
       "    <tr>\n",
       "      <th>min</th>\n",
       "      <td>1.000000</td>\n",
       "      <td>0.000000</td>\n",
       "      <td>1.000000</td>\n",
       "      <td>0.420000</td>\n",
       "      <td>0.000000</td>\n",
       "      <td>0.000000</td>\n",
       "      <td>0.000000</td>\n",
       "    </tr>\n",
       "    <tr>\n",
       "      <th>25%</th>\n",
       "      <td>223.500000</td>\n",
       "      <td>0.000000</td>\n",
       "      <td>2.000000</td>\n",
       "      <td>20.125000</td>\n",
       "      <td>0.000000</td>\n",
       "      <td>0.000000</td>\n",
       "      <td>7.910400</td>\n",
       "    </tr>\n",
       "    <tr>\n",
       "      <th>50%</th>\n",
       "      <td>446.000000</td>\n",
       "      <td>0.000000</td>\n",
       "      <td>3.000000</td>\n",
       "      <td>28.000000</td>\n",
       "      <td>0.000000</td>\n",
       "      <td>0.000000</td>\n",
       "      <td>14.454200</td>\n",
       "    </tr>\n",
       "    <tr>\n",
       "      <th>75%</th>\n",
       "      <td>668.500000</td>\n",
       "      <td>1.000000</td>\n",
       "      <td>3.000000</td>\n",
       "      <td>38.000000</td>\n",
       "      <td>1.000000</td>\n",
       "      <td>0.000000</td>\n",
       "      <td>31.000000</td>\n",
       "    </tr>\n",
       "    <tr>\n",
       "      <th>max</th>\n",
       "      <td>891.000000</td>\n",
       "      <td>1.000000</td>\n",
       "      <td>3.000000</td>\n",
       "      <td>80.000000</td>\n",
       "      <td>8.000000</td>\n",
       "      <td>6.000000</td>\n",
       "      <td>512.329200</td>\n",
       "    </tr>\n",
       "  </tbody>\n",
       "</table>\n",
       "</div>"
      ],
      "text/plain": [
       "       PassengerId    Survived      Pclass         Age       SibSp  \\\n",
       "count   891.000000  891.000000  891.000000  714.000000  891.000000   \n",
       "mean    446.000000    0.383838    2.308642   29.699118    0.523008   \n",
       "std     257.353842    0.486592    0.836071   14.526497    1.102743   \n",
       "min       1.000000    0.000000    1.000000    0.420000    0.000000   \n",
       "25%     223.500000    0.000000    2.000000   20.125000    0.000000   \n",
       "50%     446.000000    0.000000    3.000000   28.000000    0.000000   \n",
       "75%     668.500000    1.000000    3.000000   38.000000    1.000000   \n",
       "max     891.000000    1.000000    3.000000   80.000000    8.000000   \n",
       "\n",
       "            Parch        Fare  \n",
       "count  891.000000  891.000000  \n",
       "mean     0.381594   32.204208  \n",
       "std      0.806057   49.693429  \n",
       "min      0.000000    0.000000  \n",
       "25%      0.000000    7.910400  \n",
       "50%      0.000000   14.454200  \n",
       "75%      0.000000   31.000000  \n",
       "max      6.000000  512.329200  "
      ]
     },
     "execution_count": 347,
     "metadata": {},
     "output_type": "execute_result"
    }
   ],
   "source": [
    "df.describe()"
   ]
  },
  {
   "cell_type": "markdown",
   "metadata": {},
   "source": [
    "Do the same as above for qualitative (non-numerical) features. Use `include='O'` as a parameter in the [`describe`](https://pandas.pydata.org/pandas-docs/stable/reference/api/pandas.DataFrame.describe.html) function."
   ]
  },
  {
   "cell_type": "code",
   "execution_count": null,
   "metadata": {},
   "outputs": [],
   "source": []
  },
  {
   "cell_type": "markdown",
   "metadata": {},
   "source": [
    "We can use the functions [`isnull()`](https://pandas.pydata.org/pandas-docs/stable/reference/api/pandas.DataFrame.isnull.html) and [`sum()`](https://pandas.pydata.org/pandas-docs/stable/reference/api/pandas.DataFrame.sum.html) on the dataframe to find out the number of missing values in each column."
   ]
  },
  {
   "cell_type": "code",
   "execution_count": 348,
   "metadata": {},
   "outputs": [
    {
     "data": {
      "text/plain": [
       "PassengerId      0\n",
       "Survived         0\n",
       "Pclass           0\n",
       "Name             0\n",
       "Sex              0\n",
       "Age            177\n",
       "SibSp            0\n",
       "Parch            0\n",
       "Ticket           0\n",
       "Fare             0\n",
       "Cabin          687\n",
       "Embarked         2\n",
       "dtype: int64"
      ]
     },
     "execution_count": 348,
     "metadata": {},
     "output_type": "execute_result"
    }
   ],
   "source": [
    "df.isnull().sum()"
   ]
  },
  {
   "cell_type": "markdown",
   "metadata": {},
   "source": [
    "Some questions to consider:\n",
    "1. Suppose the final goal is to design a model to predict whether a passenger survives or not, which of these features(columns) seem like important predictors? How can you analyse the data in view of this objective?\n",
    "2. What are the possible ways to understand the correlation of features with survival? Does correlation always implies causation? \n",
    "3. Which values might we want to drop? Which might we want to fill?\n",
    "3. If you consider filling the missing values, what are the possible options? Can you make use of other values in that column to fill the missing values? Can you make use of other values in that row as well as values in that column to fill the missing values \n",
    "4. Can the title in the name column be used for guessing a passengers' age based on the age values of other passengers with the same title?"
   ]
  },
  {
   "cell_type": "markdown",
   "metadata": {},
   "source": [
    "We make the `PassengerId` column the index of the dataframe by using [`set_index()`](https://pandas.pydata.org/pandas-docs/stable/reference/api/pandas.DataFrame.set_index.html). The `inplace=True` is necessary because the default set_index creates a new df with the set index. Setting inplace to true modifies the existing dataframe. "
   ]
  },
  {
   "cell_type": "code",
   "execution_count": 349,
   "metadata": {},
   "outputs": [],
   "source": [
    "df.set_index('PassengerId', inplace=True)"
   ]
  },
  {
   "cell_type": "markdown",
   "metadata": {},
   "source": [
    "Check again whether the index has been changed in the original dataframe. "
   ]
  },
  {
   "cell_type": "code",
   "execution_count": 350,
   "metadata": {},
   "outputs": [
    {
     "data": {
      "text/html": [
       "<div>\n",
       "<style scoped>\n",
       "    .dataframe tbody tr th:only-of-type {\n",
       "        vertical-align: middle;\n",
       "    }\n",
       "\n",
       "    .dataframe tbody tr th {\n",
       "        vertical-align: top;\n",
       "    }\n",
       "\n",
       "    .dataframe thead th {\n",
       "        text-align: right;\n",
       "    }\n",
       "</style>\n",
       "<table border=\"1\" class=\"dataframe\">\n",
       "  <thead>\n",
       "    <tr style=\"text-align: right;\">\n",
       "      <th></th>\n",
       "      <th>Survived</th>\n",
       "      <th>Pclass</th>\n",
       "      <th>Name</th>\n",
       "      <th>Sex</th>\n",
       "      <th>Age</th>\n",
       "      <th>SibSp</th>\n",
       "      <th>Parch</th>\n",
       "      <th>Ticket</th>\n",
       "      <th>Fare</th>\n",
       "      <th>Cabin</th>\n",
       "      <th>Embarked</th>\n",
       "    </tr>\n",
       "    <tr>\n",
       "      <th>PassengerId</th>\n",
       "      <th></th>\n",
       "      <th></th>\n",
       "      <th></th>\n",
       "      <th></th>\n",
       "      <th></th>\n",
       "      <th></th>\n",
       "      <th></th>\n",
       "      <th></th>\n",
       "      <th></th>\n",
       "      <th></th>\n",
       "      <th></th>\n",
       "    </tr>\n",
       "  </thead>\n",
       "  <tbody>\n",
       "    <tr>\n",
       "      <th>1</th>\n",
       "      <td>0</td>\n",
       "      <td>3</td>\n",
       "      <td>Braund, Mr. Owen Harris</td>\n",
       "      <td>male</td>\n",
       "      <td>22.0</td>\n",
       "      <td>1</td>\n",
       "      <td>0</td>\n",
       "      <td>A/5 21171</td>\n",
       "      <td>7.2500</td>\n",
       "      <td>NaN</td>\n",
       "      <td>S</td>\n",
       "    </tr>\n",
       "    <tr>\n",
       "      <th>2</th>\n",
       "      <td>1</td>\n",
       "      <td>1</td>\n",
       "      <td>Cumings, Mrs. John Bradley (Florence Briggs Th...</td>\n",
       "      <td>female</td>\n",
       "      <td>38.0</td>\n",
       "      <td>1</td>\n",
       "      <td>0</td>\n",
       "      <td>PC 17599</td>\n",
       "      <td>71.2833</td>\n",
       "      <td>C85</td>\n",
       "      <td>C</td>\n",
       "    </tr>\n",
       "    <tr>\n",
       "      <th>3</th>\n",
       "      <td>1</td>\n",
       "      <td>3</td>\n",
       "      <td>Heikkinen, Miss. Laina</td>\n",
       "      <td>female</td>\n",
       "      <td>26.0</td>\n",
       "      <td>0</td>\n",
       "      <td>0</td>\n",
       "      <td>STON/O2. 3101282</td>\n",
       "      <td>7.9250</td>\n",
       "      <td>NaN</td>\n",
       "      <td>S</td>\n",
       "    </tr>\n",
       "    <tr>\n",
       "      <th>4</th>\n",
       "      <td>1</td>\n",
       "      <td>1</td>\n",
       "      <td>Futrelle, Mrs. Jacques Heath (Lily May Peel)</td>\n",
       "      <td>female</td>\n",
       "      <td>35.0</td>\n",
       "      <td>1</td>\n",
       "      <td>0</td>\n",
       "      <td>113803</td>\n",
       "      <td>53.1000</td>\n",
       "      <td>C123</td>\n",
       "      <td>S</td>\n",
       "    </tr>\n",
       "    <tr>\n",
       "      <th>5</th>\n",
       "      <td>0</td>\n",
       "      <td>3</td>\n",
       "      <td>Allen, Mr. William Henry</td>\n",
       "      <td>male</td>\n",
       "      <td>35.0</td>\n",
       "      <td>0</td>\n",
       "      <td>0</td>\n",
       "      <td>373450</td>\n",
       "      <td>8.0500</td>\n",
       "      <td>NaN</td>\n",
       "      <td>S</td>\n",
       "    </tr>\n",
       "  </tbody>\n",
       "</table>\n",
       "</div>"
      ],
      "text/plain": [
       "             Survived  Pclass  \\\n",
       "PassengerId                     \n",
       "1                   0       3   \n",
       "2                   1       1   \n",
       "3                   1       3   \n",
       "4                   1       1   \n",
       "5                   0       3   \n",
       "\n",
       "                                                          Name     Sex   Age  \\\n",
       "PassengerId                                                                    \n",
       "1                                      Braund, Mr. Owen Harris    male  22.0   \n",
       "2            Cumings, Mrs. John Bradley (Florence Briggs Th...  female  38.0   \n",
       "3                                       Heikkinen, Miss. Laina  female  26.0   \n",
       "4                 Futrelle, Mrs. Jacques Heath (Lily May Peel)  female  35.0   \n",
       "5                                     Allen, Mr. William Henry    male  35.0   \n",
       "\n",
       "             SibSp  Parch            Ticket     Fare Cabin Embarked  \n",
       "PassengerId                                                          \n",
       "1                1      0         A/5 21171   7.2500   NaN        S  \n",
       "2                1      0          PC 17599  71.2833   C85        C  \n",
       "3                0      0  STON/O2. 3101282   7.9250   NaN        S  \n",
       "4                1      0            113803  53.1000  C123        S  \n",
       "5                0      0            373450   8.0500   NaN        S  "
      ]
     },
     "execution_count": 350,
     "metadata": {},
     "output_type": "execute_result"
    }
   ],
   "source": [
    "df.head()"
   ]
  },
  {
   "cell_type": "markdown",
   "metadata": {},
   "source": [
    " Use the built-in pandas function to count the number of surviving and non-surviving passengers. Use [`value_counts()`](https://pandas.pydata.org/pandas-docs/stable/reference/api/pandas.Series.value_counts.html) on the column `df['Survived']`."
   ]
  },
  {
   "cell_type": "code",
   "execution_count": null,
   "metadata": {},
   "outputs": [],
   "source": []
  },
  {
   "cell_type": "markdown",
   "metadata": {},
   "source": [
    "Below is a pie chart of the same using `matplotlib`:"
   ]
  },
  {
   "cell_type": "code",
   "execution_count": 351,
   "metadata": {},
   "outputs": [
    {
     "data": {
      "image/png": "[encoded data removed]",
      "text/plain": [
       "<Figure size 432x288 with 1 Axes>"
      ]
     },
     "metadata": {},
     "output_type": "display_data"
    }
   ],
   "source": [
    "plt.axis('equal')\n",
    "plt.pie(df['Survived'].value_counts(), labels=('Died', \"Survived\"));"
   ]
  },
  {
   "cell_type": "markdown",
   "metadata": {},
   "source": [
    "Below is a bar chart for the survival rate among male and female passengers using `seaborn`. Here is [Seaborn cheatsheet](https://s3.amazonaws.com/assets.datacamp.com/blog_assets/Python_Seaborn_Cheat_Sheet.pdf)."
   ]
  },
  {
   "cell_type": "code",
   "execution_count": 352,
   "metadata": {},
   "outputs": [
    {
     "data": {
      "image/png": "[encoded data removed]",
      "text/plain": [
       "<Figure size 432x288 with 1 Axes>"
      ]
     },
     "metadata": {
      "needs_background": "light"
     },
     "output_type": "display_data"
    }
   ],
   "source": [
    "sns.barplot(x = 'Sex', y = 'Survived', data = df);"
   ]
  },
  {
   "cell_type": "markdown",
   "metadata": {},
   "source": [
    "Plot the survival rate among passengers in each ticket class."
   ]
  },
  {
   "cell_type": "code",
   "execution_count": null,
   "metadata": {},
   "outputs": [],
   "source": []
  },
  {
   "cell_type": "markdown",
   "metadata": {},
   "source": [
    "We can also check the survival rate among both genders within the three ticket classes as follows."
   ]
  },
  {
   "cell_type": "code",
   "execution_count": 353,
   "metadata": {},
   "outputs": [
    {
     "data": {
      "image/png": "[encoded data removed]",
      "text/plain": [
       "<Figure size 432x288 with 1 Axes>"
      ]
     },
     "metadata": {
      "needs_background": "light"
     },
     "output_type": "display_data"
    }
   ],
   "source": [
    "sns.barplot(x='Pclass', y='Survived', hue='Sex', data=df);"
   ]
  },
  {
   "cell_type": "markdown",
   "metadata": {},
   "source": [
    "From the above chart, do you think that the gender affect the chance of survival for all the three ticket classes equally? Or does it seem like gender's effect is more pronounced for a certain ticket class passengers than others? We plot the  point estimates and confidence intervals for each sub-category to see it more clearly."
   ]
  },
  {
   "cell_type": "code",
   "execution_count": 354,
   "metadata": {},
   "outputs": [
    {
     "data": {
      "image/png": "[encoded data removed]",
      "text/plain": [
       "<Figure size 432x288 with 1 Axes>"
      ]
     },
     "metadata": {
      "needs_background": "light"
     },
     "output_type": "display_data"
    }
   ],
   "source": [
    "sns.pointplot(x='Sex', y='Survived', hue='Pclass', data=df);"
   ]
  },
  {
   "cell_type": "markdown",
   "metadata": {},
   "source": [
    "Notice the steeper slope for the second class."
   ]
  },
  {
   "cell_type": "markdown",
   "metadata": {},
   "source": [
    "It seems that gender and ticket class put together give more information about the survival chance than both of them separately. Please feel free to later explore other variables and combination of variables in depth in your own time."
   ]
  },
  {
   "cell_type": "markdown",
   "metadata": {},
   "source": [
    "This is how many children were on board."
   ]
  },
  {
   "cell_type": "code",
   "execution_count": 355,
   "metadata": {},
   "outputs": [
    {
     "data": {
      "text/plain": [
       "113"
      ]
     },
     "execution_count": 355,
     "metadata": {},
     "output_type": "execute_result"
    }
   ],
   "source": [
    "df[df['Age']<18].shape[0]"
   ]
  },
  {
   "cell_type": "markdown",
   "metadata": {},
   "source": [
    "How many of the children on board survived?"
   ]
  },
  {
   "cell_type": "code",
   "execution_count": null,
   "metadata": {},
   "outputs": [],
   "source": []
  },
  {
   "cell_type": "markdown",
   "metadata": {},
   "source": [
    "What is the most common port of embarkment? Hint: Check the frequency (counts) of each value in the Embarked column using an built-in function. "
   ]
  },
  {
   "cell_type": "code",
   "execution_count": null,
   "metadata": {},
   "outputs": [],
   "source": []
  },
  {
   "cell_type": "markdown",
   "metadata": {},
   "source": [
    "As we saw earlier, there are missing values in the column for Embarked. Fill them with the most commonly occuring value. Hint: Use [`fillna()`](https://pandas.pydata.org/pandas-docs/stable/reference/api/pandas.DataFrame.fillna.html). You have to use `inPlace` here too."
   ]
  },
  {
   "cell_type": "code",
   "execution_count": null,
   "metadata": {},
   "outputs": [],
   "source": []
  },
  {
   "cell_type": "markdown",
   "metadata": {},
   "source": [
    "We should remove the *Cabin* column from the DataFrame-- too many values are missing. Hint: Use [`drop()`](https://pandas.pydata.org/pandas-docs/stable/generated/pandas.DataFrame.drop.html) with appropriate value for the `axis` keyword, and appropriate values for the `label` keyword."
   ]
  },
  {
   "cell_type": "code",
   "execution_count": null,
   "metadata": {},
   "outputs": [],
   "source": []
  },
  {
   "cell_type": "markdown",
   "metadata": {},
   "source": [
    "Let us check whether the column is indeed dropped. If not, modify the code above accordingly."
   ]
  },
  {
   "cell_type": "code",
   "execution_count": 356,
   "metadata": {},
   "outputs": [
    {
     "data": {
      "text/html": [
       "<div>\n",
       "<style scoped>\n",
       "    .dataframe tbody tr th:only-of-type {\n",
       "        vertical-align: middle;\n",
       "    }\n",
       "\n",
       "    .dataframe tbody tr th {\n",
       "        vertical-align: top;\n",
       "    }\n",
       "\n",
       "    .dataframe thead th {\n",
       "        text-align: right;\n",
       "    }\n",
       "</style>\n",
       "<table border=\"1\" class=\"dataframe\">\n",
       "  <thead>\n",
       "    <tr style=\"text-align: right;\">\n",
       "      <th></th>\n",
       "      <th>Survived</th>\n",
       "      <th>Pclass</th>\n",
       "      <th>Name</th>\n",
       "      <th>Sex</th>\n",
       "      <th>Age</th>\n",
       "      <th>SibSp</th>\n",
       "      <th>Parch</th>\n",
       "      <th>Ticket</th>\n",
       "      <th>Fare</th>\n",
       "      <th>Cabin</th>\n",
       "      <th>Embarked</th>\n",
       "    </tr>\n",
       "    <tr>\n",
       "      <th>PassengerId</th>\n",
       "      <th></th>\n",
       "      <th></th>\n",
       "      <th></th>\n",
       "      <th></th>\n",
       "      <th></th>\n",
       "      <th></th>\n",
       "      <th></th>\n",
       "      <th></th>\n",
       "      <th></th>\n",
       "      <th></th>\n",
       "      <th></th>\n",
       "    </tr>\n",
       "  </thead>\n",
       "  <tbody>\n",
       "    <tr>\n",
       "      <th>1</th>\n",
       "      <td>0</td>\n",
       "      <td>3</td>\n",
       "      <td>Braund, Mr. Owen Harris</td>\n",
       "      <td>male</td>\n",
       "      <td>22.0</td>\n",
       "      <td>1</td>\n",
       "      <td>0</td>\n",
       "      <td>A/5 21171</td>\n",
       "      <td>7.2500</td>\n",
       "      <td>NaN</td>\n",
       "      <td>S</td>\n",
       "    </tr>\n",
       "    <tr>\n",
       "      <th>2</th>\n",
       "      <td>1</td>\n",
       "      <td>1</td>\n",
       "      <td>Cumings, Mrs. John Bradley (Florence Briggs Th...</td>\n",
       "      <td>female</td>\n",
       "      <td>38.0</td>\n",
       "      <td>1</td>\n",
       "      <td>0</td>\n",
       "      <td>PC 17599</td>\n",
       "      <td>71.2833</td>\n",
       "      <td>C85</td>\n",
       "      <td>C</td>\n",
       "    </tr>\n",
       "    <tr>\n",
       "      <th>3</th>\n",
       "      <td>1</td>\n",
       "      <td>3</td>\n",
       "      <td>Heikkinen, Miss. Laina</td>\n",
       "      <td>female</td>\n",
       "      <td>26.0</td>\n",
       "      <td>0</td>\n",
       "      <td>0</td>\n",
       "      <td>STON/O2. 3101282</td>\n",
       "      <td>7.9250</td>\n",
       "      <td>NaN</td>\n",
       "      <td>S</td>\n",
       "    </tr>\n",
       "    <tr>\n",
       "      <th>4</th>\n",
       "      <td>1</td>\n",
       "      <td>1</td>\n",
       "      <td>Futrelle, Mrs. Jacques Heath (Lily May Peel)</td>\n",
       "      <td>female</td>\n",
       "      <td>35.0</td>\n",
       "      <td>1</td>\n",
       "      <td>0</td>\n",
       "      <td>113803</td>\n",
       "      <td>53.1000</td>\n",
       "      <td>C123</td>\n",
       "      <td>S</td>\n",
       "    </tr>\n",
       "    <tr>\n",
       "      <th>5</th>\n",
       "      <td>0</td>\n",
       "      <td>3</td>\n",
       "      <td>Allen, Mr. William Henry</td>\n",
       "      <td>male</td>\n",
       "      <td>35.0</td>\n",
       "      <td>0</td>\n",
       "      <td>0</td>\n",
       "      <td>373450</td>\n",
       "      <td>8.0500</td>\n",
       "      <td>NaN</td>\n",
       "      <td>S</td>\n",
       "    </tr>\n",
       "  </tbody>\n",
       "</table>\n",
       "</div>"
      ],
      "text/plain": [
       "             Survived  Pclass  \\\n",
       "PassengerId                     \n",
       "1                   0       3   \n",
       "2                   1       1   \n",
       "3                   1       3   \n",
       "4                   1       1   \n",
       "5                   0       3   \n",
       "\n",
       "                                                          Name     Sex   Age  \\\n",
       "PassengerId                                                                    \n",
       "1                                      Braund, Mr. Owen Harris    male  22.0   \n",
       "2            Cumings, Mrs. John Bradley (Florence Briggs Th...  female  38.0   \n",
       "3                                       Heikkinen, Miss. Laina  female  26.0   \n",
       "4                 Futrelle, Mrs. Jacques Heath (Lily May Peel)  female  35.0   \n",
       "5                                     Allen, Mr. William Henry    male  35.0   \n",
       "\n",
       "             SibSp  Parch            Ticket     Fare Cabin Embarked  \n",
       "PassengerId                                                          \n",
       "1                1      0         A/5 21171   7.2500   NaN        S  \n",
       "2                1      0          PC 17599  71.2833   C85        C  \n",
       "3                0      0  STON/O2. 3101282   7.9250   NaN        S  \n",
       "4                1      0            113803  53.1000  C123        S  \n",
       "5                0      0            373450   8.0500   NaN        S  "
      ]
     },
     "execution_count": 356,
     "metadata": {},
     "output_type": "execute_result"
    }
   ],
   "source": [
    "df.head()"
   ]
  },
  {
   "cell_type": "markdown",
   "metadata": {},
   "source": [
    "We check again to see the missing values in the DataFrame. "
   ]
  },
  {
   "cell_type": "code",
   "execution_count": 357,
   "metadata": {},
   "outputs": [
    {
     "data": {
      "text/plain": [
       "Survived      0\n",
       "Pclass        0\n",
       "Name          0\n",
       "Sex           0\n",
       "Age         177\n",
       "SibSp         0\n",
       "Parch         0\n",
       "Ticket        0\n",
       "Fare          0\n",
       "Cabin       687\n",
       "Embarked      2\n",
       "dtype: int64"
      ]
     },
     "execution_count": 357,
     "metadata": {},
     "output_type": "execute_result"
    }
   ],
   "source": [
    "df.isnull().sum()"
   ]
  },
  {
   "cell_type": "markdown",
   "metadata": {},
   "source": [
    "### 2. Feature Engineering: Creating a new column for the titles of the passengers\n",
    "\n",
    "Now, we are going to create a new feature (column) for titles of the passengers. For that, let us first take at the passengers' names. "
   ]
  },
  {
   "cell_type": "code",
   "execution_count": 358,
   "metadata": {},
   "outputs": [
    {
     "data": {
      "text/plain": [
       "array(['Braund, Mr. Owen Harris',\n",
       "       'Cumings, Mrs. John Bradley (Florence Briggs Thayer)',\n",
       "       'Heikkinen, Miss. Laina',\n",
       "       'Futrelle, Mrs. Jacques Heath (Lily May Peel)',\n",
       "       'Allen, Mr. William Henry', 'Moran, Mr. James',\n",
       "       'McCarthy, Mr. Timothy J', 'Palsson, Master. Gosta Leonard',\n",
       "       'Johnson, Mrs. Oscar W (Elisabeth Vilhelmina Berg)',\n",
       "       'Nasser, Mrs. Nicholas (Adele Achem)',\n",
       "       'Sandstrom, Miss. Marguerite Rut', 'Bonnell, Miss. Elizabeth',\n",
       "       'Saundercock, Mr. William Henry', 'Andersson, Mr. Anders Johan',\n",
       "       'Vestrom, Miss. Hulda Amanda Adolfina',\n",
       "       'Hewlett, Mrs. (Mary D Kingcome) ', 'Rice, Master. Eugene',\n",
       "       'Williams, Mr. Charles Eugene',\n",
       "       'Vander Planke, Mrs. Julius (Emelia Maria Vandemoortele)',\n",
       "       'Masselmani, Mrs. Fatima'], dtype=object)"
      ]
     },
     "execution_count": 358,
     "metadata": {},
     "output_type": "execute_result"
    }
   ],
   "source": [
    "df.loc[:20, 'Name'].values"
   ]
  },
  {
   "cell_type": "markdown",
   "metadata": {},
   "source": [
    "We notice one of the identifying characteristics of the titles above are that they end with a period. Regular expressions are very useful in the process of data extraction and we will use them using the python module `re` to extract the titles from the *Name* column. We will use regular expressions characters to construct a pattern and then use built-in function `findall` for pattern matching.\n",
    "\n",
    "Some useful regular expression characters:\n",
    "- `\\w`: pattern must contain a word character, such as letters.\n",
    "- `[ ]`: pattern must contain one of the characters inside the square brackets. If there is only one character inside the square brackets, for example `[.]`, then the pattern must contain it.\n",
    "\n",
    "Let's try this."
   ]
  },
  {
   "cell_type": "code",
   "execution_count": 359,
   "metadata": {},
   "outputs": [
    {
     "data": {
      "text/plain": [
       "['Mr.']"
      ]
     },
     "execution_count": 359,
     "metadata": {},
     "output_type": "execute_result"
    }
   ],
   "source": [
    "re.findall(\"\\w\\w[.]\", 'Braund, Mr. Owen Harris')"
   ]
  },
  {
   "cell_type": "markdown",
   "metadata": {},
   "source": [
    "It worked! It returned a list instead of the string, so we use indexing to get the first element of the list."
   ]
  },
  {
   "cell_type": "code",
   "execution_count": 360,
   "metadata": {},
   "outputs": [
    {
     "data": {
      "text/plain": [
       "'Mr.'"
      ]
     },
     "execution_count": 360,
     "metadata": {},
     "output_type": "execute_result"
    }
   ],
   "source": [
    "re.findall(\"\\w\\w[.]\", 'Braund, Mr. Owen Harris')[0]"
   ]
  },
  {
   "cell_type": "markdown",
   "metadata": {},
   "source": [
    "Let us try it on another name:"
   ]
  },
  {
   "cell_type": "code",
   "execution_count": 361,
   "metadata": {},
   "outputs": [
    {
     "data": {
      "text/plain": [
       "'ss.'"
      ]
     },
     "execution_count": 361,
     "metadata": {},
     "output_type": "execute_result"
    }
   ],
   "source": [
    "re.findall(\"\\w\\w[.]\", 'Heikkinen, Miss. Laina')[0]"
   ]
  },
  {
   "cell_type": "markdown",
   "metadata": {},
   "source": [
    "So, we want a pattern that automatically detects the length of the title and returns the entire title.\n",
    "\n",
    "For regular expressions, \\+ is added to a character/pattern to denote it is present one or more times. For example, `\\w+` is used to denote one or more word characters. Fill in the regular expression in the below cell that will detect a period preceeded by one or more word characters."
   ]
  },
  {
   "cell_type": "code",
   "execution_count": 362,
   "metadata": {},
   "outputs": [
    {
     "ename": "IndexError",
     "evalue": "list index out of range",
     "output_type": "error",
     "traceback": [
      "\u001b[1;31m---------------------------------------------------------------------------\u001b[0m",
      "\u001b[1;31mIndexError\u001b[0m                                Traceback (most recent call last)",
      "\u001b[1;32m<ipython-input-362-276fbd91bedc>\u001b[0m in \u001b[0;36m<module>\u001b[1;34m\u001b[0m\n\u001b[0;32m      1\u001b[0m \u001b[1;31m# Fill in below:\u001b[0m\u001b[1;33m\u001b[0m\u001b[1;33m\u001b[0m\u001b[1;33m\u001b[0m\u001b[0m\n\u001b[1;32m----> 2\u001b[1;33m \u001b[0mre\u001b[0m\u001b[1;33m.\u001b[0m\u001b[0mfindall\u001b[0m\u001b[1;33m(\u001b[0m\u001b[1;34m\"YOURREGEXHERE\"\u001b[0m\u001b[1;33m,\u001b[0m \u001b[1;34m'Heikkinen, Miss. Laina'\u001b[0m\u001b[1;33m)\u001b[0m\u001b[1;33m[\u001b[0m\u001b[1;36m0\u001b[0m\u001b[1;33m]\u001b[0m\u001b[1;33m\u001b[0m\u001b[1;33m\u001b[0m\u001b[0m\n\u001b[0m",
      "\u001b[1;31mIndexError\u001b[0m: list index out of range"
     ]
    }
   ],
   "source": [
    "# Fill in below:\n",
    "re.findall(\"YOURREGEXHERE\", 'Heikkinen, Miss. Laina')[0]"
   ]
  },
  {
   "cell_type": "markdown",
   "metadata": {},
   "source": [
    "The output should be `'Miss.'`"
   ]
  },
  {
   "cell_type": "markdown",
   "metadata": {},
   "source": [
    "Summary: For pattern matching the titles using regular expressions:\n",
    "- First we make sure it contains a period by using `[.]`. \n",
    "- Secondly, the period must be preceeded by word characters (one or more), so we use `\\w+[.]`.\n",
    "\n",
    "Write a function `get_title` that takes a name, extracts the title from it and returns the title."
   ]
  },
  {
   "cell_type": "code",
   "execution_count": null,
   "metadata": {},
   "outputs": [],
   "source": []
  },
  {
   "cell_type": "markdown",
   "metadata": {},
   "source": [
    "Check that the function is working properly by running the following two cells."
   ]
  },
  {
   "cell_type": "code",
   "execution_count": null,
   "metadata": {},
   "outputs": [],
   "source": [
    "get_title('Futrelle, Mrs. Jacques Heath (Lily May Peel)')"
   ]
  },
  {
   "cell_type": "markdown",
   "metadata": {},
   "source": [
    "The output should be `'Mrs.'`. Note: Make sure that the funtion returns a string and not a list. Please modify the above function accordingly."
   ]
  },
  {
   "cell_type": "code",
   "execution_count": null,
   "metadata": {},
   "outputs": [],
   "source": [
    "get_title('Simonius-Blumer, Col. Oberst Alfons')"
   ]
  },
  {
   "cell_type": "markdown",
   "metadata": {},
   "source": [
    "The output should be `'Col.'`."
   ]
  },
  {
   "cell_type": "markdown",
   "metadata": {},
   "source": [
    "Create a new column named Title and extract titles from the Name column using the above function `get_title`. Hint: Use built-in [`map()`](https://pandas.pydata.org/pandas-docs/stable/reference/api/pandas.Series.map.html) function. The syntax is `df['New_column'] = df['Relevant_column'].map(function_name)`."
   ]
  },
  {
   "cell_type": "code",
   "execution_count": null,
   "metadata": {},
   "outputs": [],
   "source": []
  },
  {
   "cell_type": "markdown",
   "metadata": {},
   "source": [
    "Let us peek into the dataframe."
   ]
  },
  {
   "cell_type": "code",
   "execution_count": null,
   "metadata": {},
   "outputs": [],
   "source": [
    "df.head()"
   ]
  },
  {
   "cell_type": "markdown",
   "metadata": {},
   "source": [
    "List all the unique values for the titles along with their frequency. Hint: Use an inbuilt pandas function"
   ]
  },
  {
   "cell_type": "code",
   "execution_count": null,
   "metadata": {},
   "outputs": [],
   "source": []
  },
  {
   "cell_type": "markdown",
   "metadata": {},
   "source": [
    "### 3. Correlation between variables \n",
    "\n",
    "Pearson correlation coefficients measures the linear correlation between the variables.\n",
    "\n",
    "$$\\rho_{X,Y} = \\frac{cov(X, Y)}{\\sigma_X, \\sigma_Y}$$\n",
    "where \n",
    "- $cov(X, Y)$ is the covariance.    \n",
    "- $\\sigma_X, \\sigma_Y$ are standard deviations of $X$ and $Y$ respectively.\n",
    "\n",
    "The correlation between two variables ranges from -1 to 1. The closer in absolute value a correlation is to 1, the more dependent two features are each other.\n",
    "\n",
    "Get the correlation matrix for the variables (columns) in the dataset. The function is called `corr`."
   ]
  },
  {
   "cell_type": "code",
   "execution_count": null,
   "metadata": {},
   "outputs": [],
   "source": [
    "df.corr()"
   ]
  },
  {
   "cell_type": "markdown",
   "metadata": {},
   "source": [
    "* From the above matrix, note which feature has the highest correlation with the survival. \n",
    "* Do features have high correlation among themselves? \n",
    "* Note that this matrix has excluded some categorical variables like gender, port of embarkment, etc. \n",
    "\n",
    "The correlation matrix can also be visualized using heatmaps as shown below."
   ]
  },
  {
   "cell_type": "code",
   "execution_count": null,
   "metadata": {},
   "outputs": [],
   "source": [
    "correlation_matrix = df.corr();\n",
    "plt.title('Pearson Correlation of Features', y=1.05, size=15)\n",
    "sns.heatmap(correlation_matrix);"
   ]
  },
  {
   "cell_type": "markdown",
   "metadata": {},
   "source": [
    "### 4. [GroupBy object](https://pandas.pydata.org/pandas-docs/version/0.22/groupby.html)\n",
    "Below is correct code to do part 2, to create a new column named *Title* that is derived from the column *Name* using regular expressions. It also compresses similar titles like \"Ms.\" and \"Miss.\" and together. :)"
   ]
  },
  {
   "cell_type": "code",
   "execution_count": null,
   "metadata": {},
   "outputs": [],
   "source": [
    "df['Title'] = df['Name'].map(lambda name: re.findall(\"\\w+[.]\", name)[0])\n",
    "\n",
    "title_dictionary = {'Ms.': 'Miss.', 'Mlle.': 'Miss.', \n",
    "              'Dr.': 'Rare', 'Mme.': 'Mr.', \n",
    "              'Major.': 'Rare', 'Lady.': 'Rare', \n",
    "              'Sir.': 'Rare', 'Col.': 'Rare', \n",
    "              'Capt.': 'Rare', 'Countess.': 'Rare', \n",
    "              'Jonkheer.': 'Rare', 'Dona.': 'Rare', \n",
    "              'Don.': 'Rare', 'Rev.': 'Rare'}\n",
    "\n",
    "df['Title'] = df['Title'].replace(title_dictionary)\n",
    "\n",
    "df.head()"
   ]
  },
  {
   "cell_type": "markdown",
   "metadata": {},
   "source": [
    "As we saw in the last session, the *Age* column has a lot of missing values. It can be filled with the median (or mean) age of all passengers, but we can also make use of the derived *Title* column to fill the age based on the title of the passenger. For this, it would be helpful to group the passengers based on their title to get the median age for each group and then fill the missing age values for passengers with the median age for their title.\n",
    "\n",
    "We can use [`groupby()`](https://pandas.pydata.org/pandas-docs/version/0.21/generated/pandas.DataFrame.groupby.html) to group the rows of the dataframe based on a column(s), say *Title*."
   ]
  },
  {
   "cell_type": "code",
   "execution_count": null,
   "metadata": {},
   "outputs": [],
   "source": [
    "df.groupby('Title')"
   ]
  },
  {
   "cell_type": "markdown",
   "metadata": {},
   "source": [
    "The resulting object is not a dataframe but there are multiple ways to derive a dataframe from the grouped object."
   ]
  },
  {
   "cell_type": "markdown",
   "metadata": {},
   "source": [
    "One of the ways to derive a dataframe from a groupby object is by aggregation, that is computing a summary statistic (or statistics) about each group. For example, we can get the median values for the columns in each group of titles."
   ]
  },
  {
   "cell_type": "code",
   "execution_count": null,
   "metadata": {},
   "outputs": [],
   "source": [
    "df.groupby('Title').median()"
   ]
  },
  {
   "cell_type": "code",
   "execution_count": null,
   "metadata": {},
   "outputs": [],
   "source": [
    "df.groupby('Title').mean()"
   ]
  },
  {
   "cell_type": "markdown",
   "metadata": {},
   "source": [
    "The median ages vary greatly for each group ranging from 3.5 to 48 years."
   ]
  },
  {
   "cell_type": "markdown",
   "metadata": {},
   "source": [
    "The most common way to derive a dataframe from a groupby object is by transformation. We create a new column *MedianAge* which consists of the groupwise median age depending on the passengers' title using [`transform()`](https://pandas.pydata.org/pandas-docs/stable/reference/api/pandas.DataFrame.transform.html)."
   ]
  },
  {
   "cell_type": "code",
   "execution_count": null,
   "metadata": {},
   "outputs": [],
   "source": [
    "df['MedianAge'] = df.groupby('Title')['Age'].transform(\"median\")\n",
    "df.head(15)"
   ]
  },
  {
   "cell_type": "markdown",
   "metadata": {},
   "source": [
    "Now we fill in the missing values in the *Age* column using the values in the *MedianAge* column."
   ]
  },
  {
   "cell_type": "code",
   "execution_count": null,
   "metadata": {},
   "outputs": [],
   "source": [
    "df['Age'] = df['Age'].fillna(df['MedianAge'])\n",
    "df.head()"
   ]
  },
  {
   "cell_type": "markdown",
   "metadata": {},
   "source": [
    "We drop off the *MedianAge* column since we no longer need it."
   ]
  },
  {
   "cell_type": "code",
   "execution_count": null,
   "metadata": {},
   "outputs": [],
   "source": [
    "df = df.drop('MedianAge', axis=1)\n",
    "df.head()"
   ]
  },
  {
   "cell_type": "markdown",
   "metadata": {},
   "source": [
    "Let us check for the missing values. There are none in the *Age* column!"
   ]
  },
  {
   "cell_type": "code",
   "execution_count": null,
   "metadata": {},
   "outputs": [],
   "source": [
    "df.isnull().sum()"
   ]
  },
  {
   "cell_type": "markdown",
   "metadata": {},
   "source": [
    "### 2. Encoding categorical variables\n",
    "Let us check the datatype of each column. Hint: Use [`dtypes`](https://pandas.pydata.org/pandas-docs/stable/reference/api/pandas.DataFrame.dtypes.html)."
   ]
  },
  {
   "cell_type": "code",
   "execution_count": null,
   "metadata": {
    "scrolled": true
   },
   "outputs": [],
   "source": []
  },
  {
   "cell_type": "markdown",
   "metadata": {},
   "source": [
    "There are two columns with `object` datatype - *Sex* and *Embarked*. These two along with *Pclass* are categorical variables. The feature *Pclass* has an innate order in its categories and hence, is ordinal, whereas *Sex* and *Embarked* are inordinal categorical variables. Most machine learning models require the features or input variables to be numerical. One way to accomplish that is to encode the categories with numbers."
   ]
  },
  {
   "cell_type": "markdown",
   "metadata": {},
   "source": [
    "Convert the sex values to numerical values 0 and 1. Hint: Use [`replace`](https://pandas.pydata.org/pandas-docs/stable/generated/pandas.DataFrame.replace.html) with the suitable dictionary. "
   ]
  },
  {
   "cell_type": "code",
   "execution_count": null,
   "metadata": {},
   "outputs": [],
   "source": []
  },
  {
   "cell_type": "markdown",
   "metadata": {},
   "source": [
    "Check the datatypes again and make note of datatype for the column *Sex*. "
   ]
  },
  {
   "cell_type": "code",
   "execution_count": null,
   "metadata": {},
   "outputs": [],
   "source": [
    "df.dtypes"
   ]
  },
  {
   "cell_type": "markdown",
   "metadata": {},
   "source": [
    "What can go wrong with randomly assigning numbers to categories?\n",
    "\n",
    "There are two kinds of categorical variables - ordinal and inordinal based on whether the categories possess an inherent order or not.\n",
    "\n",
    "For example, passengers' ticket class `Pclass` is ordinal whereas gender is inordinal.\n",
    "\n",
    "Numbers have a natural order and so do ordinal categories. Number also possess certain other characteristics that ordinal categories do not. For example, the difference between the numbers 1 and 2 is the same as the difference between the numbers 2 and 3 but the same cannot be said for ordinal categories. \n",
    "$$ 2-1 == 3-2$$\n",
    "So, converting categories to numbers means adding untrue assumptions that may or may not adversely affect our model. \n",
    "\n",
    "For this reason, the prefered method is one-hot encoding. In this method, we build a one-hot encoded vector with dimension equal to the number of classes in the categories. This vector consists of all 0's except for a 1 corresponding to the class of the instance. For example, the *Embarked* column will have one-hot encoded vectors of [1,0,0], [0,1,0] and [0,0,1] for the three ports. This means that we will have three columns for the *Embarked* columns - one for each port and the values for these columns would simply be 1 or 0.\n",
    "\n",
    "One-hot encoding is accomplished in pandas using [`get_dummies`](https://pandas.pydata.org/pandas-docs/stable/reference/api/pandas.get_dummies.html) as given below. It simply creates a column for each class of a categorical variable."
   ]
  },
  {
   "cell_type": "code",
   "execution_count": null,
   "metadata": {},
   "outputs": [],
   "source": [
    "pd.get_dummies(df['Embarked']).head()"
   ]
  },
  {
   "cell_type": "markdown",
   "metadata": {},
   "source": [
    "We want the column names to be `'Port_C', 'Port_Q', 'Port_S'`. We run get_dummies, but [make use of the `prefix` keyword](https://pandas.pydata.org/pandas-docs/stable/reference/api/pandas.get_dummies.html) to alter the column names. Next, we save this to a new dataframe named `port_df`."
   ]
  },
  {
   "cell_type": "code",
   "execution_count": null,
   "metadata": {},
   "outputs": [],
   "source": [
    "port_df = pd.get_dummies(df['Embarked'], prefix='Port')"
   ]
  },
  {
   "cell_type": "markdown",
   "metadata": {},
   "source": [
    "To add this dataframe of two new columns to the original dataframe, we can use `concat` with `axis=1`."
   ]
  },
  {
   "cell_type": "code",
   "execution_count": null,
   "metadata": {},
   "outputs": [],
   "source": [
    "df = pd.concat([df, port_df], axis=1)"
   ]
  },
  {
   "cell_type": "markdown",
   "metadata": {},
   "source": [
    "Now check that the new columns are added. "
   ]
  },
  {
   "cell_type": "code",
   "execution_count": null,
   "metadata": {},
   "outputs": [],
   "source": [
    "df.head()"
   ]
  },
  {
   "cell_type": "markdown",
   "metadata": {},
   "source": [
    "Next, drop the column for *Embarked*. "
   ]
  },
  {
   "cell_type": "code",
   "execution_count": null,
   "metadata": {},
   "outputs": [],
   "source": []
  },
  {
   "cell_type": "markdown",
   "metadata": {},
   "source": [
    "Note: if you run the above cell more than once, it will give an error, since the column *Embarked* is no more present in the dataframe for the code to work. "
   ]
  },
  {
   "cell_type": "markdown",
   "metadata": {},
   "source": [
    "Next, we check the columns in our dataframe."
   ]
  },
  {
   "cell_type": "code",
   "execution_count": null,
   "metadata": {},
   "outputs": [],
   "source": [
    "df.columns"
   ]
  },
  {
   "cell_type": "markdown",
   "metadata": {},
   "source": [
    "The expected output is  \n",
    "```Index(['Survived', 'Pclass', 'Name', 'Sex', 'Age', 'SibSp', 'Parch', 'Ticket', 'Fare', 'Cabin', 'Port_C', 'Port_Q', 'Port_S'], dtype='object')```"
   ]
  },
  {
   "cell_type": "markdown",
   "metadata": {},
   "source": [
    "Notes:\n",
    "- One of the columns in the one-hot encoding obtained in the above manner is always redundant. In case of features with just two classes such as gender in our dataset, one-hot encoding is not truly useful. One of its column is same as what we obtained by simply replacing classes with 0 and 1 and the other is redundant.  \n",
    "- The main disadvantage of using one-hot encoding is the increase in the number of features that can negatively affect our model which we will discuss in the later sessions.\n"
   ]
  },
  {
   "cell_type": "markdown",
   "metadata": {},
   "source": [
    "## More Practice (Part 3) "
   ]
  },
  {
   "cell_type": "code",
   "execution_count": null,
   "metadata": {},
   "outputs": [],
   "source": [
    "import warnings\n",
    "warnings.simplefilter('ignore')"
   ]
  },
  {
   "cell_type": "markdown",
   "metadata": {},
   "source": [
    "### 1. Feature engineering on the Titanic dataset to create a new column for group size:\n",
    "\n",
    "The [Titanic dataset](https://www.kaggle.com/c/titanic) has been split into two csv files:    \n",
    "* train.csv: The training set to build your machine learning models. It is provided with the `Survived` column.\n",
    "* test.csv: The test set is not provided with `Survived` column. The aim of the competition is to predict this column, that is whether or not the passengers survived the sinking of the Titanic, using the model you trained.\n",
    "\n",
    "We download both the datasets."
   ]
  },
  {
   "cell_type": "code",
   "execution_count": null,
   "metadata": {},
   "outputs": [],
   "source": [
    "path = 'titanic/'\n",
    "train = pd.read_csv(path + 'train.csv') \n",
    "test = pd.read_csv(path + 'test.csv') "
   ]
  },
  {
   "cell_type": "markdown",
   "metadata": {},
   "source": [
    "Create a DataFrame named `df` by concatenating the `train` and `test` datasets one below the other. Hint: Use [`concat()`](https://pandas.pydata.org/pandas-docs/stable/reference/api/pandas.concat.html)."
   ]
  },
  {
   "cell_type": "code",
   "execution_count": null,
   "metadata": {},
   "outputs": [],
   "source": [
    "df = pd.concat([train, test])"
   ]
  },
  {
   "cell_type": "code",
   "execution_count": null,
   "metadata": {},
   "outputs": [],
   "source": [
    "df.head()"
   ]
  },
  {
   "cell_type": "markdown",
   "metadata": {},
   "source": [
    "Again, [description for the columns](https://www.kaggle.com/c/titanic/data) is as follows.  \n",
    "\n",
    "|Variable|\tDefinition|\tKey|   \n",
    "|:---  |:--- |:---|\n",
    "|PassengerId| Passenger ID |\n",
    "|Survived| \tSurvival|\t0 = No, 1 = Yes |\n",
    "|Pclass\t|Ticket class|\t1 = 1st, 2 = 2nd, 3 = 3rd|\n",
    "|Sex\t|Sex|\t\n",
    "|Age\t|Age in years\t|\n",
    "|SibSp\t|# of siblings / spouses aboard the Titanic\t|\n",
    "|Parch\t|# of parents / children aboard the Titanic\t|\n",
    "|Ticket\t|Ticket number\t|\n",
    "|Fare\t|Passenger fare\t|\n",
    "|Cabin\t|Cabin number\t|\n",
    "|Embarked\t|Port of Embarkation\t|C = Cherbourg, Q = Queenstown, S = Southampton|"
   ]
  },
  {
   "cell_type": "markdown",
   "metadata": {},
   "source": [
    "In this section, we are going to create a new column called `GroupSize` to get the size of the group for each passenger. We consider groups to be either family members or those traveling on the same ticket. This feature is derived using three columns *SibSp*, *Parch* and *Ticket*. \n",
    "\n",
    "[Notes](https://www.kaggle.com/c/titanic/data) for the two features *SibSp* and *Parch* are as follows.\n",
    "\n",
    "> SibSp: The dataset defines family relations in this way...  \n",
    "Sibling = brother, sister, stepbrother, stepsister  \n",
    "Spouse = husband, wife (mistresses and fiancés were ignored)\n",
    "> \n",
    "> Parch: The dataset defines family relations in this way...  \n",
    "Parent = mother, father  \n",
    "Child = daughter, son, stepdaughter, stepson  \n",
    "Some children travelled only with a nanny, therefore parch=0 for them.\n",
    "\n",
    "First, create a new column named *Family* by adding the columns *SibSp* and *Parch* and then add 1 to it. Hint: Use `df[\"New_column\"] = df[\"column_1\"] + df[\"column_2\"] + 1`."
   ]
  },
  {
   "cell_type": "code",
   "execution_count": null,
   "metadata": {},
   "outputs": [],
   "source": []
  },
  {
   "cell_type": "markdown",
   "metadata": {},
   "source": [
    "Now we check the survival rates with respect to the family size."
   ]
  },
  {
   "cell_type": "code",
   "execution_count": null,
   "metadata": {},
   "outputs": [],
   "source": [
    "sns.barplot(x='Family', y='Survived', data=df);"
   ]
  },
  {
   "cell_type": "markdown",
   "metadata": {},
   "source": [
    "Some passengers that appear to be traveling alone by account of their family size were part of a group traveling on the same ticket. To see this, get all the passengers traveling on the ticket \"1601\" (there are 8 of them)."
   ]
  },
  {
   "cell_type": "code",
   "execution_count": null,
   "metadata": {},
   "outputs": [],
   "source": []
  },
  {
   "cell_type": "markdown",
   "metadata": {},
   "source": [
    "One can check that there are many tickets shared among passengers that may or may not be family members."
   ]
  },
  {
   "cell_type": "code",
   "execution_count": null,
   "metadata": {},
   "outputs": [],
   "source": [
    "df['Ticket'].value_counts()[:15]"
   ]
  },
  {
   "cell_type": "markdown",
   "metadata": {},
   "source": [
    "Create a new column named *TicketCount* that counts the total number of passengers traveling in each passengers' ticket.\n",
    "\n",
    "Hint: \n",
    "- First group passengers based on their tickets using `groupby()` on the *Ticket* column.\n",
    "- For the grouped object, pick any column that has no missing values.\n",
    "- Use `transform()` for this unique identifier column with the function `\"count\"` to create a new column *TicketCount*.\n",
    "\n",
    "For example, we created *MedianAge* using the following code:   \n",
    "```df['MedianAge'] = df.groupby('Title')['Age'].transform(\"median\")```"
   ]
  },
  {
   "cell_type": "code",
   "execution_count": null,
   "metadata": {},
   "outputs": [],
   "source": []
  },
  {
   "cell_type": "code",
   "execution_count": null,
   "metadata": {},
   "outputs": [],
   "source": [
    "df.head()"
   ]
  },
  {
   "cell_type": "markdown",
   "metadata": {},
   "source": [
    "Plot the survival rates based on the *TicketCount* using `sns.barplot()` (see above)."
   ]
  },
  {
   "cell_type": "code",
   "execution_count": null,
   "metadata": {},
   "outputs": [],
   "source": [
    "sns.barplot(y='Survived', x='TicketCount', data=df)"
   ]
  },
  {
   "cell_type": "markdown",
   "metadata": {},
   "source": [
    "It does seem that the number of co-travelers have an impact on the survival rates."
   ]
  },
  {
   "cell_type": "markdown",
   "metadata": {},
   "source": [
    "We create a new column named *GroupSize* by picking the maximum value among the columns *Family* and *TicketCount*.   \n",
    "We use the `max()` function for pandas on the two relevant columns with the appropriate value for the `axis` parameter. Max, a dataframe method, returns the max of each column or row, so here we want to use it on each row of a dataframe with two columns: Family and TicketCount."
   ]
  },
  {
   "cell_type": "code",
   "execution_count": null,
   "metadata": {},
   "outputs": [],
   "source": [
    "df[\"GroupSize\"] = df[['Family', 'TicketCount']].max(axis=1)"
   ]
  },
  {
   "cell_type": "markdown",
   "metadata": {},
   "source": [
    "Plot the survival rates based on the *GroupSize* using `sns.barplot()`."
   ]
  },
  {
   "cell_type": "code",
   "execution_count": null,
   "metadata": {},
   "outputs": [],
   "source": []
  },
  {
   "cell_type": "markdown",
   "metadata": {},
   "source": [
    "Check the number of rows where *Groupsize* is not equal to *Family*. Similarly, check the number of rows where *TicketCount* is not equal to *Family*."
   ]
  },
  {
   "cell_type": "code",
   "execution_count": null,
   "metadata": {},
   "outputs": [],
   "source": [
    "(df[df['GroupSize'] != df['Family']].shape[0], \n",
    "df[df['GroupSize'] != df['TicketCount']].shape[0])"
   ]
  },
  {
   "cell_type": "markdown",
   "metadata": {},
   "source": [
    "The output must be `(200, 84)`. Check your above code, if you get a different output."
   ]
  },
  {
   "cell_type": "markdown",
   "metadata": {},
   "source": [
    "### 2. Creating a new column using grouping on two columns of [Predict Future Sales](https://www.kaggle.com/c/competitive-data-science-predict-future-sales):"
   ]
  },
  {
   "cell_type": "code",
   "execution_count": null,
   "metadata": {},
   "outputs": [],
   "source": [
    "path = 'competitive-data-science-predict-future-sales/'\n",
    "df = pd.read_csv(path + 'sales_train.csv')\n",
    "df.head()"
   ]
  },
  {
   "cell_type": "markdown",
   "metadata": {},
   "source": [
    "[The description](https://www.kaggle.com/c/competitive-data-science-predict-future-sales/data) for each of the following columns is as follows. \n",
    "- date: date in format dd/mm/yyyy\n",
    "- date_block_num: a consecutive month number, used for convenience. January 2013 is 0, February 2013 is 1,..., October 2015 is 33\n",
    "- shop_id: unique identifier of a shop\n",
    "- item_id: unique identifier of a product\n",
    "- item_price: current price of an item\n",
    "- item_cnt_day: number of products sold\n",
    "       \n",
    "The aim of the competition is to predict the monthly sales. We are given the daily sales of items in each shop in the column *item_cnt_day*. We want to create a new column named *item_cnt_monthly* that gives the monthly sales of the items using the columns *item_cnt_day* and *date_block_num*. "
   ]
  },
  {
   "cell_type": "markdown",
   "metadata": {},
   "source": [
    "Currently, the rows are sorted based on the *date* column. We want them sorted first by *date_block_num* and then by *item_id* within each *date_block_num*. Hint: Use `sort_values()` on the two columns: `'date_block_num','item_id'`"
   ]
  },
  {
   "cell_type": "code",
   "execution_count": null,
   "metadata": {},
   "outputs": [],
   "source": []
  },
  {
   "cell_type": "markdown",
   "metadata": {},
   "source": [
    "We sorted the rows so that it will make it easier to check whether our code below is working correctly. For the *date_block_num* equal to 0, we can see that the item with *item_id* 19 is sold once, one with *item_id* 27 is sold 7 times and so on."
   ]
  },
  {
   "cell_type": "code",
   "execution_count": null,
   "metadata": {},
   "outputs": [],
   "source": [
    "df.head(20)"
   ]
  },
  {
   "cell_type": "markdown",
   "metadata": {},
   "source": [
    "We can use `groupby()` on the two columns - *date_block_num* and *item_id* and sum the values in the *item_cnt_day* column in each grouping as follows."
   ]
  },
  {
   "cell_type": "code",
   "execution_count": null,
   "metadata": {},
   "outputs": [],
   "source": [
    "# df.groupby(['date_block_num', 'item_id'])['item_cnt_day'].sum()"
   ]
  },
  {
   "cell_type": "markdown",
   "metadata": {},
   "source": [
    "Create a new column named *item_cnt_monthly* that gives the monthly sales of the items\n",
    "\n",
    "Hint: Use `transform()` with the function `\"sum\"` along with `groupby()`."
   ]
  },
  {
   "cell_type": "code",
   "execution_count": null,
   "metadata": {},
   "outputs": [],
   "source": []
  },
  {
   "cell_type": "markdown",
   "metadata": {},
   "source": [
    "Check that the code indeed worked as expected."
   ]
  },
  {
   "cell_type": "code",
   "execution_count": null,
   "metadata": {},
   "outputs": [],
   "source": [
    "df.head(25)"
   ]
  },
  {
   "cell_type": "markdown",
   "metadata": {},
   "source": [
    "### 3. Merging columns from different datasets"
   ]
  },
  {
   "cell_type": "markdown",
   "metadata": {},
   "source": [
    "A simple illustration to merge two datasets using `merge()`"
   ]
  },
  {
   "cell_type": "code",
   "execution_count": null,
   "metadata": {},
   "outputs": [],
   "source": [
    "df1 = pd.DataFrame({'CourseCode': ['PHYS024', 'CSCI35', 'ENGR156'], \n",
    "                   'CourseName': ['Mechanics and Wave Motion', \n",
    "                                  'Computer Science for Insight',\n",
    "                                 'Intro to Comm & Info Theory']})\n",
    "\n",
    "df2 = pd.DataFrame({'Professor': ['Zachary Dodds', 'Vatche Sahakian', \n",
    "                                  'Timothy Tsai', 'Brian Shuve'],\n",
    "                    'CourseCode': ['CSCI35', 'PHYS024',  'ENGR156', 'PHYS024']})\n",
    "\n",
    "df1.head()"
   ]
  },
  {
   "cell_type": "code",
   "execution_count": null,
   "metadata": {},
   "outputs": [],
   "source": [
    "df2.head()"
   ]
  },
  {
   "cell_type": "code",
   "execution_count": null,
   "metadata": {},
   "outputs": [],
   "source": [
    "pd.merge(df2, df1)"
   ]
  },
  {
   "cell_type": "markdown",
   "metadata": {},
   "source": [
    "Please refer to the documents [here](https://pandas.pydata.org/pandas-docs/stable/reference/api/pandas.DataFrame.merge.html) and [here](https://pandas.pydata.org/pandas-docs/stable/user_guide/merging.html) to better grasp how and when to use `merge()` function. "
   ]
  },
  {
   "cell_type": "markdown",
   "metadata": {},
   "source": [
    "#### Merging dataframes from [Instacart Market Basket Analysis](https://www.kaggle.com/c/instacart-market-basket-analysis/data) dataset:\n",
    "Load the four files into separate dataframes:   \n",
    "`aisles.csv`   \n",
    "`departments.csv`  \n",
    "`products.csv`  \n",
    "`order_products__train.csv`"
   ]
  },
  {
   "cell_type": "code",
   "execution_count": null,
   "metadata": {},
   "outputs": [],
   "source": [
    "path = 'instacart-market-basket-analysis/'\n",
    "dfa = pd.read_csv(path + 'aisles.csv')\n",
    "dfd = pd.read_csv(path + 'departments.csv')\n",
    "dfp = pd.read_csv(path + 'products.csv')\n",
    "dfo = pd.read_csv(path + 'order_products__train.csv')"
   ]
  },
  {
   "cell_type": "markdown",
   "metadata": {},
   "source": [
    "Familiarize yourself with the dataframes. Hint: Use `head()`.  "
   ]
  },
  {
   "cell_type": "code",
   "execution_count": null,
   "metadata": {},
   "outputs": [],
   "source": [
    "dfa.head()"
   ]
  },
  {
   "cell_type": "code",
   "execution_count": null,
   "metadata": {},
   "outputs": [],
   "source": [
    "dfd.head()"
   ]
  },
  {
   "cell_type": "code",
   "execution_count": null,
   "metadata": {},
   "outputs": [],
   "source": [
    "dfp.head()"
   ]
  },
  {
   "cell_type": "code",
   "execution_count": null,
   "metadata": {},
   "outputs": [],
   "source": [
    "dfo.tail()"
   ]
  },
  {
   "cell_type": "markdown",
   "metadata": {},
   "source": [
    "Get a dataframe consisting of the name of the products along with their aisle names and department names for the order with `order_id` equal to 1.   \n",
    "Note: dataframe must have ***8 rows and only three columns:\n",
    "```'product_name', 'aisle', 'department'```***\n",
    "\n",
    "Hint: \n",
    "- First slice out 8 rows from the order_products dataframe that corresponds with `order_id` equal to 1 and save it in a dataframe.\n",
    "- Use `merge()` multiple times to merge two dataframes at a time starting with the dataset that have a column in common with the dataframe corresponding to 'order_products__train.csv'.\n",
    "- Finally slice out the 3 selective columns: `'product_name', 'aisle', 'department'`"
   ]
  },
  {
   "cell_type": "code",
   "execution_count": null,
   "metadata": {},
   "outputs": [],
   "source": []
  },
  {
   "cell_type": "code",
   "execution_count": null,
   "metadata": {},
   "outputs": [],
   "source": [
    "df.shape"
   ]
  },
  {
   "cell_type": "markdown",
   "metadata": {},
   "source": [
    "The output should be (8, 3). Please check your code above if you get something else."
   ]
  },
  {
   "cell_type": "markdown",
   "metadata": {},
   "source": [
    "### 4: Exploring csv files\n",
    "\n",
    "Dataframes are easily convertible to and from csv (comma seperated text) files. Convert the last dataframe to a csv file using `to_csv()`."
   ]
  },
  {
   "cell_type": "code",
   "execution_count": null,
   "metadata": {},
   "outputs": [],
   "source": []
  },
  {
   "cell_type": "markdown",
   "metadata": {},
   "source": [
    "Instructions for the next steps if using Jupyter Notebook in your laptop:\n",
    "* Go to the folder where Notebook is saved and locate the output file.\n",
    "* Open the csv file using MS-Excel, any text editor or other application of your choice that supports csv files. \n",
    "* Edit the file and save it."
   ]
  },
  {
   "cell_type": "markdown",
   "metadata": {},
   "source": [
    "Now, read the csv file and check whether the changes are reflected."
   ]
  }
 ],
 "metadata": {
  "kernelspec": {
   "display_name": "Python 3",
   "language": "python",
   "name": "python3"
  },
  "language_info": {
   "codemirror_mode": {
    "name": "ipython",
    "version": 3
   },
   "file_extension": ".py",
   "mimetype": "text/x-python",
   "name": "python",
   "nbconvert_exporter": "python",
   "pygments_lexer": "ipython3",
   "version": "3.7.1"
  }
 },
 "nbformat": 4,
 "nbformat_minor": 1
}
