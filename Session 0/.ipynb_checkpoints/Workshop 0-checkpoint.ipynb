{
 "cells": [
  {
   "cell_type": "markdown",
   "metadata": {},
   "source": [
    "# P-ai Workshop 1\n",
    "\n",
    "Hello!\n",
    "This is the guided part of the first notebook for the Fall 2019 [P-ai](http://www.p-ai.org) workshops.\n",
    "It covers python and github basics. "
   ]
  },
  {
   "cell_type": "markdown",
   "metadata": {},
   "source": [
    "## Jupyter\n",
    "\n",
    "If you're reading this, you successfully installed and ran jupyter. Congrats!\n",
    "\n",
    "Jupyter is an interactive document program that we're using for these workshops. It's frequently used in education. Each document exists on your computer as a .ipynb file, and the Jupyter program is displaying the contents of those folders in a nice looking way on your browser. \n",
    "\n",
    "It's interactive because it lets you run code that you type into the notebook. These notebooks run python3. "
   ]
  },
  {
   "cell_type": "markdown",
   "metadata": {},
   "source": [
    "### Cells\n",
    "Notebooks are organized into cells. There are markdown (text) cells and code cells.\n",
    "\n",
    "These words are in a markdown cell. If you double click on this cell, you can edit the text! To stop editing the text, press shift+enter. \n",
    "\n",
    "Here's a code cell: "
   ]
  },
  {
   "cell_type": "code",
   "execution_count": 5,
   "metadata": {},
   "outputs": [
    {
     "name": "stdout",
     "output_type": "stream",
     "text": [
      "asd\n"
     ]
    }
   ],
   "source": [
    "print(\"asd\")"
   ]
  },
  {
   "cell_type": "code",
   "execution_count": 6,
   "metadata": {},
   "outputs": [
    {
     "data": {
      "text/plain": [
       "3"
      ]
     },
     "execution_count": 6,
     "metadata": {},
     "output_type": "execute_result"
    }
   ],
   "source": [
    "1+2"
   ]
  },
  {
   "cell_type": "markdown",
   "metadata": {},
   "source": [
    "To run the python code in the cell, you can select the cell and then press shift+enter. It should display the output of the cell right below it. \n",
    "\n",
    "Try putting something else between the quotation marks and running it.\n",
    "\n",
    "To make a cell, you can use the buttons on the bar at the top of the screen. You can also run all the cells in the notebook with the double triangle button.\n",
    "\n",
    "That's all you need to know about Jupyter :)"
   ]
  },
  {
   "cell_type": "markdown",
   "metadata": {},
   "source": [
    "# Python\n",
    "\n",
    "This will be a very quick overview of python. If you've never tried coding before, this notebook may not fully answer all your questions, so feel free to ask us any questions in person or by some other means. \n",
    "\n",
    "If you have worked in another language, python is easy and you should get it pretty quickly.\n",
    "\n",
    "If you feel somewhat comfortable with python, feel free to move on and take a look at the following sections."
   ]
  },
  {
   "cell_type": "markdown",
   "metadata": {},
   "source": [
    "### Variables\n",
    "\n",
    "A variable can hold information in it. Here, we put the value 1 in the variable x, and the value 2 in the variable y, then put the sum of x and y into the variable z. Then we show z. "
   ]
  },
  {
   "cell_type": "code",
   "execution_count": 8,
   "metadata": {},
   "outputs": [
    {
     "data": {
      "text/plain": [
       "3"
      ]
     },
     "execution_count": 8,
     "metadata": {},
     "output_type": "execute_result"
    }
   ],
   "source": [
    "x = 1\n",
    "y = 2\n",
    "z = x + y\n",
    "z"
   ]
  },
  {
   "cell_type": "markdown",
   "metadata": {},
   "source": [
    "The \"=\" sign is used for assigning values to variables. It puts the value on the right into the variable on the left. \n",
    "\n",
    "You can name a variable pretty much whatever you want. You can't put spaces in it, though, so variables are often named using camelCase, where you capitalize the first letter of every word except the first word. Or you can use underscores instead of spaces. "
   ]
  },
  {
   "cell_type": "markdown",
   "metadata": {},
   "source": [
    "### Comments\n",
    "\n",
    "If you put a # in code, it just tells python to ignore all the stuff that comes after it. This is called a comment, and is to make notes for people reading your code. "
   ]
  },
  {
   "cell_type": "markdown",
   "metadata": {},
   "source": [
    "### Data Structures\n",
    "<ul>\n",
    "    <li> numbers </li>\n",
    "    <li> strings </li>\n",
    "    <li> booleans </li>\n",
    "    <li> arrays </li>\n",
    "</ul>\n",
    "There are many other structures but they're not as common. \n",
    "\n",
    "#### Numbers\n",
    "\n",
    "These are pretty intuitive. You can perform the typical operations of ```+```, ```-```, ```*```, and ```/```. Also, ```**``` is exponentiation, and ```&``` gives remainders.\n",
    "\n",
    "Python doesn't distinguish between integers and most other numbers, so you can do things like this fine: "
   ]
  },
  {
   "cell_type": "code",
   "execution_count": 16,
   "metadata": {},
   "outputs": [
    {
     "data": {
      "text/plain": [
       "103.50010001"
      ]
     },
     "execution_count": 16,
     "metadata": {},
     "output_type": "execute_result"
    }
   ],
   "source": [
    "1 + 2.5 + (1/10000) + 1e-8 + 10**2"
   ]
  },
  {
   "cell_type": "markdown",
   "metadata": {},
   "source": [
    "#### Booleans\n",
    "There are two possible booleans: True and False. They have operations ```and```, ```or```, and ```not```."
   ]
  },
  {
   "cell_type": "code",
   "execution_count": 21,
   "metadata": {},
   "outputs": [
    {
     "data": {
      "text/plain": [
       "False"
      ]
     },
     "execution_count": 21,
     "metadata": {},
     "output_type": "execute_result"
    }
   ],
   "source": [
    "thisIsTrue = True\n",
    "notThisOne = False\n",
    "thisIsTrue and notThisOne"
   ]
  },
  {
   "cell_type": "markdown",
   "metadata": {},
   "source": [
    "There are some operations on integers that return booleans. These are ```==```, which returns True iff the things on either side are equal, and ```>```, ```<```, ```>=```, ```<=```."
   ]
  },
  {
   "cell_type": "markdown",
   "metadata": {},
   "source": [
    "#### List\n",
    "These are how you store lots of variables in a sequence. \n",
    "\n",
    "You can make a list with brackets, and you can get individual items of the list with brackets, like so: "
   ]
  },
  {
   "cell_type": "code",
   "execution_count": 29,
   "metadata": {},
   "outputs": [
    {
     "name": "stdout",
     "output_type": "stream",
     "text": [
      "1\n",
      "2\n"
     ]
    }
   ],
   "source": [
    "myList = [1, 2, 3, 4, 5]  \n",
    "\n",
    "print(myList[0])\n",
    "print(myList[1])"
   ]
  },
  {
   "cell_type": "markdown",
   "metadata": {},
   "source": [
    "Note that ```myList[0]``` gives the first element of the list! Lists are indexed starting from 0. So ```myList[1]``` gives the second element, ```myList[2]```\n",
    "\n",
    "You can also change individual elements of your list. "
   ]
  },
  {
   "cell_type": "code",
   "execution_count": 30,
   "metadata": {},
   "outputs": [
    {
     "data": {
      "text/plain": [
       "[1, 42, 3, 4, 5]"
      ]
     },
     "execution_count": 30,
     "metadata": {},
     "output_type": "execute_result"
    }
   ],
   "source": [
    "myList[1] = 42\n",
    "myList"
   ]
  },
  {
   "cell_type": "markdown",
   "metadata": {},
   "source": [
    "If you want to make your list longer, you can use the ```append``` function. You can also add two lists together, which will just put the elements of one after the elements of the other. "
   ]
  },
  {
   "cell_type": "markdown",
   "metadata": {},
   "source": [
    "#### Strings\n",
    "Strings can hold things like words or sentences. They're collections of characters. In python, you make a string by surrounding characters with quotes. \n"
   ]
  },
  {
   "cell_type": "code",
   "execution_count": 15,
   "metadata": {},
   "outputs": [
    {
     "data": {
      "text/plain": [
       "'hi'"
      ]
     },
     "execution_count": 15,
     "metadata": {},
     "output_type": "execute_result"
    }
   ],
   "source": [
    "\"hi\"  "
   ]
  },
  {
   "cell_type": "markdown",
   "metadata": {},
   "source": []
  }
 ],
 "metadata": {
  "kernelspec": {
   "display_name": "Python 3",
   "language": "python",
   "name": "python3"
  },
  "language_info": {
   "codemirror_mode": {
    "name": "ipython",
    "version": 3
   },
   "file_extension": ".py",
   "mimetype": "text/x-python",
   "name": "python",
   "nbconvert_exporter": "python",
   "pygments_lexer": "ipython3",
   "version": "3.7.1"
  }
 },
 "nbformat": 4,
 "nbformat_minor": 2
}
