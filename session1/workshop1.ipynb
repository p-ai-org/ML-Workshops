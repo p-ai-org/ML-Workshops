{
 "cells": [
  {
   "cell_type": "markdown",
   "metadata": {},
   "source": [
    "# P-ai Workshop 1\n",
    "\n",
    "Hello!\n",
    "This is the guided part of the first notebook for the Fall 2019 [P-ai](http://www.p-ai.org) workshops.\n",
    "It covers basic python. "
   ]
  },
  {
   "cell_type": "markdown",
   "metadata": {},
   "source": [
    "## Jupyter\n",
    "\n",
    "If you're reading this, you successfully installed and ran jupyter. Congrats!\n",
    "\n",
    "Jupyter is an interactive document program that we're using for these workshops. It's frequently used in education. Each document exists on your computer as a .ipynb file, and the Jupyter program is displaying the contents of those folders in a nice looking way on your browser. \n",
    "\n",
    "It's interactive because it lets you run code that you type into the notebook. These notebooks run python3. "
   ]
  },
  {
   "cell_type": "markdown",
   "metadata": {},
   "source": [
    "### Cells\n",
    "Notebooks are organized into cells. There are markdown (text) cells and code cells.\n",
    "\n",
    "These words are in a markdown cell. If you double click on this cell, you can edit the text! To stop editing the text, press shift+enter. \n",
    "\n",
    "Here's a code cell: "
   ]
  },
  {
   "cell_type": "code",
   "execution_count": 1,
   "metadata": {},
   "outputs": [
    {
     "name": "stdout",
     "output_type": "stream",
     "text": [
      "asd\n"
     ]
    }
   ],
   "source": [
    "print(\"asd\")"
   ]
  },
  {
   "cell_type": "code",
   "execution_count": 2,
   "metadata": {},
   "outputs": [
    {
     "data": {
      "text/plain": [
       "3"
      ]
     },
     "execution_count": 2,
     "metadata": {},
     "output_type": "execute_result"
    }
   ],
   "source": [
    "1+2"
   ]
  },
  {
   "cell_type": "markdown",
   "metadata": {},
   "source": [
    "To run the python code in the cell, you can select the cell and then press shift+enter. It should display the output of the cell right below it. \n",
    "\n",
    "Try putting something else between the quotation marks and running it.\n",
    "\n",
    "To make a cell, you can use the buttons on the bar at the top of the screen. You can also run all the cells in the notebook with the double triangle button.\n",
    "\n",
    "That's all you need to know about Jupyter :)"
   ]
  },
  {
   "cell_type": "markdown",
   "metadata": {},
   "source": [
    "# Python\n",
    "\n",
    "This will be a very quick overview of python. If you've never tried coding before, this notebook may not fully answer all your questions, so feel free to ask us any questions in person or by some other means. \n",
    "\n",
    "If you have worked in another language, python is easy and you should get it pretty quickly.\n",
    "\n",
    "If you feel comfortable with the topics listed below, feel free to move on and take a look at the github section and other sections, or to start on the other notebooks (if they're available when you're reading this!)\n",
    "\n",
    "This section covers, in order: \n",
    "<ul> \n",
    "    <li> variables </li>\n",
    "    <li> basic data structures (numbers, strings, arrays) </li>\n",
    "    <li> control flow (if, while, for) </li>\n",
    "    <li> functions </li>"
   ]
  },
  {
   "cell_type": "markdown",
   "metadata": {},
   "source": [
    "## Variables\n",
    "\n",
    "A variable can hold information in it. Here, we put the value 1 in the variable x, and the value 2 in the variable y, then put the sum of x and y into the variable z. Then we show z. "
   ]
  },
  {
   "cell_type": "code",
   "execution_count": 3,
   "metadata": {},
   "outputs": [
    {
     "data": {
      "text/plain": [
       "3"
      ]
     },
     "execution_count": 3,
     "metadata": {},
     "output_type": "execute_result"
    }
   ],
   "source": [
    "x = 1\n",
    "y = 2\n",
    "z = x + y\n",
    "z"
   ]
  },
  {
   "cell_type": "markdown",
   "metadata": {},
   "source": [
    "The \"=\" sign is used for assigning values to variables. It puts the value on the right into the variable on the left. \n",
    "\n",
    "You can name a variable pretty much whatever you want. You can't put spaces in it, though, so variables are often named using camelCase, where you capitalize the first letter of every word except the first word. Or you can use underscores instead of spaces. \n",
    "\n",
    "In Jupyter Notebooks, you can do something with a variable in one block, then use it in another, but make sure you run the blocks in the order you want to. "
   ]
  },
  {
   "cell_type": "markdown",
   "metadata": {},
   "source": [
    "## Comments\n",
    "\n",
    "If you put a # in code, it just tells python to ignore all the stuff that comes after it. This is called a comment, and is to make notes for people reading your code. "
   ]
  },
  {
   "cell_type": "markdown",
   "metadata": {},
   "source": [
    "## Data Structures\n",
    "<ul>\n",
    "    <li> numbers </li>\n",
    "    <li> strings </li>\n",
    "    <li> booleans </li>\n",
    "    <li> arrays </li>\n",
    "</ul>\n",
    "There are many other structures but they're not as common. \n",
    "\n",
    "#### Numbers\n",
    "\n",
    "These are pretty intuitive. You can perform the typical operations of ```+```, ```-```, ```*```, and ```/```. Also, ```**``` is exponentiation, and ```&``` gives remainders.\n",
    "\n",
    "Python doesn't distinguish between integers and most other numbers, so you can do things like this fine: "
   ]
  },
  {
   "cell_type": "code",
   "execution_count": 4,
   "metadata": {},
   "outputs": [
    {
     "data": {
      "text/plain": [
       "103.50010001"
      ]
     },
     "execution_count": 4,
     "metadata": {},
     "output_type": "execute_result"
    }
   ],
   "source": [
    "1 + 2.5 + (1/10000) + 1e-8 + 10**2"
   ]
  },
  {
   "cell_type": "markdown",
   "metadata": {},
   "source": [
    "#### Booleans\n",
    "There are two possible booleans: True and False. They have operations ```and```, ```or```, and ```not```."
   ]
  },
  {
   "cell_type": "code",
   "execution_count": 5,
   "metadata": {},
   "outputs": [
    {
     "data": {
      "text/plain": [
       "False"
      ]
     },
     "execution_count": 5,
     "metadata": {},
     "output_type": "execute_result"
    }
   ],
   "source": [
    "thisIsTrue = True\n",
    "notThisOne = False\n",
    "thisIsTrue and notThisOne    # and only returns True if both of its arguments are true. "
   ]
  },
  {
   "cell_type": "markdown",
   "metadata": {},
   "source": [
    "There are some operations on integers that return booleans. These are ```==```, which returns True iff the things on either side are equal, and ```>```, ```<```, ```>=```, ```<=```."
   ]
  },
  {
   "cell_type": "code",
   "execution_count": 6,
   "metadata": {},
   "outputs": [
    {
     "name": "stdout",
     "output_type": "stream",
     "text": [
      "True\n",
      "False\n"
     ]
    }
   ],
   "source": [
    "print(1 + 1 == 2)\n",
    "print(1 + 3 == 'hello')"
   ]
  },
  {
   "cell_type": "markdown",
   "metadata": {},
   "source": [
    "#### List\n",
    "These are how you store lots of variables in a sequence. \n",
    "\n",
    "You can make a list with brackets, and you can get individual items of the list with brackets, like so: "
   ]
  },
  {
   "cell_type": "code",
   "execution_count": 7,
   "metadata": {},
   "outputs": [
    {
     "name": "stdout",
     "output_type": "stream",
     "text": [
      "1\n",
      "2\n"
     ]
    }
   ],
   "source": [
    "myList = [1, 2, 3, 4, 5]  \n",
    "\n",
    "print(myList[0])\n",
    "print(myList[1])"
   ]
  },
  {
   "cell_type": "markdown",
   "metadata": {},
   "source": [
    "Note that ```myList[0]``` gives the first element of the list! Lists are indexed starting from 0. So ```myList[1]``` gives the second element, ```myList[2]``` gives the third, and so on.\n",
    "\n",
    "You can also change individual elements of your list. "
   ]
  },
  {
   "cell_type": "code",
   "execution_count": 8,
   "metadata": {},
   "outputs": [
    {
     "data": {
      "text/plain": [
       "[1, 42, 3, 4, 5]"
      ]
     },
     "execution_count": 8,
     "metadata": {},
     "output_type": "execute_result"
    }
   ],
   "source": [
    "myList[1] = 42\n",
    "myList"
   ]
  },
  {
   "cell_type": "markdown",
   "metadata": {},
   "source": [
    "If you want to make your list longer, you can use the ```append``` function. You can also add two lists together, which will just put the elements of one after the elements of the other. \n",
    "\n",
    "Multiplying lists by an integer is like iterated addition. "
   ]
  },
  {
   "cell_type": "code",
   "execution_count": 27,
   "metadata": {},
   "outputs": [
    {
     "name": "stdout",
     "output_type": "stream",
     "text": [
      "[0, 1, 2, 3, 4, 5, 6, 7, 6, 6]\n",
      "[0, 1, 2, 3, 4, 5, 6, 7, 6, 6, 7, 8, 9, 7, 8, 9]\n"
     ]
    }
   ],
   "source": [
    "myList.append(6)\n",
    "print(myList)\n",
    "\n",
    "mySecondList = [7, 8, 9] * 2\n",
    "myBigList = myList + mySecondList\n",
    "print(myBigList)"
   ]
  },
  {
   "cell_type": "markdown",
   "metadata": {},
   "source": [
    "Finally, ```len()```, which gives you the length of a list, will come in handy."
   ]
  },
  {
   "cell_type": "code",
   "execution_count": 10,
   "metadata": {},
   "outputs": [
    {
     "name": "stdout",
     "output_type": "stream",
     "text": [
      "6\n",
      "9\n"
     ]
    }
   ],
   "source": [
    "print( len(myList) )\n",
    "print( len(myBigList ))"
   ]
  },
  {
   "cell_type": "markdown",
   "metadata": {},
   "source": [
    "#### Strings\n",
    "Strings can hold things like words or sentences. In python, you make a string by surrounding characters with single or double quotes. \n"
   ]
  },
  {
   "cell_type": "code",
   "execution_count": 11,
   "metadata": {},
   "outputs": [
    {
     "data": {
      "text/plain": [
       "'hi'"
      ]
     },
     "execution_count": 11,
     "metadata": {},
     "output_type": "execute_result"
    }
   ],
   "source": [
    "\"hi\"  "
   ]
  },
  {
   "cell_type": "markdown",
   "metadata": {},
   "source": [
    "They behave like lists of characters, except that you're not allowed to change individual characters: "
   ]
  },
  {
   "cell_type": "code",
   "execution_count": 12,
   "metadata": {},
   "outputs": [
    {
     "name": "stdout",
     "output_type": "stream",
     "text": [
      "r\n",
      "bruhmoment\n"
     ]
    }
   ],
   "source": [
    "myString = \"bruh\"\n",
    "print(myString[1])\n",
    "\n",
    "myOtherString = 'moment'\n",
    "# myOtherString[1] = 'b'    (this wouldn't run!)\n",
    "myBigString = myString + myOtherString\n",
    "print(myBigString)\n"
   ]
  },
  {
   "cell_type": "markdown",
   "metadata": {},
   "source": [
    "## Control Flow\n",
    "\n",
    "So far we've just seen programs that run line by line downward. We can do more than that, though! We'll cover: \n",
    "<ul> \n",
    "    <li> if </li>\n",
    "    <li> while </li>\n",
    "    <li> for </li>\n",
    "</ul>\n",
    "\n",
    "#### if\n",
    "\n",
    "```if``` statements look like this: "
   ]
  },
  {
   "cell_type": "code",
   "execution_count": 13,
   "metadata": {},
   "outputs": [
    {
     "name": "stdout",
     "output_type": "stream",
     "text": [
      "It's 1!\n"
     ]
    }
   ],
   "source": [
    "x = 1\n",
    "if (x == 1):              # x==1 returns True\n",
    "    print(\"It's 1!\")      # so this runs\n",
    "\n",
    "if (x == 2):              # x==2 returns False\n",
    "    print(\"It's 2!\")      # so this doesn't run"
   ]
  },
  {
   "cell_type": "markdown",
   "metadata": {},
   "source": [
    "First, python evaluates what's in the parentheses. If that's ```True```, it will run the indented block. Otherwise, it'll skip over those lines of code. \n",
    "\n",
    "There's also ```else```, which you can put after an ```if```. It only runs if the ```if``` was false. "
   ]
  },
  {
   "cell_type": "code",
   "execution_count": 14,
   "metadata": {},
   "outputs": [
    {
     "name": "stdout",
     "output_type": "stream",
     "text": [
      "my dude, this is not 2.\n"
     ]
    }
   ],
   "source": [
    "if (x == 2):\n",
    "    print(\"It's 2!\")\n",
    "else:\n",
    "    print(\"my dude, this is not 2.\")"
   ]
  },
  {
   "cell_type": "markdown",
   "metadata": {},
   "source": [
    "#### while\n",
    "```while``` is a loop. It runs the indented block of code forever, as long as the condition in the parentheses is ```True```. "
   ]
  },
  {
   "cell_type": "code",
   "execution_count": 15,
   "metadata": {},
   "outputs": [
    {
     "name": "stdout",
     "output_type": "stream",
     "text": [
      "1\n",
      "2\n",
      "3\n",
      "4\n"
     ]
    }
   ],
   "source": [
    "x = 1          \n",
    "while (x < 5):   # this starts out true... \n",
    "    print(x)     # this is run\n",
    "    x = x + 1    # this sets x to its previous value plus one. So eventually, x becomes greater than 5 and the loop stops\n",
    "    \n",
    "# y = 1\n",
    "# while (y < 5):   # this would always be true\n",
    "#     print(y)     # so this would run forever (bad!)"
   ]
  },
  {
   "cell_type": "markdown",
   "metadata": {},
   "source": [
    "#### for\n",
    "```for``` is also a loop, but it runs through lists, and is generally more behaved. "
   ]
  },
  {
   "cell_type": "code",
   "execution_count": 16,
   "metadata": {},
   "outputs": [
    {
     "name": "stdout",
     "output_type": "stream",
     "text": [
      "hello\n",
      "this\n",
      "is\n",
      "python\n"
     ]
    }
   ],
   "source": [
    "myList = [\"hello\", \"this\", \"is\", \"python\"]\n",
    "for word in myList:\n",
    "    print(word)"
   ]
  },
  {
   "cell_type": "markdown",
   "metadata": {},
   "source": [
    "It's often useful to use ```for``` along with ```len``` and ```range```. ```range(n)``` for an integer n produces a list of numbers up to n. "
   ]
  },
  {
   "cell_type": "code",
   "execution_count": 17,
   "metadata": {},
   "outputs": [
    {
     "name": "stdout",
     "output_type": "stream",
     "text": [
      "[0, 1, 2, 3, 4, 5, 6, 7]\n"
     ]
    }
   ],
   "source": [
    "myList = [0, 0, 0, 0, 69, 0, 0, 0]\n",
    "\n",
    "for index in range(len(myList)):    # range(len(myList)) would be range(8) in this case, which would be [0, 1, 2, 3, 4, 5, 6, 7]\n",
    "    myList[index] = index           # this would set each entry of myList to its index. \n",
    "        \n",
    "print(myList)"
   ]
  },
  {
   "cell_type": "markdown",
   "metadata": {},
   "source": [
    "## Functions"
   ]
  },
  {
   "cell_type": "markdown",
   "metadata": {},
   "source": [
    "Functions take inputs and return outputs, like math functions. Here's an example of a function we declare and then call: "
   ]
  },
  {
   "cell_type": "code",
   "execution_count": 18,
   "metadata": {},
   "outputs": [
    {
     "name": "stdout",
     "output_type": "stream",
     "text": [
      "the add function was called!\n",
      "5\n"
     ]
    }
   ],
   "source": [
    "def add(x, y):\n",
    "    print('the add function was called!')\n",
    "    return (x + y)\n",
    "\n",
    "z = add(2, 3)\n",
    "print(z)"
   ]
  },
  {
   "cell_type": "markdown",
   "metadata": {},
   "source": [
    "The declaration of the function is ```def``` followed by the name of the function, which you choose. Then, in parentheses, are the names of the inputs, in this case, ```x``` and ```y```. These names are used within the function's body, the indented part. \n",
    "\n",
    "When you call the function ```add()``` on the fourth line, you need to specify the inputs, here, 2 and 3. Then all the lines inside the function are run. \n",
    "\n",
    "This function has a ```return```, which is what ```add(2, 3)``` evaluates to, and so that's what is put into ```z```. In this case, since ```(x + y)``` is 5, the function returns 5, and so on the fifth line, ```add(2, 3)``` is evaluated as 5. \n",
    "\n",
    "The inputs don't necessarily have to be in the same order. You can also call a function and specify which input is which, like so: "
   ]
  },
  {
   "cell_type": "code",
   "execution_count": 29,
   "metadata": {},
   "outputs": [
    {
     "data": {
      "text/plain": [
       "[3, 3, 3, 3, 3, 3, 3]"
      ]
     },
     "execution_count": 29,
     "metadata": {},
     "output_type": "execute_result"
    }
   ],
   "source": [
    "def repeatNum(number, length):  #this function makes a list that's \"times\" long, and each entry is \"number\". \n",
    "    return [number]*length\n",
    "\n",
    "repeatNum(length=7, number=3)"
   ]
  },
  {
   "cell_type": "markdown",
   "metadata": {},
   "source": [
    "We've already seen a bunch of functions. \n",
    "\n",
    "```len()``` is a function that's included with python which takes a list and returns an integer. \n",
    "\n",
    "```.append()``` is a function of a list that takes anything and tacks it onto the end of the list. It doesn't return anything. Meaning that ```x = myList.append(3)``` would modify myList, but the variable x wouldn't have anything in it. \n",
    "\n",
    "```print()``` is a function that doesn't return anything, but displays the input for you to see. It doesn't return anything. "
   ]
  },
  {
   "cell_type": "markdown",
   "metadata": {},
   "source": [
    "### Packages"
   ]
  },
  {
   "cell_type": "markdown",
   "metadata": {},
   "source": [
    "Doing things is hard, and other people have probably done whatever you're trying to do. To take advantage of this, we import code. "
   ]
  },
  {
   "cell_type": "code",
   "execution_count": 19,
   "metadata": {},
   "outputs": [
    {
     "data": {
      "text/plain": [
       "2.0"
      ]
     },
     "execution_count": 19,
     "metadata": {},
     "output_type": "execute_result"
    }
   ],
   "source": [
    "import math\n",
    "\n",
    "math.sqrt(4)"
   ]
  },
  {
   "cell_type": "markdown",
   "metadata": {},
   "source": [
    "There's no square root function in python, so we have to import a library called `math`, which is a collection of useful functions that we can now call. You can find exactly what's contained in `math` by looking up the Python documentation for it. \n",
    "\n",
    "`math` is a bunch of code in the standard python library, so all you have to do is import it. All its contents were installed somewhere on your computer along with python. Some packages aren't necessarily pre-installed, though. \n",
    "\n",
    "There's a program called pip that is installed with python. You can use it to install pretty much any python package that you find online that you might want to use. Open up a terminal (bash, Command Prompt, whatever) and type \"pip install \" followed by the name of the package you want to install. Once it's installed, just add the corresponding `import` line in whatever python file you want to use it. \n",
    "\n",
    "We'll be using these packages pretty extensively in these workshops and for projects. You can install them now: \n",
    "    `numpy`: gives you linear algebra and lots of other math stuff <br>\n",
    "    `matplotlib`: plots graphs <br>\n",
    "    `pandas`: data analysis tools <br>\n",
    "    `scikit-learn`: machine learning <br> \n",
    "    `keras`: deep learning <br>\n",
    "    `tensorflow`: deep learning <br>\n",
    "    \n",
    "If you ever get an error saying that you imported something that doesn't exist, you can try `pip install`ing it.\n",
    "\n",
    "Here's an example of what stuff we'll be doing looks like: "
   ]
  },
  {
   "cell_type": "code",
   "execution_count": 22,
   "metadata": {},
   "outputs": [
    {
     "name": "stdout",
     "output_type": "stream",
     "text": [
      "[0.99244289 0.00755711]\n",
      "[6.30061232 0.54980396]\n"
     ]
    }
   ],
   "source": [
    "# this script does PCA: Principal Component Analysis, which is a linear algebra technique\n",
    "# that takes in data points (X) and gives some useful numbers (explained_variance_ratio_ and singular_values_).\n",
    "\n",
    "import numpy as np                                       # this just means that \"np\" is a shorthand for \"numpy\"\n",
    "from sklearn.decomposition import PCA                    # imports a specific function called PCA from the decomposition part of scikitlearn\n",
    "\n",
    "X = np.array([[-1, -1], [-2, -1], [-3, -2], [1, 1], [2, 1], [3, 2]])       # declares an array (numpy's data structure) with some input data\n",
    "pca = PCA(n_components=2)                        # PCA produces something called pca which will actually do the principal component analysis\n",
    "    \n",
    "pca.fit(X)                                  # runs the analysis on the input data X, which modifies pca\n",
    "\n",
    "print(pca.explained_variance_ratio_)        # the products of the analysis are in pca, which are accessed using pca.whatever\n",
    "print(pca.singular_values_)  "
   ]
  },
  {
   "cell_type": "markdown",
   "metadata": {},
   "source": [
    "We don't expect you to get this completely yet! But understanding and creating code like this is essentially what machine learning implementation is. "
   ]
  }
 ],
 "metadata": {
  "kernelspec": {
   "display_name": "Python 3",
   "language": "python",
   "name": "python3"
  },
  "language_info": {
   "codemirror_mode": {
    "name": "ipython",
    "version": 3
   },
   "file_extension": ".py",
   "mimetype": "text/x-python",
   "name": "python",
   "nbconvert_exporter": "python",
   "pygments_lexer": "ipython3",
   "version": "3.7.1"
  }
 },
 "nbformat": 4,
 "nbformat_minor": 2
}
